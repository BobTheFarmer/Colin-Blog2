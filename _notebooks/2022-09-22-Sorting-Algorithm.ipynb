{
 "cells": [
  {
   "cell_type": "markdown",
   "metadata": {},
   "source": [
    "# Sorting Algorithm\n",
    "> Regular post that uses HTML fragments and JavaScript data to build a table)\n",
    "- categories: [week6,ipynb,javascript]\n",
    "- comments: true\n",
    "- permalink: /sortingAlgorithm\n"
   ]
  },
  {
   "cell_type": "code",
   "execution_count": 5,
   "metadata": {},
   "outputs": [
    {
     "ename": "ReferenceError",
     "evalue": "logItType is not defined",
     "output_type": "error",
     "traceback": [
      "evalmachine.<anonymous>:19",
      "logItType(data);  ",
      "^",
      "",
      "ReferenceError: logItType is not defined",
      "    at evalmachine.<anonymous>:19:1",
      "    at Script.runInThisContext (vm.js:96:20)",
      "    at Object.runInThisContext (vm.js:303:38)",
      "    at run ([eval]:1020:15)",
      "    at onRunRequest ([eval]:864:18)",
      "    at onMessage ([eval]:828:13)",
      "    at process.emit (events.js:182:13)",
      "    at emit (internal/child_process.js:812:12)",
      "    at process._tickCallback (internal/process/next_tick.js:63:19)"
     ]
    }
   ],
   "source": [
    "//Define data\n",
    "function Data(name, github, fastpages) {\n",
    "    this.name = name;\n",
    "    this.git = github;\n",
    "    this.fastpages = fastpages;\n",
    "}\n",
    "\n",
    "Data.prototype.setRole = function(role) {\n",
    "    this.role = role;\n",
    "}\n",
    "Data.prototype.toJSON = function() {\n",
    "    const obj = {name: this.name, github: this.github, fastpages: this.fastpages};\n",
    "    const json = JSON.stringify(obj);\n",
    "    return json;\n",
    "}\n",
    "\n",
    "//Make a new data\n",
    "var data = new Data(\"test\", \"test\", \"test\");\n",
    "\n",
    "logItType(data);  \n",
    "logItType(data.toJSON()); \n",
    "\n"
   ]
  }
 ],
 "metadata": {
  "kernelspec": {
   "display_name": "JavaScript (Node.js)",
   "language": "javascript",
   "name": "javascript"
  },
  "language_info": {
   "file_extension": ".js",
   "mimetype": "application/javascript",
   "name": "javascript",
   "version": "10.13.0"
  },
  "orig_nbformat": 4,
  "vscode": {
   "interpreter": {
    "hash": "b0fa6594d8f4cbf19f97940f81e996739fb7646882a419484c72d19e05852a7e"
   }
  }
 },
 "nbformat": 4,
 "nbformat_minor": 2
}
