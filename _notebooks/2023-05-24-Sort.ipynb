{
 "cells": [
  {
   "attachments": {},
   "cell_type": "markdown",
   "metadata": {},
   "source": [
    "# Sorting algorithm"
   ]
  },
  {
   "cell_type": "code",
   "execution_count": 7,
   "metadata": {},
   "outputs": [
    {
     "name": "stdout",
     "output_type": "stream",
     "text": [
      "[ { likes: 200 }, { likes: 1 }, { likes: -2 } ]\n"
     ]
    }
   ],
   "source": [
    "function sort(posts) {\n",
    "    for (let i = 0; i < posts.length - 1; i++) {\n",
    "      for (let j = 0; j < posts.length - i - 1; j++) {\n",
    "        if (posts[j].likes < posts[j + 1].likes) {\n",
    "          let temp = posts[j];\n",
    "          posts[j] = posts[j + 1];\n",
    "          posts[j + 1] = temp;\n",
    "        }\n",
    "      }\n",
    "    }\n",
    "    return posts\n",
    "  }\n",
    "\n",
    "console.log(sort([{\"likes\":200}, {\"likes\": -2}, {\"likes\": 1}]));"
   ]
  }
 ],
 "metadata": {
  "kernelspec": {
   "display_name": "JavaScript (Node.js)",
   "language": "javascript",
   "name": "javascript"
  },
  "language_info": {
   "file_extension": ".js",
   "mimetype": "application/javascript",
   "name": "javascript",
   "version": "10.13.0"
  },
  "orig_nbformat": 4
 },
 "nbformat": 4,
 "nbformat_minor": 2
}
