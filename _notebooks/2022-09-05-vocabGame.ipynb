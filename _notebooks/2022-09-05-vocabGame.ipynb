{
 "cells": [
  {
   "cell_type": "markdown",
   "metadata": {},
   "source": [
    "# Vocabulary Game\n",
    "> Using python, random ints, and dict to make a vocabulary test game"
   ]
  },
  {
   "cell_type": "code",
   "execution_count": 5,
   "metadata": {},
   "outputs": [
    {
     "name": "stdout",
     "output_type": "stream",
     "text": [
      "Which word matches this definition or example: \n",
      "Template definition of the methods and variables in a particular kind of object\n",
      "Correct! Score: 1\n",
      "Which word matches this definition or example: \n",
      "Used to hold multiple values under nonlinear indexes\n",
      "Correct! Score: 2\n",
      "Which word matches this definition or example: \n",
      "Template definition of the methods and variables in a particular kind of object\n",
      "Incorrect! The correct answer was Class, Final score: 2\n"
     ]
    }
   ],
   "source": [
    "from random import randint\n",
    "\n",
    "#Variables\n",
    "score = 0\n",
    "playing = True\n",
    "\n",
    "#Define a list of possible words and definitions\n",
    "wordDict = {\n",
    "    0: \"Argument\",\n",
    "    1: \"List\",\n",
    "    2: \"Index\",\n",
    "    3: \"Block\",\n",
    "    4: \"Break\",\n",
    "    5: \"Class\",\n",
    "    6: \"Bug\",\n",
    "    7: \"Code\",\n",
    "    8: \"Python\",\n",
    "    9: \"Def\",\n",
    "    10: \"Dictionary\"\n",
    "}\n",
    "\n",
    "defDict = {\n",
    "    0: \"A value that is passed between programs, subroutines or functions\",\n",
    "    1: \"Used to hold multiple values under linear indexes\",\n",
    "    2: \"Where a value is in a list/array\",\n",
    "    3: \"Structure of source code which is grouped together\",\n",
    "    4: \"Used to stop a loop\",\n",
    "    5: \"Template definition of the methods and variables in a particular kind of object\",\n",
    "    6: \"A mistake in a program\",\n",
    "    7: \"Program instructions\",\n",
    "    8: \"Coding language that this is written in\",\n",
    "    9: \"Used to define a method\",\n",
    "    10: \"Used to hold multiple values under nonlinear indexes\"\n",
    "}\n",
    "\n",
    "while playing:\n",
    "    index = randint(0, 10)\n",
    "    print(\"Which word matches this definition or example: \\n\" + defDict.get(index))\n",
    "    guess = input()\n",
    "    if(guess == wordDict.get(index)):\n",
    "        score+=1\n",
    "        print(\"Correct! Score: \" + str(score))\n",
    "    else: \n",
    "        print(\"Incorrect! The correct answer was \" + wordDict.get(index) + \", Final score: \" + str(score))\n",
    "        playing = False\n",
    "    \n",
    "    "
   ]
  }
 ],
 "metadata": {
  "kernelspec": {
   "display_name": "Python 3.10.6 64-bit",
   "language": "python",
   "name": "python3"
  },
  "language_info": {
   "codemirror_mode": {
    "name": "ipython",
    "version": 3
   },
   "file_extension": ".py",
   "mimetype": "text/x-python",
   "name": "python",
   "nbconvert_exporter": "python",
   "pygments_lexer": "ipython3",
   "version": "3.10.6"
  },
  "orig_nbformat": 4,
  "vscode": {
   "interpreter": {
    "hash": "b0fa6594d8f4cbf19f97940f81e996739fb7646882a419484c72d19e05852a7e"
   }
  }
 },
 "nbformat": 4,
 "nbformat_minor": 2
}
