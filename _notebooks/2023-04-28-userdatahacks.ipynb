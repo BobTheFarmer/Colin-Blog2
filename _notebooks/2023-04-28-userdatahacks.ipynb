{
 "cells": [
  {
   "attachments": {},
   "cell_type": "markdown",
   "metadata": {},
   "source": [
    "# Database hacks and extra"
   ]
  },
  {
   "cell_type": "code",
   "execution_count": 3,
   "metadata": {},
   "outputs": [
    {
     "name": "stdout",
     "output_type": "stream",
     "text": [
      "[(1, 'Joe', 3.9, 12345, 4), (3, 'Charlie', 4.0, 13579, 5), (4, 'Fred', 3.8, 12345, 4), (5, 'Bob', 3.5, 67890, 5), (6, 'Joesph', 4.0, 13579, 5), (7, 'Fred', 3.8, 12345, 4), (8, 'Bob', 3.5, 67890, 5), (9, 'Joesph', 4.0, 13579, 5)]\n",
      "[(1, 'Joe', 3.9, 12345, 4), (3, 'Charlie', 4.0, 13579, 5), (4, 'Fred', 3.8, 12345, 4), (5, 'Bob', 3.5, 67890, 5), (6, 'Joesph', 4.0, 13579, 5), (7, 'Fred', 3.8, 12345, 4), (8, 'Bob', 3.5, 67890, 5), (9, 'Joesph', 4.0, 13579, 5)]\n"
     ]
    }
   ],
   "source": [
    "import sqlite3\n",
    "\n",
    "def create_connection():\n",
    "    conn = sqlite3.connect('model.db')\n",
    "    return conn\n",
    "\n",
    "def create_table(conn):\n",
    "    cursor = conn.cursor()\n",
    "    cursor.execute('''\n",
    "        CREATE TABLE IF NOT EXISTS students (\n",
    "            id INTEGER PRIMARY KEY AUTOINCREMENT,\n",
    "            name TEXT NOT NULL,\n",
    "            gpa REAL NOT NULL,\n",
    "            student_id INTEGER NOT NULL,\n",
    "            ap_score INTEGER NOT NULL\n",
    "        )\n",
    "    ''')\n",
    "    conn.commit()\n",
    "\n",
    "def create_student(conn, name, gpa, student_id, ap_score):\n",
    "    cursor = conn.cursor()\n",
    "    cursor.execute('INSERT INTO students (name, gpa, student_id, ap_score) VALUES (?, ?, ?, ?)', (name, gpa, student_id, ap_score))\n",
    "    conn.commit()\n",
    "\n",
    "def read_students(conn):\n",
    "    cursor = conn.cursor()\n",
    "    cursor.execute('SELECT * FROM students')\n",
    "    return cursor.fetchall()\n",
    "\n",
    "def update_student(conn, id, name, gpa, student_id, ap_score):\n",
    "    cursor = conn.cursor()\n",
    "    cursor.execute('UPDATE students SET name = ?, gpa = ?, student_id = ?, ap_score = ? WHERE id = ?', (name, gpa, student_id, ap_score, id))\n",
    "    conn.commit()\n",
    "\n",
    "def delete_student(conn, id):\n",
    "    cursor = conn.cursor()\n",
    "    cursor.execute('DELETE FROM students WHERE id = ?', (id,))\n",
    "    conn.commit()\n",
    "\n",
    "# Examples:\n",
    "conn = create_connection()\n",
    "create_table(conn)\n",
    "create_student(conn, 'Fred', 3.8, 12345, 4)\n",
    "create_student(conn, 'Bob', 3.5, 67890, 5)\n",
    "create_student(conn,'Joesph', 4.0, 13579, 5)\n",
    "print(read_students(conn))\n",
    "update_student(conn, 1,'Joe', 3.9 ,12345 ,4)\n",
    "delete_student(conn ,2)\n",
    "print(read_students(conn))\n",
    "conn.close()\n"
   ]
  },
  {
   "attachments": {},
   "cell_type": "markdown",
   "metadata": {},
   "source": [
    "# Extra: Quiz on Defining classes and creating objects and Property decorators"
   ]
  },
  {
   "attachments": {},
   "cell_type": "markdown",
   "metadata": {},
   "source": [
    "  <head>\n",
    "    <style>\n",
    "      /* Styles for buttons */\n",
    "      .button {\n",
    "        width: 200px;\n",
    "        height: 50px;\n",
    "        font-size: 14px;\n",
    "        border: none;\n",
    "        margin-bottom: 10px;\n",
    "      }\n",
    "      .correct {\n",
    "        background-color: green;\n",
    "        color: white;\n",
    "      }\n",
    "      .incorrect {\n",
    "        background-color: red;\n",
    "        color: white;\n",
    "      }\n",
    "    </style>\n",
    "  </head>\n",
    "<div id=\"quiz\">\n",
    "  - What is a class?\n",
    "    <div class=\"row\">\n",
    "      <button class=\"button\" onclick=\"this.classList.add('incorrect')\">A function that returns an object</button>\n",
    "      <button class=\"button\" onclick=\"this.classList.add('correct')\">A blueprint for creating objects</button>\n",
    "      <button class=\"button\" onclick=\"this.classList.add('incorrect')\">A type of variable</button>\n",
    "      <button class=\"button\" onclick=\"this.classList.add('incorrect')\">A method that creates an object</button>\n",
    "    </div>\n",
    "  - How do you create an object from a class?\n",
    "    <div class=\"row\">\n",
    "      <button class=\"button\" onclick=\"this.classList.add('incorrect')\">By calling the class like a function with the `new` keyword</button>\n",
    "      <button class=\"button\" onclick=\"this.classList.add('correct')\">By calling the class like a function without the `new` keyword</button>\n",
    "      <button class=\"button\" onclick=\"this.classList.add('incorrect')\">By assigning the class to a variable</button>\n",
    "      <button class=\"button\" onclick=\"this.classList.add('incorrect')\">By using the `create` method on the class</button>\n",
    "    </div>\n",
    "  - What is a property decorator?\n",
    "    <div class=\"row\">\n",
    "      <button class=\"button\" onclick=\"this.classList.add('incorrect')\">A way to define methods in a class</button>\n",
    "      <button class=\"button\" onclick=\"this.classList.add('correct')\">A way to define getter and setter methods for a class attribute</button>\n",
    "      <button class=\"button\" onclick=\"this.classList.add('incorrect')\">A way to define static methods in a class</button>\n",
    "      <button class=\"button\" onclick=\"this.classList.add('incorrect')\">A way to define class methods in a class</button>\n",
    "    </div>\n",
    "- What is a class method?\n",
    "    <div class=\"row\">\n",
    "      <button class=\"button\" onclick=\"this.classList.add('incorrect')\">A method that can only be called on an instance of a class</button>\n",
    "      <button class=\"button\" onclick=\"this.classList.add('correct')\">A method that is bound to the class and not the instance of the class</button>\n",
    "      <button class=\"button\" onclick=\"this.classList.add('incorrect')\">A method that can only be called on the class itself</button>\n",
    "      <button class=\"button\" onclick=\"this.classList.add('incorrect')\">A method that is not bound to the class or the instance of the class</button>\n",
    "    </div>\n",
    "  - What is a static method?\n",
    "    <div class=\"row\">\n",
    "      <button class=\"button\" onclick=\"this.classList.add('incorrect')\">A method that can only be called on an instance of a class</button>\n",
    "      <button class=\"button\" onclick=\"this.classList.add('incorrect')\">A method that is bound to the class and not the instance of the class</button>\n",
    "      <button class=\"button\" onclick=\"this.classList.add('incorrect')\">A method that can only be called on the class itself</button>\n",
    "      <button class=\"button\" onclick=\"this.classList.add('correct')\">A method that is not bound to the class or the instance of the class</button>\n",
    "    </div>"
   ]
  }
 ],
 "metadata": {
  "kernelspec": {
   "display_name": "base",
   "language": "python",
   "name": "python3"
  },
  "language_info": {
   "codemirror_mode": {
    "name": "ipython",
    "version": 3
   },
   "file_extension": ".py",
   "mimetype": "text/x-python",
   "name": "python",
   "nbconvert_exporter": "python",
   "pygments_lexer": "ipython3",
   "version": "3.9.12"
  },
  "orig_nbformat": 4,
  "vscode": {
   "interpreter": {
    "hash": "92622de78724a0b6533709e1b7b07818927a6a7a537ba30401b557d67989a90c"
   }
  }
 },
 "nbformat": 4,
 "nbformat_minor": 2
}
