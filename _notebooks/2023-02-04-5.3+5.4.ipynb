{
 "cells": [
  {
   "attachments": {},
   "cell_type": "markdown",
   "metadata": {},
   "source": [
    "# 5.3 + 5.4 Hacks"
   ]
  },
  {
   "attachments": {},
   "cell_type": "markdown",
   "metadata": {},
   "source": [
    "# 5.3 and 5.4"
   ]
  },
  {
   "attachments": {},
   "cell_type": "markdown",
   "metadata": {},
   "source": [
    "- 5.3\n",
    "What does computing bias entail? Computing bias is the term used to describe a computer algorithm or piece of software that unfairly favors one input or population over another. This could have occurred by chance or on purpose. One example of computational bias is the HP facial recognition algorithm, which works better on people with lighter skin tones. This is probably because they haven't worked with people who have darker skin tones before.\n",
    "\n",
    "- 5.4\n",
    "It was not made on purpose, It can only recognize white faces because it was developed using only data from white people. Another justification for closing the digital divide is the possibility that problems like these wouldn't occur as frequently if everyone had access to computers. Fixing this is necessary because, also. \n",
    "\n",
    "In conclusion, computing bias is a big problem that happens when their is not enough diversity in the testing. This caused the 'racism' and it was not on purpose \n",
    "<html>\n",
    "  </style>\n",
    "  </head>\n",
    "  <body>\n",
    "  <div id=\"quiz\">\n",
    "    <div class=\"row\">\n",
    "      Which are common causes of computing bias?\n",
    "      <button class=\"button\" onclick=\"this.classList.add('incorrect')\">Racist executives</button>\n",
    "      <button class=\"button\" onclick=\"this.classList.add('correct')\">A lack of diversity in the testing and development groups</button>\n",
    "      <button class=\"button\" onclick=\"this.classList.add('incorrect')\">Too many developers</button>\n",
    "      <button class=\"button\" onclick=\"this.classList.add('correct')\">Not enough testing to test all potential problems</button>\n",
    "    </div>\n",
    "    HP made the computers racist on purpose?\n",
    "    <div class=\"row\">\n",
    "      <button class=\"True\" onclick=\"this.classList.add('incorrect')\">Pretending to be someone else online</button>\n",
    "      <button class=\"False\" onclick=\"this.classList.add('correct')\">Being authentic and true to yourself online</button>\n",
    "    </div>\n",
    "  </div>\n",
    "  </body>\n",
    "</html>"
   ]
  }
 ],
 "metadata": {
  "kernelspec": {
   "display_name": "Python 3",
   "language": "python",
   "name": "python3"
  },
  "language_info": {
   "name": "python",
   "version": "3.10.9"
  },
  "orig_nbformat": 4,
  "vscode": {
   "interpreter": {
    "hash": "b0fa6594d8f4cbf19f97940f81e996739fb7646882a419484c72d19e05852a7e"
   }
  }
 },
 "nbformat": 4,
 "nbformat_minor": 2
}
