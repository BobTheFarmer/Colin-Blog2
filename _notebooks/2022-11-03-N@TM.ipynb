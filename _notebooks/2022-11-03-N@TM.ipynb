{
 "cells": [
  {
   "cell_type": "markdown",
   "metadata": {},
   "source": [
    "# N@TM!\n",
    "> Night at the museum final blog\n",
    "- categories: [ipynb]\n",
    "- comments: true\n",
    "- toc: true"
   ]
  },
  {
   "cell_type": "markdown",
   "metadata": {},
   "source": [
    "# test\n",
    "## test2\n",
    "## 3\n",
    "# 1B\n",
    "## 2B"
   ]
  }
 ],
 "metadata": {
  "language_info": {
   "name": "python"
  },
  "orig_nbformat": 4
 },
 "nbformat": 4,
 "nbformat_minor": 2
}
