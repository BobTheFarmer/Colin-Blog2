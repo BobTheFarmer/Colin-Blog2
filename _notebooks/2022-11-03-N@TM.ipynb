{
 "cells": [
  {
   "cell_type": "markdown",
   "metadata": {},
   "source": [
    "# N@TM!\n",
    "> Night at the museum final blog\n",
    "- categories: [ipynb]\n",
    "- comments: true\n",
    "- toc: true"
   ]
  },
  {
   "cell_type": "markdown",
   "metadata": {},
   "source": [
    "# What is N@TM (and this blog)?\n",
    "\n",
    "\n",
    "![](my_icons/NATM2.png)\n",
    "\n",
    "N@TM stands for N@TM, and is an event hosted by Del Norte, where you can view art from all sorts of classes. In this blog I will go over some of the art and projects I saw from different classes during my visit, organized by class. I will also go over my new inspiration"
   ]
  },
  {
   "cell_type": "markdown",
   "metadata": {},
   "source": [
    "# Classes\n",
    "\n",
    "## 3D Animation\n",
    "![](my_icons/NATM4.png)\n",
    "3D Animation is a very cool class and I liked looking at the art. It was interesting because of the variety 3D animation allows. There were all sorts of art, like:\n",
    "- Realism\n",
    "- Abstract \n",
    "- A mix between both\n",
    "It was also cool because it is another class that deals with computers\n",
    "\n",
    "## Visual Arts\n",
    "![](my_icons/NATM1.png)\n",
    "![](my_icons/NATM3.png)\n",
    "![](my_icons/NATM5.png)\n",
    "![](my_icons/NATM6.png)\n",
    "Visual arts was the class I spent the longest in excluding computers science. The glorious pieces brought life back into my eyes as the sun does to a young buck. I was in we; all these amazing youthful colors like a rainbow in the mist of the florida marsh. I think this was great day for all whom walk this dear earth and for all whom shall walk in the days that shall come. The feeling, it's hard to describe, but it's that a buck as I would need to walk the sun and eat the moon. I hope they will remember this. I will. I will as a buck shall. I will. I won't, but I will remember. I will watch the florida marsh sun set upon our great nation cheese. I shall because I will because I must because of this day.\n",
    "\n",
    "## Computer Science\n",
    "\n"
   ]
  }
 ],
 "metadata": {
  "language_info": {
   "name": "python"
  },
  "orig_nbformat": 4
 },
 "nbformat": 4,
 "nbformat_minor": 2
}
