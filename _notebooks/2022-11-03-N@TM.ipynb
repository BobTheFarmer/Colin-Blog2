{
 "cells": [
  {
   "cell_type": "markdown",
   "metadata": {},
   "source": [
    "# N@TM and CB final!\n",
    "> Night at the museum final blog\n",
    "- categories: [ipynb]\n",
    "- comments: true\n",
    "- toc: true"
   ]
  },
  {
   "attachments": {},
   "cell_type": "markdown",
   "metadata": {},
   "source": [
    "# What is N@TM, the CB final, and this blog?\n",
    "\n",
    "\n",
    "![](my_icons/NATM2.png)\n",
    "\n",
    "N@TM stands for N@TM, and is an event hosted by Del Norte, where you can view art from all sorts of classes. In this blog I will go over some of the art and projects I saw from different classes during my visit, organized by class. I will also go over my new inspiration. Finally, I will blog about the AP exam and what need to change in the future."
   ]
  },
  {
   "cell_type": "markdown",
   "metadata": {},
   "source": [
    "# N@TM\n",
    "\n",
    "## 3D Animation\n",
    "\n",
    "3D Animation is a very cool class and I liked looking at the art. It was interesting because of the variety 3D animation allows. There were all sorts of art, like:\n",
    "- Realism\n",
    "- Abstract \n",
    "- A mix between both\n",
    "It was also cool because it is another class that deals with computers\n",
    "\n",
    "## Visual Arts\n",
    "\n",
    "\n",
    "Visual arts was the class I spent the longest in excluding computers science. The art was very impressive and I enjoyed this section a lot. This art inspired me to be more thoghtful in my work for this class.\n",
    "\n",
    "## Computer Science\n",
    "\n",
    "The various computer science projects that other groups made were very cool and impressive. One of my favorite projects was Code hoots. It had random computer science questions that the user got to answer. The project was very polished, you could even make an account and the buttons had custom animations. This project in particular inspires me to be more careful with my projects in the future.\n",
    "\n",
    "## Images\n",
    "![](my_icons/NATM1.png)\n",
    "![](my_icons/NATM3.png)\n",
    "![](my_icons/NATM4.png)\n",
    "![](my_icons/NATM5.png)\n",
    "![](my_icons/NATM6.png)\n"
   ]
  },
  {
   "cell_type": "markdown",
   "metadata": {},
   "source": [
    "# College board final corrections\n",
    "\n",
    "I got a 41/50 on this test. Here is what I did wrong and should change next time:\n",
    "\n",
    "## Missed questions\n",
    "> Feedback from CB on each missed question\n",
    "\n",
    "### Question #5\n",
    "Information about which restaurants Brandon and Cynthia have visited in the past is not needed. Restaurants are recommended based on whether they can accommodate all allergies and dietary restrictions, not based on whether group members have been there before.\n",
    "### Question #16\n",
    "Messages are broken into as many packets as are needed to transmit the data. Each packet contains both data and metadata.\n",
    "### Question #18\n",
    "The Internet is not a data stream.\n",
    "### Question #22\n",
    "Binary 0110 is equivalent to 2^2+21.\n",
    "### Question #24\n",
    "Binary 1101 is equivalent to decimal 13 and should be placed after decimal 12.\n",
    "### Question #35\n",
    "This code segment assigns maxPS the value 50 when time > 120 and assigns maxPS the value 30 otherwise.\n",
    "### Question #37\n",
    "This code segment assigns both variables the original value of num1.\n",
    "### Question #43\n",
    "This would be the value of result if the loop iterated one less time.\n",
    "### Question #44\n",
    "The remainder when 23 is divided by 4 is 3, so 23 MOD 4 is equal to 3.\n",
    "\n",
    "## Reflection\n",
    "\n",
    "From this feedback, I think there are three misunderstandings/problems that I have: binary, the internet, and going to fast/not understanding directions.\n",
    "To fix this, I am going to go back to the previous CB videos and re-learn the internet and binary. I am also going to go slower and make sure that I understand the directions on future assignments. Specifically, I got questions 16 and 18 wrong because of my limited understanding of the internet. However, I was able to get some other questions correct about the internet, so it is only specific details which I forgot. For binary, questions 22 and 24 were missed. Again, I need to go back over what I don't understand in CB. Finally I the rest of the questions I got wrong were because I did not read the directions/code correctly. In the future, I will dedicate more time to reading the directions and get better at comprehending code"
   ]
  }
 ],
 "metadata": {
  "kernelspec": {
   "display_name": "Python 3.10.6 64-bit",
   "language": "python",
   "name": "python3"
  },
  "language_info": {
   "name": "python",
   "version": "3.10.9"
  },
  "orig_nbformat": 4,
  "vscode": {
   "interpreter": {
    "hash": "b0fa6594d8f4cbf19f97940f81e996739fb7646882a419484c72d19e05852a7e"
   }
  }
 },
 "nbformat": 4,
 "nbformat_minor": 2
}
