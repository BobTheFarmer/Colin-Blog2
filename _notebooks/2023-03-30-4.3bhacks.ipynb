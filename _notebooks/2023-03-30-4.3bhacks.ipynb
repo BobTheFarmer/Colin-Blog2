{
 "cells": [
  {
   "attachments": {},
   "cell_type": "markdown",
   "metadata": {},
   "source": [
    "# Taylor Swift Album "
   ]
  },
  {
   "attachments": {},
   "cell_type": "markdown",
   "metadata": {},
   "source": [
    "# Imports, dict and simple functions"
   ]
  },
  {
   "cell_type": "code",
   "execution_count": 40,
   "metadata": {},
   "outputs": [],
   "source": [
    "import http.client\n",
    "import json\n",
    "\n",
    "folklore_album = {\n",
    "    \"title\": \"Folklore\",\n",
    "    \"artist\": \"Taylor Swift\",\n",
    "    \"year\": 2020,\n",
    "    \"genre\": [\"Indie Folk\", \"Alternative\"],\n",
    "    \"tracks\": {\n",
    "        1: \"the 1\",\n",
    "        2: \"cardigan\",\n",
    "        3: \"the last great american dynasty\",\n",
    "        4: \"exile (feat. Bon Iver)\",\n",
    "        5: \"my tears ricochet\",\n",
    "        6: \"mirrorball\",\n",
    "        7: \"seven\",\n",
    "        8: \"august\",\n",
    "        9: \"this is me trying\",\n",
    "        10: \"illicit affairs\",\n",
    "        11: \"invisible string\",\n",
    "        12: \"mad woman\",\n",
    "        13: \"epiphany\",\n",
    "        14: \"betty\",\n",
    "        15: \"peace\",\n",
    "        16: \"hoax\"\n",
    "    }\n",
    "}\n",
    "\n",
    "def searchbyvalue(dict, searchvalue):\n",
    "    for k,v in dict.items():\n",
    "        if(v == searchvalue):\n",
    "            return k\n",
    "    return \"404\""
   ]
  },
  {
   "cell_type": "code",
   "execution_count": 77,
   "metadata": {},
   "outputs": [
    {
     "name": "stdout",
     "output_type": "stream",
     "text": [
      "Fetching data for \"invisible string\"...\n",
      "{\"tracks\":{\"hits\":[{\"track\":{\"layout\":\"5\",\"type\":\"MUSIC\",\"key\":\"531326521\",\"title\":\"invisible string\",\"subtitle\":\"Taylor Swift\",\"share\":{\"subject\":\"invisible string - Taylor Swift\",\"text\":\"I used Shazam to discover invisible string by Taylor Swift.\",\"href\":\"https://www.shazam.com/track/531326521/invisible-string\",\"image\":\"https://is4-ssl.mzstatic.com/image/thumb/Music125/v4/7c/04/ba/7c04ba17-2ff8-21b3-0ac0-7d141f86e924/20UMGIM64216.rgb.jpg/400x400cc.jpg\",\"twitter\":\"I used @Shazam to discover invisible string by Taylor Swift.\",\"html\":\"https://www.shazam.com/snippets/email-share/531326521?lang=en-US&country=US\",\"avatar\":\"https://is4-ssl.mzstatic.com/image/thumb/AMCArtistImages112/v4/a0/4f/3e/a04f3ec4-4476-1a80-6a3e-6b3641251099/8988402d-d267-4dee-bc51-881135b2ab58_ami-identity-994af5c375f4c3aa96cd6ced4a700799-2022-10-12T00-51-40.037Z_cropped.png/800x800cc.jpg\",\"snapchat\":\"https://www.shazam.com/partner/sc/track/531326521\"},\"images\":{\"background\":\"https://is4-ssl.mzstatic.com/image/thumb/AMCArtistImages112/v4/a0/4f/3e/a04f3ec4-4476-1a80-6a3e-6b3641251099/8988402d-d267-4dee-bc51-881135b2ab58_ami-identity-994af5c375f4c3aa96cd6ced4a700799-2022-10-12T00-51-40.037Z_cropped.png/800x800cc.jpg\",\"coverart\":\"https://is4-ssl.mzstatic.com/image/thumb/Music125/v4/7c/04/ba/7c04ba17-2ff8-21b3-0ac0-7d141f86e924/20UMGIM64216.rgb.jpg/400x400cc.jpg\",\"coverarthq\":\"https://is4-ssl.mzstatic.com/image/thumb/Music125/v4/7c/04/ba/7c04ba17-2ff8-21b3-0ac0-7d141f86e924/20UMGIM64216.rgb.jpg/400x400cc.jpg\",\"joecolor\":\"b:c6c6c6p:000000s:070707t:272727q:2d2d2d\"},\"hub\":{\"type\":\"APPLEMUSIC\",\"image\":\"https://images.shazam.com/static/icons/hub/ios/v5/applemusic_{scalefactor}.png\",\"actions\":[{\"name\":\"apple\",\"type\":\"applemusicplay\",\"id\":\"1524793912\"},{\"name\":\"apple\",\"type\":\"uri\",\"uri\":\"https://audio-ssl.itunes.apple.com/itunes-assets/AudioPreview122/v4/a1/87/15/a18715d8-f2cd-596e-e8a4-a82a704b8b47/mzaf_13129101478644143446.plus.aac.ep.m4a\"}],\"options\":[{\"caption\":\"OPEN\",\"actions\":[{\"name\":\"hub:applemusic:deeplink\",\"type\":\"applemusicopen\",\"uri\":\"https://music.apple.com/us/album/invisible-string/1524793738?i=1524793912&mttnagencyid=s2n&mttnsiteid=125115&mttn3pid=Apple-Shazam&mttnsub1=Shazam_ios&mttnsub2=5348615A-616D-3235-3830-44754D6D5973&itscg=30201&app=music&itsct=Shazam_ios\"},{\"name\":\"hub:applemusic:deeplink\",\"type\":\"uri\",\"uri\":\"https://music.apple.com/us/album/invisible-string/1524793738?i=1524793912&mttnagencyid=s2n&mttnsiteid=125115&mttn3pid=Apple-Shazam&mttnsub1=Shazam_ios&mttnsub2=5348615A-616D-3235-3830-44754D6D5973&itscg=30201&app=music&itsct=Shazam_ios\"}],\"beacondata\":{\"type\":\"open\",\"providername\":\"applemusic\"},\"image\":\"https://images.shazam.com/static/icons/hub/ios/v5/overflow-open-option_{scalefactor}.png\",\"type\":\"open\",\"listcaption\":\"Open in Apple Music\",\"overflowimage\":\"https://images.shazam.com/static/icons/hub/ios/v5/applemusic-overflow_{scalefactor}.png\",\"colouroverflowimage\":false,\"providername\":\"applemusic\"},{\"caption\":\"BUY\",\"actions\":[{\"type\":\"uri\",\"uri\":\"https://itunes.apple.com/us/album/invisible-string/1524793738?i=1524793912&mttnagencyid=s2n&mttnsiteid=125115&mttn3pid=Apple-Shazam&mttnsub1=Shazam_ios&mttnsub2=5348615A-616D-3235-3830-44754D6D5973&itscg=30201&app=itunes&itsct=Shazam_ios\"}],\"beacondata\":{\"type\":\"buy\",\"providername\":\"itunes\"},\"image\":\"https://images.shazam.com/static/icons/hub/ios/v5/itunes-overflow-buy_{scalefactor}.png\",\"type\":\"buy\",\"listcaption\":\"Buy on iTunes\",\"overflowimage\":\"https://images.shazam.com/static/icons/hub/ios/v5/itunes-overflow-buy_{scalefactor}.png\",\"colouroverflowimage\":false,\"providername\":\"itunes\"}],\"providers\":[{\"caption\":\"Open in Spotify\",\"images\":{\"overflow\":\"https://images.shazam.com/static/icons/hub/ios/v5/spotify-overflow_{scalefactor}.png\",\"default\":\"https://images.shazam.com/static/icons/hub/ios/v5/spotify_{scalefactor}.png\"},\"actions\":[{\"name\":\"hub:spotify:searchdeeplink\",\"type\":\"uri\",\"uri\":\"spotify:search:invisible%20string%20Taylor%20Swift\"}],\"type\":\"SPOTIFY\"},{\"caption\":\"Open in Deezer\",\"images\":{\"overflow\":\"https://images.shazam.com/static/icons/hub/ios/v5/deezer-overflow_{scalefactor}.png\",\"default\":\"https://images.shazam.com/static/icons/hub/ios/v5/deezer_{scalefactor}.png\"},\"actions\":[{\"name\":\"hub:deezer:searchdeeplink\",\"type\":\"uri\",\"uri\":\"deezer-query://www.deezer.com/play?query=%7Btrack%3A%27invisible+string%27%20artist%3A%27Taylor+Swift%27%7D\"}],\"type\":\"DEEZER\"}],\"explicit\":false,\"displayname\":\"APPLE MUSIC\"},\"artists\":[{\"id\":\"42\",\"adamid\":\"159260351\"}],\"url\":\"https://www.shazam.com/track/531326521/invisible-string\"}},{\"track\":{\"layout\":\"5\",\"type\":\"MUSIC\",\"key\":\"546856943\",\"title\":\"invisible string (the long pond studio sessions)\",\"subtitle\":\"Taylor Swift\",\"share\":{\"subject\":\"invisible string (the long pond studio sessions) - Taylor Swift\",\"text\":\"I used Shazam to discover invisible string (the long pond studio sessions) by Taylor Swift.\",\"href\":\"https://www.shazam.com/track/546856943/invisible-string-the-long-pond-studio-sessions\",\"image\":\"https://is1-ssl.mzstatic.com/image/thumb/Music114/v4/0f/a0/14/0fa0144d-6cd5-792a-1589-3e1f0c25db49/20UM1IM08851.rgb.jpg/400x400cc.jpg\",\"twitter\":\"I used @Shazam to discover invisible string (the long pond studio sessions) by Taylor Swift.\",\"html\":\"https://www.shazam.com/snippets/email-share/546856943?lang=en-US&country=US\",\"avatar\":\"https://is4-ssl.mzstatic.com/image/thumb/AMCArtistImages112/v4/a0/4f/3e/a04f3ec4-4476-1a80-6a3e-6b3641251099/8988402d-d267-4dee-bc51-881135b2ab58_ami-identity-994af5c375f4c3aa96cd6ced4a700799-2022-10-12T00-51-40.037Z_cropped.png/800x800cc.jpg\",\"snapchat\":\"https://www.shazam.com/partner/sc/track/546856943\"},\"images\":{\"background\":\"https://is4-ssl.mzstatic.com/image/thumb/AMCArtistImages112/v4/a0/4f/3e/a04f3ec4-4476-1a80-6a3e-6b3641251099/8988402d-d267-4dee-bc51-881135b2ab58_ami-identity-994af5c375f4c3aa96cd6ced4a700799-2022-10-12T00-51-40.037Z_cropped.png/800x800cc.jpg\",\"coverart\":\"https://is1-ssl.mzstatic.com/image/thumb/Music114/v4/0f/a0/14/0fa0144d-6cd5-792a-1589-3e1f0c25db49/20UM1IM08851.rgb.jpg/400x400cc.jpg\",\"coverarthq\":\"https://is1-ssl.mzstatic.com/image/thumb/Music114/v4/0f/a0/14/0fa0144d-6cd5-792a-1589-3e1f0c25db49/20UM1IM08851.rgb.jpg/400x400cc.jpg\",\"joecolor\":\"b:9e9e9ep:070707s:141414t:252525q:303030\"},\"hub\":{\"type\":\"APPLEMUSIC\",\"image\":\"https://images.shazam.com/static/icons/hub/ios/v5/applemusic_{scalefactor}.png\",\"actions\":[{\"name\":\"apple\",\"type\":\"applemusicplay\",\"id\":\"1541905157\"},{\"name\":\"apple\",\"type\":\"uri\",\"uri\":\"https://audio-ssl.itunes.apple.com/itunes-assets/AudioPreview112/v4/3c/99/3c/3c993c2a-ff9c-ac34-6df7-4878967e1838/mzaf_930437212633585116.plus.aac.ep.m4a\"}],\"options\":[{\"caption\":\"OPEN\",\"actions\":[{\"name\":\"hub:applemusic:deeplink\",\"type\":\"applemusicopen\",\"uri\":\"https://music.apple.com/us/album/invisible-string-the-long-pond-studio-sessions/1541904688?i=1541905157&mttnagencyid=s2n&mttnsiteid=125115&mttn3pid=Apple-Shazam&mttnsub1=Shazam_ios&mttnsub2=5348615A-616D-3235-3830-44754D6D5973&itscg=30201&app=music&itsct=Shazam_ios\"},{\"name\":\"hub:applemusic:deeplink\",\"type\":\"uri\",\"uri\":\"https://music.apple.com/us/album/invisible-string-the-long-pond-studio-sessions/1541904688?i=1541905157&mttnagencyid=s2n&mttnsiteid=125115&mttn3pid=Apple-Shazam&mttnsub1=Shazam_ios&mttnsub2=5348615A-616D-3235-3830-44754D6D5973&itscg=30201&app=music&itsct=Shazam_ios\"}],\"beacondata\":{\"type\":\"open\",\"providername\":\"applemusic\"},\"image\":\"https://images.shazam.com/static/icons/hub/ios/v5/overflow-open-option_{scalefactor}.png\",\"type\":\"open\",\"listcaption\":\"Open in Apple Music\",\"overflowimage\":\"https://images.shazam.com/static/icons/hub/ios/v5/applemusic-overflow_{scalefactor}.png\",\"colouroverflowimage\":false,\"providername\":\"applemusic\"},{\"caption\":\"BUY\",\"actions\":[{\"type\":\"uri\",\"uri\":\"https://itunes.apple.com/us/album/invisible-string-the-long-pond-studio-sessions/1541904688?i=1541905157&mttnagencyid=s2n&mttnsiteid=125115&mttn3pid=Apple-Shazam&mttnsub1=Shazam_ios&mttnsub2=5348615A-616D-3235-3830-44754D6D5973&itscg=30201&app=itunes&itsct=Shazam_ios\"}],\"beacondata\":{\"type\":\"buy\",\"providername\":\"itunes\"},\"image\":\"https://images.shazam.com/static/icons/hub/ios/v5/itunes-overflow-buy_{scalefactor}.png\",\"type\":\"buy\",\"listcaption\":\"Buy on iTunes\",\"overflowimage\":\"https://images.shazam.com/static/icons/hub/ios/v5/itunes-overflow-buy_{scalefactor}.png\",\"colouroverflowimage\":false,\"providername\":\"itunes\"}],\"providers\":[{\"caption\":\"Open in Spotify\",\"images\":{\"overflow\":\"https://images.shazam.com/static/icons/hub/ios/v5/spotify-overflow_{scalefactor}.png\",\"default\":\"https://images.shazam.com/static/icons/hub/ios/v5/spotify_{scalefactor}.png\"},\"actions\":[{\"name\":\"hub:spotify:searchdeeplink\",\"type\":\"uri\",\"uri\":\"spotify:search:invisible%20string%20%28the%20long%20pond%20studio%20sessions%29%20Taylor%20Swift\"}],\"type\":\"SPOTIFY\"},{\"caption\":\"Open in Deezer\",\"images\":{\"overflow\":\"https://images.shazam.com/static/icons/hub/ios/v5/deezer-overflow_{scalefactor}.png\",\"default\":\"https://images.shazam.com/static/icons/hub/ios/v5/deezer_{scalefactor}.png\"},\"actions\":[{\"name\":\"hub:deezer:searchdeeplink\",\"type\":\"uri\",\"uri\":\"deezer-query://www.deezer.com/play?query=%7Btrack%3A%27invisible+string+%28the+long+pond+studio+sessions%29%27%20artist%3A%27Taylor+Swift%27%7D\"}],\"type\":\"DEEZER\"}],\"explicit\":false,\"displayname\":\"APPLE MUSIC\"},\"artists\":[{\"id\":\"42\",\"adamid\":\"159260351\"}],\"url\":\"https://www.shazam.com/track/546856943/invisible-string-the-long-pond-studio-sessions\"}}]},\"artists\":{\"hits\":[{\"artist\":{\"avatar\":\"https://is2-ssl.mzstatic.com/image/thumb/AMCArtistImages112/v4/a0/4f/3e/a04f3ec4-4476-1a80-6a3e-6b3641251099/8988402d-d267-4dee-bc51-881135b2ab58_ami-identity-994af5c375f4c3aa96cd6ced4a700799-2022-10-12T00-51-40.037Z_cropped.png/800x800bb.jpg\",\"name\":\"Taylor Swift\",\"verified\":false,\"weburl\":\"https://music.apple.com/us/artist/taylor-swift/159260351\",\"adamid\":\"159260351\"}},{\"artist\":{\"avatar\":\"https://is3-ssl.mzstatic.com/image/thumb/Music122/v4/5f/1f/52/5f1f52ce-8d7e-2047-6ea9-f9fdc22b6465/5028386021025.png/800x800ac.jpg\",\"name\":\"The Invisible String Quartet\",\"verified\":false,\"weburl\":\"https://music.apple.com/us/artist/the-invisible-string-quartet/424422205\",\"adamid\":\"424422205\"}}]}}\n"
     ]
    }
   ],
   "source": [
    "def fetchdata(songname):\n",
    "    urlsongname = \"\"\n",
    "\n",
    "    for char in songname:\n",
    "        if char != ' ':\n",
    "            urlsongname += char\n",
    "        else:\n",
    "            urlsongname+= '%'\n",
    "\n",
    "    conn = http.client.HTTPSConnection(\"shazam.p.rapidapi.com\")\n",
    "\n",
    "    headers = {\n",
    "        'X-RapidAPI-Key': \"c0a73cc90fmshdc3d44c5a5834b9p18a538jsn06680b483b06\",\n",
    "        'X-RapidAPI-Host': \"shazam.p.rapidapi.com\"\n",
    "        }\n",
    "\n",
    "    conn.request(\"GET\", \"/search?term=\" + urlsongname + \"&locale=en-US&offset=0&limit=5\", headers=headers)\n",
    "\n",
    "    res = conn.getresponse()\n",
    "    data = res.read()\n",
    "\n",
    "    return(data.decode(\"utf-8\"))\n",
    "\n",
    "def getsongid(songname):\n",
    "    conn = http.client.HTTPSConnection(\"shazam.p.rapidapi.com\")\n",
    "\n",
    "    headers = {\n",
    "        'X-RapidAPI-Key': \"SIGN-UP-FOR-KEY\",\n",
    "        'X-RapidAPI-Host': \"shazam.p.rapidapi.com\"\n",
    "        }\n",
    "\n",
    "    conn.request(\"GET\", \"/search?term=kiss%20the%20rain&locale=en-US&offset=0&limit=5\", headers=headers)\n",
    "\n",
    "    res = conn.getresponse()\n",
    "    data = res.read()\n",
    "\n",
    "    print(data.decode(\"utf-8\"))\n",
    "\n",
    "def main():\n",
    "    query = input(\"What would you like to know about the album?\")\n",
    "    # print(folklore_album[\"tracks\"].get(int(query)))\n",
    "    queryFetched = folklore_album[\"tracks\"].get(searchbyvalue(folklore_album[\"tracks\"], query))\n",
    "    if queryFetched == None:\n",
    "        print(\"Invalid Search;\\nTry searching one of the following: \", end=\"\")\n",
    "        for k,v in folklore_album[\"tracks\"].items():\n",
    "            print(v, end=\", \")\n",
    "    else:\n",
    "        print(\"Fetching data for \\\"\"  + queryFetched + \"\\\"...\")\n",
    "        data = fetchdata(queryFetched)\n",
    "        print(data)\n",
    "\n",
    "main()"
   ]
  }
 ],
 "metadata": {
  "kernelspec": {
   "display_name": "base",
   "language": "python",
   "name": "python3"
  },
  "language_info": {
   "codemirror_mode": {
    "name": "ipython",
    "version": 3
   },
   "file_extension": ".py",
   "mimetype": "text/x-python",
   "name": "python",
   "nbconvert_exporter": "python",
   "pygments_lexer": "ipython3",
   "version": "3.9.12"
  },
  "orig_nbformat": 4
 },
 "nbformat": 4,
 "nbformat_minor": 2
}
