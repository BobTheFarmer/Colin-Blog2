{
 "cells": [
  {
   "cell_type": "markdown",
   "metadata": {},
   "source": [
    "# Using Bash!\n",
    "> Using bash to help organize your computer by making school folders\n"
   ]
  },
  {
   "cell_type": "code",
   "execution_count": 30,
   "metadata": {
    "vscode": {
     "languageId": "shellscript"
    }
   },
   "outputs": [
    {
     "name": "stdout",
     "output_type": "stream",
     "text": [
      "Directory /Users/colin/school exists.\n",
      "bash: syntax error near unexpected token `fi'\n",
      "/Users/colin/school\n",
      "total 0\n",
      "drwxr-xr-x   2 colin  staff    64 Aug 26 15:43 .\n",
      "drwxr-xr-x+ 48 colin  staff  1536 Aug 26 15:43 ..\n"
     ]
    }
   ],
   "source": [
    "school=$HOME/school\n",
    "\n",
    "cd\n",
    "if [ ! -d $school ]\n",
    "then \n",
    "    echo \"making $school\"\n",
    "    mkdir -p $school\n",
    "fi\n",
    "    echo \"Directory $school exists.\"\n",
    "fi\n",
    "\n",
    "cd school\n",
    "pwd\n",
    "ls -al .\n",
    "\n",
    "\n",
    "\n",
    "\n",
    "\n"
   ]
  },
  {
   "cell_type": "code",
   "execution_count": 26,
   "metadata": {
    "vscode": {
     "languageId": "shellscript"
    }
   },
   "outputs": [
    {
     "name": "stdout",
     "output_type": "stream",
     "text": [
      "bash: export: `=/Users/colin/school': not a valid identifier\n",
      "mkdir: test12321q: No such file or directory\n",
      "Directory  exists.\n",
      "bash: export: `=/Users/colin/computerScience': not a valid identifier\n",
      "Directory  exists.\n"
     ]
    }
   ],
   "source": [
    "\n",
    "if [ ! -d $school ]\n",
    "then \n",
    "    echo \"making $school\"\n",
    "    mkdir -p $school\n",
    "fi\n",
    "    echo \"Directory $school exists.\"\n",
    "\n",
    "\n",
    "\n",
    "\n",
    "\n",
    "\n",
    "export $cs=$HOME/computerScience\n",
    "\n",
    "if [ ! -d $cs ]\n",
    "then \n",
    "    echo \"making $cs\"\n",
    "    mkdir -p $cs\n",
    "fi\n",
    "    echo \"Directory $cs exists.\""
   ]
  }
 ],
 "metadata": {
  "kernelspec": {
   "display_name": "Bash",
   "language": "bash",
   "name": "bash"
  },
  "language_info": {
   "codemirror_mode": "shell",
   "file_extension": ".sh",
   "mimetype": "text/x-sh",
   "name": "bash"
  },
  "orig_nbformat": 4,
  "vscode": {
   "interpreter": {
    "hash": "b0fa6594d8f4cbf19f97940f81e996739fb7646882a419484c72d19e05852a7e"
   }
  }
 },
 "nbformat": 4,
 "nbformat_minor": 2
}
