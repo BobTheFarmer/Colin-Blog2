{
 "cells": [
  {
   "cell_type": "markdown",
   "metadata": {},
   "source": [
    "# Weather API\n",
    "> API to get weather by city\n",
    "- categories: [week7,ipynb,python]\n",
    "- comments: true\n",
    "- permalink: /fortniteAPI"
   ]
  },
  {
   "cell_type": "markdown",
   "metadata": {},
   "source": [
    "{% include nav_frontend.html %}"
   ]
  },
  {
   "cell_type": "markdown",
   "metadata": {},
   "source": [
    "# Get the weather in san diego and print it as text"
   ]
  },
  {
   "cell_type": "code",
   "execution_count": 45,
   "metadata": {},
   "outputs": [
    {
     "name": "stdout",
     "output_type": "stream",
     "text": [
      "{\"coord\":{\"lon\":-117.1573,\"lat\":32.7153},\"weather\":[{\"id\":801,\"main\":\"Clouds\",\"description\":\"few clouds\",\"icon\":\"02d\"}],\"base\":\"stations\",\"main\":{\"temp\":73.27,\"feels_like\":74.07,\"temp_min\":68.76,\"temp_max\":81.05,\"pressure\":1017,\"humidity\":80},\"visibility\":10000,\"wind\":{\"speed\":7,\"deg\":254,\"gust\":10},\"clouds\":{\"all\":20},\"dt\":1665604589,\"sys\":{\"type\":2,\"id\":2019527,\"country\":\"US\",\"sunrise\":1665582619,\"sunset\":1665623970},\"timezone\":-25200,\"id\":5391811,\"name\":\"San Diego\",\"cod\":200}\n"
     ]
    }
   ],
   "source": [
    "import requests\n",
    "\n",
    "url = \"https://open-weather13.p.rapidapi.com/city/San Diego\"\n",
    "\n",
    "headers = {\n",
    "\t\"X-RapidAPI-Key\": \"c0a73cc90fmshdc3d44c5a5834b9p18a538jsn06680b483b06\",\n",
    "\t\"X-RapidAPI-Host\": \"open-weather13.p.rapidapi.com\"\n",
    "}\n",
    "\n",
    "response = requests.request(\"GET\", url, headers=headers)\n",
    "\n",
    "print(response.text)"
   ]
  },
  {
   "cell_type": "markdown",
   "metadata": {},
   "source": [
    "# Using JSON and inputs for the user can select a city and category"
   ]
  },
  {
   "cell_type": "code",
   "execution_count": 2,
   "metadata": {},
   "outputs": [
    {
     "name": "stdout",
     "output_type": "stream",
     "text": [
      "What city would you like to see the weather in? (type bye to close)\n",
      "<bound method Kernel.raw_input of <ipykernel.ipkernel.IPythonKernel object at 0x12059eb30>>\n"
     ]
    }
   ],
   "source": [
    "run = True\n",
    "while run:\n",
    "    print(\"What city would you like to see the weather in? (type bye to close)\")\n",
    "    city = input()\n",
    "    print(input)\n",
    "    if(input == \"<bound method Kernel.raw_input of <ipykernel.ipkernel.IPythonKernel object at 0x12059eb30>>\"):\n",
    "        print(\"Bye bye\")\n",
    "        break\n",
    "\n",
    "    # Use input to pull city as json   \n",
    "    import requests\n",
    "\n",
    "    url = \"https://open-weather13.p.rapidapi.com/city/\" + city\n",
    "    headers = {\n",
    "    \"X-RapidAPI-Key\": \"c0a73cc90fmshdc3d44c5a5834b9p18a538jsn06680b483b06\",\n",
    "    \"X-RapidAPI-Host\": \"open-weather13.p.rapidapi.com\"\n",
    "    }\n",
    "    response = requests.request(\"GET\", url, headers=headers)\n",
    "    json = response.json()\n",
    "\n",
    "    # Use another while loop for they can see all categories\n",
    "    run2 = True\n",
    "    while run2:\n",
    "        category = input(\"What category would you like to see the weather in? (type bye to close)\")\n",
    "        if(category == \"bye\"):\n",
    "            print(\"Bye bye\")\n",
    "            break\n",
    "        try:\n",
    "            print(\"Ok, heres data for \" + category + \": \" + json[category])\n",
    "        except:\n",
    "            print(\"Not a valid category\")\n",
    "\n",
    "\n"
   ]
  }
 ],
 "metadata": {
  "kernelspec": {
   "display_name": "Python 3.10.6 64-bit",
   "language": "python",
   "name": "python3"
  },
  "language_info": {
   "codemirror_mode": {
    "name": "ipython",
    "version": 3
   },
   "file_extension": ".py",
   "mimetype": "text/x-python",
   "name": "python",
   "nbconvert_exporter": "python",
   "pygments_lexer": "ipython3",
   "version": "3.10.6"
  },
  "orig_nbformat": 4,
  "vscode": {
   "interpreter": {
    "hash": "b0fa6594d8f4cbf19f97940f81e996739fb7646882a419484c72d19e05852a7e"
   }
  }
 },
 "nbformat": 4,
 "nbformat_minor": 2
}
