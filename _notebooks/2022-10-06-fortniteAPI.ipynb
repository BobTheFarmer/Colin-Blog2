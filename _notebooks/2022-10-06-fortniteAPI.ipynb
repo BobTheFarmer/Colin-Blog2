{
 "cells": [
  {
   "cell_type": "markdown",
   "metadata": {},
   "source": [
    "# Fortnite API!!!111!!!!11!!!!\n",
    "> OMG FORTNITE my favorite game API!1!!\n",
    "- categories: [week7,ipynb,python]\n",
    "- comments: true\n",
    "- permalink: /fortniteAPI"
   ]
  },
  {
   "cell_type": "markdown",
   "metadata": {},
   "source": [
    "{% include nav_frontend.html %}"
   ]
  },
  {
   "cell_type": "markdown",
   "metadata": {},
   "source": [
    "![](my_icons/fortnite.png)"
   ]
  },
  {
   "cell_type": "markdown",
   "metadata": {},
   "source": [
    "# Get data for 'ReadingBarley10 with text formatting: "
   ]
  },
  {
   "cell_type": "code",
   "execution_count": 57,
   "metadata": {},
   "outputs": [
    {
     "name": "stdout",
     "output_type": "stream",
     "text": [
      "{\"lifetime\":{\"all\":{\"all\":{\"placetop1\":0,\"kills\":0,\"winrate\":null,\"kdr\":null,\"killsPerMatch\":null}}},\"season\":{\"all\":{\"all\":{\"placetop1\":0,\"kills\":0,\"winrate\":null,\"kdr\":null,\"killsPerMatch\":null}}},\"user\":{\"id\":\"390b4d976760447fbd33fef0adb1ac21\",\"displayName\":\"ReadingBarley10\",\"externalAuths\":{}}}\n"
     ]
    }
   ],
   "source": [
    "import requests\n",
    "\n",
    "url = \"https://fortnite-api.p.rapidapi.com/stats/ReadingBarley10\"\n",
    "\n",
    "headers = {\n",
    "\t\"X-RapidAPI-Key\": \"c0a73cc90fmshdc3d44c5a5834b9p18a538jsn06680b483b06\",\n",
    "\t\"X-RapidAPI-Host\": \"fortnite-api.p.rapidapi.com\"\n",
    "}\n",
    "\n",
    "response = requests.request(\"GET\", url, headers=headers)\n",
    "\n",
    "print(response.text)"
   ]
  },
  {
   "cell_type": "markdown",
   "metadata": {},
   "source": [
    "# Using JSON to get data for 'ReadingBarley10':"
   ]
  },
  {
   "cell_type": "code",
   "execution_count": 69,
   "metadata": {},
   "outputs": [],
   "source": [
    "import requests\n",
    "\n",
    "url = \"https://fortnite-api.p.rapidapi.com/stats/ReadingBarley10\"\n",
    "\n",
    "headers = {\n",
    "\t\"X-RapidAPI-Key\": \"c0a73cc90fmshdc3d44c5a5834b9p18a538jsn06680b483b06\",\n",
    "\t\"X-RapidAPI-Host\": \"fortnite-api.p.rapidapi.com\"\n",
    "}\n",
    "\n",
    "response = requests.request(\"GET\", url, headers=headers)\n",
    "json = response.json()"
   ]
  },
  {
   "cell_type": "markdown",
   "metadata": {},
   "source": [
    "# Using JSON response to format: "
   ]
  },
  {
   "cell_type": "code",
   "execution_count": 68,
   "metadata": {},
   "outputs": [
    {
     "name": "stdout",
     "output_type": "stream",
     "text": [
      "lifetime: \n",
      "{'all': {'placetop1': 0, 'kills': 0, 'winrate': None, 'kdr': None, 'killsPerMatch': None}}\n",
      "season: \n",
      "{'all': {'placetop1': 0, 'kills': 0, 'winrate': None, 'kdr': None, 'killsPerMatch': None}}\n",
      "user: \n",
      "390b4d976760447fbd33fef0adb1ac21\n",
      "ReadingBarley10\n",
      "{}\n"
     ]
    }
   ],
   "source": [
    "for key in json: \n",
    "    print(key + \": \")\n",
    "    for key2 in json[key]: \n",
    "        print(json[key][key2])\n",
    "            "
   ]
  }
 ],
 "metadata": {
  "kernelspec": {
   "display_name": "Python 3.10.6 64-bit",
   "language": "python",
   "name": "python3"
  },
  "language_info": {
   "codemirror_mode": {
    "name": "ipython",
    "version": 3
   },
   "file_extension": ".py",
   "mimetype": "text/x-python",
   "name": "python",
   "nbconvert_exporter": "python",
   "pygments_lexer": "ipython3",
   "version": "3.10.6"
  },
  "orig_nbformat": 4,
  "vscode": {
   "interpreter": {
    "hash": "b0fa6594d8f4cbf19f97940f81e996739fb7646882a419484c72d19e05852a7e"
   }
  }
 },
 "nbformat": 4,
 "nbformat_minor": 2
}
