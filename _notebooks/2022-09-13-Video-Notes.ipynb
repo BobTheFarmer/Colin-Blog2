{
 "cells": [
  {
   "cell_type": "markdown",
   "metadata": {},
   "source": [
    "# Video and Gratitude\n",
    "> Vocabulary/Notes from the video, note of gratitude, goals, and gratitude list\n",
    "- categories: [week5,ipynb]\n",
    "- comments: true"
   ]
  },
  {
   "cell_type": "markdown",
   "metadata": {},
   "source": [
    "## Video Vocabulary/Notes/Big Ideas\n",
    "\n",
    "- Circumstances of life don't matter as much as we think \n",
    "- Our happiness is not bound by our circumstances\n",
    "- Taking control of our life is hard\n",
    "- Important things to make time for: \n",
    "- Social connections\n",
    "- Gratitude\n",
    "- Helping others\n",
    "- These things are very important and matter a lot\n",
    "- We need to take time to live in the present \n",
    "- In order to do that we have to become 'wealthy' with time\n",
    "\n",
    "## Note of Gratitude \n",
    "\n",
    "I am very grateful for my parents. They have always been very loving and supported me for longer than I can remember. They have always provided for me and I am very grateful for that. \n",
    "\n",
    "## Gratitude List\n",
    "\n",
    "Here is some of the things I am grateful\n",
    "\n",
    "- My parents\n",
    "- We live in a safe place where I can not worry about food or safety\n",
    "- I am able to go to a very good school\n",
    "- I have a secure future because of all of these things\n"
   ]
  }
 ],
 "metadata": {
  "kernelspec": {
   "display_name": "Python 3.10.6 64-bit",
   "language": "python",
   "name": "python3"
  },
  "language_info": {
   "name": "python",
   "version": "3.10.9"
  },
  "orig_nbformat": 4,
  "vscode": {
   "interpreter": {
    "hash": "b0fa6594d8f4cbf19f97940f81e996739fb7646882a419484c72d19e05852a7e"
   }
  }
 },
 "nbformat": 4,
 "nbformat_minor": 2
}
