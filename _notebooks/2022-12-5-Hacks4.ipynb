{
 "cells": [
  {
   "cell_type": "markdown",
   "metadata": {},
   "source": [
    "# Hacks HW 4; My name is Colin Weis\n",
    "- categories: [ipynb]\n",
    "- comments: true"
   ]
  },
  {
   "cell_type": "markdown",
   "metadata": {},
   "source": [
    "# Test\n",
    "![](my_icons/Hacks4test1.png)\n",
    "![](my_icons/Hacks4test2.png)\n",
    "![](my_icons/Hacks4test3.png)\n",
    "![](my_icons/Hacks4test4.png)\n"
   ]
  },
  {
   "cell_type": "markdown",
   "metadata": {},
   "source": [
    "# Reverse the list"
   ]
  },
  {
   "cell_type": "code",
   "execution_count": 12,
   "metadata": {},
   "outputs": [
    {
     "name": "stdout",
     "output_type": "stream",
     "text": [
      "54321\n"
     ]
    }
   ],
   "source": [
    "values = [1, 2, 3, 4, 5];\n",
    "newValues = [];\n",
    "//For the length of the list \n",
    "count = 4;\n",
    "values.forEach(value => { \n",
    "    newValues += values[count];\n",
    "    count-=1;\n",
    "});\n",
    "values = newValues;\n",
    "console.log(values);"
   ]
  },
  {
   "cell_type": "markdown",
   "metadata": {},
   "source": [
    "# Sorting"
   ]
  },
  {
   "cell_type": "code",
   "execution_count": 13,
   "metadata": {},
   "outputs": [
    {
     "name": "stdout",
     "output_type": "stream",
     "text": [
      "Lets sort this random array using bubble sort!\n",
      "Step 0:\n",
      "🟦🟦⬛⬛🟦\n",
      "🟦🟦🟦⬛🟦\n",
      "🟦🟦🟦🟦🟦\n",
      "🟦🟦🟦🟦🟦\n",
      "🟦🟦🟦🟦🟦\n",
      "🟦🟦🟦🟦🟦\n",
      "\n",
      "Step 1:\n",
      "🟦🟦⬛🟦⬛\n",
      "🟦🟦🟦🟦⬛\n",
      "🟦🟦🟦🟦🟦\n",
      "🟦🟦🟦🟦🟦\n",
      "🟦🟦🟦🟦🟦\n",
      "🟦🟦🟦🟦🟦\n",
      "\n",
      "Step 2:\n",
      "🟦🟦🟦⬛⬛\n",
      "🟦🟦🟦🟦⬛\n",
      "🟦🟦🟦🟦🟦\n",
      "🟦🟦🟦🟦🟦\n",
      "🟦🟦🟦🟦🟦\n",
      "🟦🟦🟦🟦🟦\n",
      "\n",
      "The array has been sorted! :)\n"
     ]
    },
    {
     "data": {
      "text/plain": [
       "true"
      ]
     },
     "execution_count": 13,
     "metadata": {},
     "output_type": "execute_result"
    }
   ],
   "source": [
    "sorted = false;\n",
    "values = [9, 8, 4, 3, 5];\n",
    "\n",
    "//Put the set into a holder\n",
    "function ValuesHolder(values) {\n",
    "    this.values = values;\n",
    "}\n",
    "valuesHolder = new ValuesHolder(values);\n",
    "\n",
    "//Displays the values\n",
    "function getDisplayValues() {\n",
    "stringOfValues = \"\";\n",
    "    //Count down from ten\n",
    "    for(let i = 5; i >= 0; i--) {\n",
    "       \n",
    "        //For every value in values check if it is equal to or more than current i to determine box color \n",
    "        values.forEach(value => { \n",
    "            if(value>=i) {\n",
    "                stringOfValues+=\"🟦\"\n",
    "            } else {\n",
    "                stringOfValues+=\"⬛\"\n",
    "            }\n",
    "        });\n",
    "    stringOfValues+=\"\\n\"\n",
    "    }\n",
    "return(stringOfValues);\n",
    "}\n",
    "\n",
    "step = 0;\n",
    "console.log(\"Lets sort this random array using bubble sort!\");\n",
    "while(sorted == false) {\n",
    "    //Update log\n",
    "    console.log(\"Step \" + step + \":\\n\" + getDisplayValues());\n",
    "    step+=1;\n",
    "\n",
    "    //See if the list is sorted using fail\n",
    "    fail = false;\n",
    "\n",
    "    //Go through all pairs in values\n",
    "    for(let i = 0; i<10; i++) {\n",
    "        if(values[i]<values[i+1]) {\n",
    "            fail = true;\n",
    "            //If fail, switch them\n",
    "            var temp = values[i];\n",
    "            values[i] = values[i+1];\n",
    "            values[i+1] = temp;\n",
    "        }\n",
    "    }\n",
    "    //Determine if done or not \n",
    "    if(fail == false) {\n",
    "        console.log(\"The array has been sorted! :)\")\n",
    "        sorted = true;\n",
    "    }\n",
    "}\n",
    "\n"
   ]
  }
 ],
 "metadata": {
  "kernelspec": {
   "display_name": "JavaScript (Node.js)",
   "language": "javascript",
   "name": "javascript"
  },
  "language_info": {
   "file_extension": ".js",
   "mimetype": "application/javascript",
   "name": "javascript",
   "version": "10.13.0"
  },
  "orig_nbformat": 4,
  "vscode": {
   "interpreter": {
    "hash": "b0fa6594d8f4cbf19f97940f81e996739fb7646882a419484c72d19e05852a7e"
   }
  }
 },
 "nbformat": 4,
 "nbformat_minor": 2
}
