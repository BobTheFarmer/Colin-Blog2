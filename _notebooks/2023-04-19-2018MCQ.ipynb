{
 "cells": [
  {
   "attachments": {},
   "cell_type": "markdown",
   "metadata": {},
   "source": [
    "# 2018 Practice MCQ Score and Review"
   ]
  },
  {
   "attachments": {},
   "cell_type": "markdown",
   "metadata": {},
   "source": [
    "![](my_icons/2018MCQ.png)"
   ]
  },
  {
   "attachments": {},
   "cell_type": "markdown",
   "metadata": {},
   "source": [
    "# Mistakes\n",
    "\n",
    "### Question 10\n",
    "The code segment draws a circle centered at the coordinates (7, 2), then moves to the right and up, drawing circles centered at (9, 4) and (11, 6).\n",
    "### Question 16\n",
    "Geolocation data can be accessed by the Web site, which can use this information to provide album reviews from nearby users.\n",
    "### Question 33\n",
    "This expression would be used for a flowchart to set include to true whenever floor is greater than 1 0 and bedrooms equal 3. This does not correctly set include to true in cases where only one of the two conditions is   true.\n",
    "#### Question 46\n",
    "It is not possible to create an algorithm to solve an undecidable problem for all programs and inputs."
   ]
  },
  {
   "attachments": {},
   "cell_type": "markdown",
   "metadata": {},
   "source": [
    "# MCQ Reflection MCQ\n",
    "\n",
    "<html>\n",
    "  <head>\n",
    "    <style>\n",
    "      /* Styles for buttons */\n",
    "      .button {\n",
    "        width: 200px;\n",
    "        height: 50px;\n",
    "        font-size: 14px;\n",
    "        border: none;\n",
    "        margin-bottom: 10px;\n",
    "      }\n",
    "      .correct {\n",
    "        background-color: green;\n",
    "        color: white;\n",
    "      }\n",
    "      .incorrect {\n",
    "        background-color: red;\n",
    "        color: white;\n",
    "      }\n",
    "    </style>\n",
    "  </head>\n",
    "  <body>\n",
    "  <div id=\"quiz\">\n",
    "  - What are some common errors made?\n",
    "    <div class=\"row\">\n",
    "      <button class=\"button\" onclick=\"this.classList.add('incorrect')\">Spending too much time on each question</button>\n",
    "      <button class=\"button\" onclick=\"this.classList.add('correct')\">Not checking the code by going through each step to check answers*!</button>\n",
    "      <button class=\"button\" onclick=\"this.classList.add('incorrect')\">Not considering different perspectives</button>\n",
    "      <button class=\"button\" onclick=\"this.classList.add('correct')\">Not considering other options after finding one that may be correct</button>\n",
    "    </div>\n",
    "  - How could these errors be fixed?\n",
    "    <div class=\"row\">\n",
    "      <button class=\"button\" onclick=\"this.classList.add('incorrect')\">Go faster that way you have more time to check answers</button>\n",
    "      <button class=\"button\" onclick=\"this.classList.add('correct')\">Spend a even amount of time both choosing and reviewing answers</button>\n",
    "    </div>\n",
    "  </div>\n",
    "  </body>\n",
    "</html>"
   ]
  }
 ],
 "metadata": {
  "language_info": {
   "name": "python"
  },
  "orig_nbformat": 4
 },
 "nbformat": 4,
 "nbformat_minor": 2
}
