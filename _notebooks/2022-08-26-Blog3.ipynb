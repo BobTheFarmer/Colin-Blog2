{
 "cells": [
  {
   "cell_type": "markdown",
   "metadata": {},
   "source": [
    "# A quiz using python\n",
    "> Test your knowledge in this dog themed quiz and see what score you can get\n",
    "- categories: [python,week2,ipynb]\n",
    "- comments: true\n",
    "\n",
    "This quiz is dedicated to my super cute dog Ollie{% fn 1 %}"
   ]
  },
  {
   "cell_type": "code",
   "execution_count": 4,
   "metadata": {},
   "outputs": [
    {
     "name": "stdout",
     "output_type": "stream",
     "text": [
      "Enjoy this awesome dog themed quiz! Please answer in all lowercase and don't type out numbers (e.x: Instead of six, 6)\n",
      "For  0  point(s): Practice Question: What color is a golden retriever?)\n",
      "Correct! You guessed gold for 0 point(s), and that is correct! You now have 0 point(s)\n",
      "For  1  point(s): Do dogs sweat?\n",
      "Correct! You guessed no for 1 point(s), and that is correct! You now have 1 point(s)\n",
      "For  1  point(s): (True or false) Some dogs have such a good sense of smell they can smell some medical conditions\n",
      "Correct! You guessed true for 1 point(s), and that is correct! You now have 2 point(s)\n",
      "For  2  point(s): Dogs have the same intelligence as a __ year old human\n",
      "Incorrect. You guessed 1 for 2 point(s), but the correct answer was 2. You still have 2 point(s)\n",
      "For  3  point(s): (True or false) Do dogs have super sensitive ears?\n",
      "Correct! You guessed true for 3 point(s), and that is correct! You now have 5 point(s)\n",
      "For  5  point(s): How many muscles do dogs have in their ears?\n",
      "Incorrect. You guessed 8 for 5 point(s), but the correct answer was 18. You still have 5 point(s)\n",
      "Thanks for playing my quiz! You got 5 point(s)\n"
     ]
    }
   ],
   "source": [
    "print(\"Enjoy this awesome dog themed quiz! Please answer in all lowercase and don't type out numbers (e.x: Instead of six, 6)\")\n",
    "\n",
    "#Define lists of questions, answers and point values\n",
    "questions = [\"Practice Question: What color is a golden retriever?)\", \"Do dogs sweat?\", \"(True or false) Some dogs have such a good sense of smell they can smell some medical conditions\", \"Dogs have the same intelligence as a __ year old human\", \"(True or false) Do dogs have super sensitive ears?\", \"How many muscles do dogs have in their ears?\"]\n",
    "answers = [\"gold\", \"no\", \"true\", \"2\", \"true\", \"18\"]\n",
    "pointValues = [0, 1, 1, 2, 3, 5]\n",
    "\n",
    "#Set some variables\n",
    "indexCounter = 0\n",
    "points = 0\n",
    "\n",
    "#Loop through all questions\n",
    "for question in questions:\n",
    "    print(\"For \", pointValues[indexCounter], \" point(s): \" + question)\n",
    "    guess = str(input())\n",
    "\n",
    "    #If guess is correct, tell the user and give a point, otherwise tell the user the correct answer\n",
    "    if(guess == answers[indexCounter]):\n",
    "        points+=pointValues[indexCounter]\n",
    "        print(\"Correct! You guessed \" + guess + \" for \" + str(pointValues[indexCounter]) + \" point(s), and that is correct! You now have \" + str(points) + \" point(s)\")\n",
    "    else: \n",
    "        print(\"Incorrect. You guessed \" + guess + \" for \" + str(pointValues[indexCounter]) + \" point(s), but the correct answer was \" + answers[indexCounter] + \". You still have \" + str(points) + \" point(s)\")\n",
    "\n",
    "    indexCounter+=1\n",
    "\n",
    "print(\"Thanks for playing my quiz! You got \" + str(points) + \" point(s)\")"
   ]
  },
  {
   "cell_type": "markdown",
   "metadata": {},
   "source": [
    "{{ 'See him below: ' | fndetail: 1 }}\n",
    "![](my_icons/ollie.jpeg)"
   ]
  }
 ],
 "metadata": {
  "kernelspec": {
   "display_name": "Python 3.10.6 64-bit",
   "language": "python",
   "name": "python3"
  },
  "language_info": {
   "codemirror_mode": {
    "name": "ipython",
    "version": 3
   },
   "file_extension": ".py",
   "mimetype": "text/x-python",
   "name": "python",
   "nbconvert_exporter": "python",
   "pygments_lexer": "ipython3",
   "version": "3.10.6"
  },
  "orig_nbformat": 4,
  "vscode": {
   "interpreter": {
    "hash": "b0fa6594d8f4cbf19f97940f81e996739fb7646882a419484c72d19e05852a7e"
   }
  }
 },
 "nbformat": 4,
 "nbformat_minor": 2
}
