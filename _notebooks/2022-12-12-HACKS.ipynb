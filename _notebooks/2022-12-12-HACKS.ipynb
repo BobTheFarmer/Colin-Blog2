{
 "cells": [
  {
   "cell_type": "markdown",
   "metadata": {},
   "source": [
    "# Homework/Hacks for Sections 17-18\n",
    "> Homework/Hacks for Sections 17-18\n",
    "\n",
    "- toc: true \n",
    "- badges: true\n",
    "- comments: true \n",
    "- categories: [jupyter]\n",
    "- author: Shaurya Goel"
   ]
  },
  {
   "cell_type": "markdown",
   "metadata": {},
   "source": [
    "### HACK 1"
   ]
  },
  {
   "attachments": {},
   "cell_type": "markdown",
   "metadata": {},
   "source": [
    "Please write a short 1-2 sentence explanation describing the difference between decidable and undecidable problems. Make sure to provide at least one example of each.\n",
    "\n",
    "A decidable problem is a problem that is possible to determine whether a given solution is correct, while an undecidable problem is a problem that is not possible to determine whether a given solution is correct. An example of a decidable problem is solving an equation, while an example of an undecidable problem is determining whether a given computer program will run forever or halt."
   ]
  },
  {
   "cell_type": "markdown",
   "metadata": {},
   "source": [
    "### HACK 2"
   ]
  },
  {
   "attachments": {},
   "cell_type": "markdown",
   "metadata": {},
   "source": [
    "Which of the following is a 3 step algorithm?\n",
    "\n",
    "A. 2 x 6 x 8\n",
    "\n",
    "B. 4^5\n",
    "\n",
    "C. (3 x 8)^2\n",
    "\n",
    "D. None of the above\n",
    "\n",
    "E. All of the above\n",
    "\n",
    "#### E, A is 2 steps, 2 * 6 then 12 * 8. B is 4 steps because you have to multiply 4 times. C is 2 steps as well, 3 * 8 then 24*24."
   ]
  },
  {
   "cell_type": "markdown",
   "metadata": {},
   "source": [
    "### HACK 3: Rewrite this JavaScript Code in a More Efficient Way (Hint: Use Binary Search)"
   ]
  },
  {
   "attachments": {},
   "cell_type": "markdown",
   "metadata": {},
   "source": [
    "```\n",
    "function peak_finder(array) {\n",
    "  // Find the middle element\n",
    "  let middle = Math.floor(array.length / 2);\n",
    "  \n",
    "  // If the middle element is greater than or equal to its neighbors, it is a peak\n",
    "  if (array[middle] >= array[middle - 1] && array[middle] >= array[middle + 1]) {\n",
    "    return `The ${middle} indexed number, ${array[middle]} is a peak`;\n",
    "  }\n",
    "  // If the middle element is less than its left neighbor, the peak is to the left\n",
    "  else if (array[middle] < array[middle - 1]) {\n",
    "    return peak_finder(array.slice(0, middle));\n",
    "  }\n",
    "  // Otherwise, the peak is to the right\n",
    "  else {\n",
    "    return peak_finder(array.slice(middle + 1));\n",
    "  }\n",
    "}\n",
    "\n",
    "\n",
    "```"
   ]
  },
  {
   "cell_type": "markdown",
   "metadata": {},
   "source": [
    "### HACK 4: Rewrite this Python Code in a More Efficient Way"
   ]
  },
  {
   "cell_type": "code",
   "execution_count": 19,
   "metadata": {},
   "outputs": [
    {
     "ename": "TypeError",
     "evalue": "'>' not supported between instances of 'builtin_function_or_method' and 'int'",
     "output_type": "error",
     "traceback": [
      "\u001b[0;31m---------------------------------------------------------------------------\u001b[0m",
      "\u001b[0;31mTypeError\u001b[0m                                 Traceback (most recent call last)",
      "\u001b[1;32m/Users/colin/vscode/Colin-Blog2/_notebooks/2022-12-12-HACKS.ipynb Cell 9\u001b[0m in \u001b[0;36m<cell line: 19>\u001b[0;34m()\u001b[0m\n\u001b[1;32m     <a href='vscode-notebook-cell:/Users/colin/vscode/Colin-Blog2/_notebooks/2022-12-12-HACKS.ipynb#X11sZmlsZQ%3D%3D?line=18'>19</a>\u001b[0m \u001b[39mif\u001b[39;00m \u001b[39m__name__\u001b[39m \u001b[39m==\u001b[39m \u001b[39m'\u001b[39m\u001b[39m__main__\u001b[39m\u001b[39m'\u001b[39m:\n\u001b[1;32m     <a href='vscode-notebook-cell:/Users/colin/vscode/Colin-Blog2/_notebooks/2022-12-12-HACKS.ipynb#X11sZmlsZQ%3D%3D?line=19'>20</a>\u001b[0m     data \u001b[39m=\u001b[39m [\u001b[39m9\u001b[39m, \u001b[39m1\u001b[39m, \u001b[39m7\u001b[39m, \u001b[39m6\u001b[39m, \u001b[39m2\u001b[39m, \u001b[39m8\u001b[39m, \u001b[39m5\u001b[39m, \u001b[39m3\u001b[39m, \u001b[39m4\u001b[39m, \u001b[39m0\u001b[39m]\n\u001b[0;32m---> <a href='vscode-notebook-cell:/Users/colin/vscode/Colin-Blog2/_notebooks/2022-12-12-HACKS.ipynb#X11sZmlsZQ%3D%3D?line=20'>21</a>\u001b[0m     merge_sort(data)\n\u001b[1;32m     <a href='vscode-notebook-cell:/Users/colin/vscode/Colin-Blog2/_notebooks/2022-12-12-HACKS.ipynb#X11sZmlsZQ%3D%3D?line=21'>22</a>\u001b[0m     \u001b[39mprint\u001b[39m(data)\n",
      "\u001b[1;32m/Users/colin/vscode/Colin-Blog2/_notebooks/2022-12-12-HACKS.ipynb Cell 9\u001b[0m in \u001b[0;36mmerge_sort\u001b[0;34m(data)\u001b[0m\n\u001b[1;32m      <a href='vscode-notebook-cell:/Users/colin/vscode/Colin-Blog2/_notebooks/2022-12-12-HACKS.ipynb#X11sZmlsZQ%3D%3D?line=2'>3</a>\u001b[0m sorted_lst \u001b[39m=\u001b[39m []\n\u001b[1;32m      <a href='vscode-notebook-cell:/Users/colin/vscode/Colin-Blog2/_notebooks/2022-12-12-HACKS.ipynb#X11sZmlsZQ%3D%3D?line=4'>5</a>\u001b[0m \u001b[39m# loop over the unsorted list until it is empty\u001b[39;00m\n\u001b[0;32m----> <a href='vscode-notebook-cell:/Users/colin/vscode/Colin-Blog2/_notebooks/2022-12-12-HACKS.ipynb#X11sZmlsZQ%3D%3D?line=5'>6</a>\u001b[0m \u001b[39mwhile\u001b[39;00m data\u001b[39m.\u001b[39;49mcount \u001b[39m>\u001b[39;49m \u001b[39m0\u001b[39;49m:\n\u001b[1;32m      <a href='vscode-notebook-cell:/Users/colin/vscode/Colin-Blog2/_notebooks/2022-12-12-HACKS.ipynb#X11sZmlsZQ%3D%3D?line=6'>7</a>\u001b[0m     \u001b[39m# find the minimum value in the unsorted list\u001b[39;00m\n\u001b[1;32m      <a href='vscode-notebook-cell:/Users/colin/vscode/Colin-Blog2/_notebooks/2022-12-12-HACKS.ipynb#X11sZmlsZQ%3D%3D?line=7'>8</a>\u001b[0m     min_val \u001b[39m=\u001b[39m \u001b[39mmin\u001b[39m(data)\n\u001b[1;32m     <a href='vscode-notebook-cell:/Users/colin/vscode/Colin-Blog2/_notebooks/2022-12-12-HACKS.ipynb#X11sZmlsZQ%3D%3D?line=9'>10</a>\u001b[0m \u001b[39m# remove the minimum value from the unsorted list\u001b[39;00m\n",
      "\u001b[0;31mTypeError\u001b[0m: '>' not supported between instances of 'builtin_function_or_method' and 'int'"
     ]
    }
   ],
   "source": [
    "def merge_sort(data):\n",
    "    # create a new empty list\n",
    "    sorted_lst = []\n",
    "\n",
    "    # loop over the unsorted list until it is empty\n",
    "    while data.count > 0:\n",
    "        # find the minimum value in the unsorted list\n",
    "        min_val = min(data)\n",
    "\n",
    "    # remove the minimum value from the unsorted list\n",
    "    data.remove(min_val)\n",
    "\n",
    "    # append the minimum value to the sorted list\n",
    "    sorted_lst.append(min_val)\n",
    "\n",
    "  # return the sorted list\n",
    "    data = sorted_lst\n",
    "    \n",
    "if __name__ == '__main__':\n",
    "    data = [9, 1, 7, 6, 2, 8, 5, 3, 4, 0]\n",
    "    merge_sort(data)\n",
    "    print(data)"
   ]
  },
  {
   "cell_type": "markdown",
   "metadata": {},
   "source": [
    "### HACK 5: Rewrite this Python Code in a More Efficient Way"
   ]
  },
  {
   "cell_type": "code",
   "execution_count": 2,
   "metadata": {},
   "outputs": [
    {
     "name": "stdout",
     "output_type": "stream",
     "text": [
      "[1, 2, 3]\n",
      "[2, 1, 3]\n",
      "[3, 1, 2]\n",
      "[1, 3, 2]\n",
      "[2, 3, 1]\n",
      "[3, 2, 1]\n"
     ]
    }
   ],
   "source": [
    "def heap_permutation(data, n):\n",
    "    if n == 1:\n",
    "        print(data)\n",
    "        return\n",
    "    \n",
    "    for i in range(n):\n",
    "        heap_permutation(data, n - 1)\n",
    "        if n % 2 == 0:\n",
    "            data[i], data[n-1] = data[n-1], data[i]\n",
    "        else:\n",
    "            data[0], data[n-1] = data[n-1], data[0]\n",
    "    \n",
    "if __name__ == '__main__':\n",
    "    data = [1, 2, 3]\n",
    "    heap_permutation(data, len(data))"
   ]
  }
 ],
 "metadata": {
  "kernelspec": {
   "display_name": "Python 3",
   "language": "python",
   "name": "python3"
  },
  "language_info": {
   "codemirror_mode": {
    "name": "ipython",
    "version": 3
   },
   "file_extension": ".py",
   "mimetype": "text/x-python",
   "name": "python",
   "nbconvert_exporter": "python",
   "pygments_lexer": "ipython3",
   "version": "3.10.6"
  },
  "orig_nbformat": 4,
  "vscode": {
   "interpreter": {
    "hash": "b0fa6594d8f4cbf19f97940f81e996739fb7646882a419484c72d19e05852a7e"
   }
  }
 },
 "nbformat": 4,
 "nbformat_minor": 2
}
