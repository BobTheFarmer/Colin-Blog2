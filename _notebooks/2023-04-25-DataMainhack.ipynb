{
 "cells": [
  {
   "attachments": {},
   "cell_type": "markdown",
   "metadata": {},
   "source": [
    "#  Petite Pandas Data Analysis Main Hack\n",
    "- toc: true"
   ]
  },
  {
   "cell_type": "code",
   "execution_count": 55,
   "metadata": {},
   "outputs": [],
   "source": [
    "import numpy as np\n",
    "import pandas as pd"
   ]
  },
  {
   "attachments": {},
   "cell_type": "markdown",
   "metadata": {},
   "source": [
    "# Extra: Dataset generator\n",
    "> Uses numpy to make a dataset"
   ]
  },
  {
   "cell_type": "code",
   "execution_count": 56,
   "metadata": {},
   "outputs": [
    {
     "name": "stdout",
     "output_type": "stream",
     "text": [
      "id,name,hoursOnHw,score\n",
      "0,James L. James,3.237205499127559,2\n",
      "1,Thomas F. Willam,1.8866150062581544,3\n",
      "2,Robert L. Willam,3.9336736423431753,5\n",
      "3,Fredrick H. Hunter,3.089383805772319,2\n",
      "4,Thomas C. Willam,1.118440208260399,1\n",
      "5,Hunter L. Leonard,1.413370650835248,2\n",
      "6,Robert C. Hunter,3.4846642778582115,5\n",
      "7,Robert J. Connor,2.2668694379195915,2\n",
      "8,Leonard H. Thomas,2.136136212410632,1\n",
      "9,Thomas C. Colin,2.2035175947710277,3\n",
      "10,Thomas R. Colin,3.267364205364564,4\n",
      "11,Fred C. Thomas,3.976922262810806,4\n",
      "12,Jaden J. Leonard,0.008254586224481053,1\n",
      "13,Jaden W. Joe,3.877247058500784,5\n",
      "14,Leonard F. Hunter,3.2444904915989166,5\n",
      "15,Fred R. Connor,2.3820990139856155,4\n",
      "16,Colin R. Fred,3.122709988019411,3\n",
      "17,Hunter E. Hunter,3.7295739088197752,5\n",
      "18,Jaden C. Jaden,3.6487428868550107,4\n",
      "19,Joe C. Thomas,0.5141759632476433,1\n",
      "20,Ethan J. Colin,1.195405891647107,1\n",
      "21,Connor J. Robert,3.554175950701118,5\n",
      "22,Connor J. Fredrick,4.044149690758513,5\n",
      "23,Leonard E. Fredrick,2.7704028263655465,2\n",
      "24,Fred W. Fred,2.4302967881387305,4\n",
      "25,Robert H. Hunter,3.1319460316268795,4\n",
      "26,Colin J. Thomas,-2.11292218559518,1\n",
      "27,Joe F. Joe,2.8922521099213796,4\n",
      "28,Ethan R. Joe,2.4047138391074228,5\n",
      "29,Leonard C. Willam,3.192671423926749,5\n",
      "30,Robert F. Joe,0.6487947706176755,1\n",
      "31,Joe E. Fredrick,1.17700383879629,2\n",
      "32,Connor C. Leonard,1.826023723600838,2\n",
      "33,Joe R. James,3.9976862761842717,5\n",
      "34,Colin F. Robert,4.243492716758775,5\n",
      "35,Willam C. Willam,1.0237861994044801,2\n",
      "36,Ethan E. Joe,2.7842687494943696,5\n",
      "37,Jaden J. Ethan,-0.784214335001546,1\n",
      "38,James F. Leonard,2.5566136497701915,3\n",
      "39,Leonard J. Fredrick,-2.110073446137993,1\n",
      "40,James F. Fred,3.4180636446455854,5\n",
      "41,Colin H. Willam,3.950700822045025,5\n",
      "42,Joe T. Ethan,1.3117832788867816,1\n",
      "43,Colin F. James,3.7485005439225794,5\n",
      "44,Joe J. Thomas,3.64588086419979,5\n",
      "45,Colin T. Thomas,3.833918514126234,5\n",
      "46,Colin H. Thomas,3.192625897023759,3\n",
      "47,Colin J. Joe,3.8146467830747506,2\n",
      "48,Hunter W. Joe,2.074056187980434,3\n",
      "49,Fred J. Hunter,3.8070147149977505,5\n",
      "50,Willam J. Ethan,3.4839454196094883,2\n",
      "51,Fred J. Ethan,0.5808229174013819,1\n",
      "52,Colin E. Fredrick,3.3329723908985645,3\n",
      "53,Colin J. Colin,4.038723252933065,5\n",
      "54,Ethan L. Robert,0.2722981733313259,1\n",
      "55,Willam F. Ethan,1.8533879024498976,3\n",
      "56,Fred J. Leonard,3.4354661270531928,2\n",
      "57,Ethan C. Joe,3.6844437989248426,5\n",
      "58,Colin J. Willam,2.8557782404161176,3\n",
      "59,Willam R. Colin,3.797575090780232,4\n",
      "60,Willam C. Joe,3.976815460012645,5\n",
      "61,Ethan J. Hunter,4.168114341593068,5\n",
      "62,James T. Fred,4.176434900487779,2\n",
      "63,Fred C. James,3.5508214754871945,4\n",
      "64,Ethan W. Leonard,3.0758268603424,2\n",
      "65,Leonard C. James,3.1157066801619626,2\n",
      "66,Joe F. Ethan,4.122971604575881,2\n",
      "67,Colin F. Fred,1.7903054741572055,3\n",
      "68,Fred R. Hunter,4.121680902345879,3\n",
      "69,Thomas F. Robert,4.172676019906641,5\n",
      "70,Jaden F. Willam,-1.5304205344377828,1\n",
      "71,Hunter T. Robert,3.2932969214236243,2\n",
      "72,Hunter F. Robert,-1.4360322639724372,1\n",
      "73,Connor R. James,1.1617598190020573,2\n",
      "74,Joe H. Jaden,4.11206620670831,4\n",
      "75,Joe L. Fredrick,3.8384989805382035,5\n",
      "76,Fred F. Hunter,3.1598312206796746,3\n",
      "77,Fredrick R. Joe,3.556702066873676,3\n",
      "78,Hunter C. Hunter,3.343184629595175,5\n",
      "79,Colin F. Ethan,3.7542353270054916,4\n",
      "80,Jaden T. Connor,3.4790998099398807,4\n",
      "81,Connor L. Thomas,3.745264709856848,5\n",
      "82,Fredrick W. Hunter,3.0087495864639378,5\n",
      "83,James L. Hunter,4.199223789188592,5\n",
      "84,Fred J. Ethan,3.791093211679164,3\n",
      "85,James R. Fredrick,3.9493574215670293,4\n",
      "86,Connor J. Jaden,3.819640337390598,3\n",
      "87,James J. Robert,2.807095290068344,5\n",
      "88,Thomas E. Hunter,3.3295936615811637,4\n",
      "89,Fredrick J. Willam,2.873428570292788,3\n",
      "90,Hunter C. Fred,1.8428613619618734,3\n",
      "91,Thomas J. Willam,3.745028082989526,5\n",
      "92,Joe C. Thomas,3.66404709347185,5\n",
      "93,Fredrick J. James,3.988131289529417,4\n",
      "94,Fred C. Joe,3.9264624423064283,5\n",
      "95,James L. Jaden,3.904508701836713,5\n",
      "96,Fredrick L. Robert,4.284270438653071,5\n",
      "97,Thomas W. Robert,3.839825401723429,2\n",
      "98,Thomas T. Robert,3.6476916004296114,5\n",
      "99,Connor J. Hunter,4.242607545506144,4\n"
     ]
    }
   ],
   "source": [
    "# Define a list of common names for student generation\n",
    "names = [\"Fred\", \"Willam\", \"Joe\", \"Robert\", \"Colin\", \"Ethan\", \"James\", \"Connor\", \"Thomas\", \"Hunter\", \"Jaden\", \"Leonard\", \"Fredrick\", \"Billy\"]\n",
    "\n",
    "def generateStudent(id):\n",
    "    student = [id]\n",
    "    \n",
    "    # Name\n",
    "    name = names[np.random.randint(0, len(names)-1)] + \" \" # First name\n",
    "    name += names[np.random.randint(0, len(names)-1)][0] + \". \" # Middle initial\n",
    "    name += names[np.random.randint(0, len(names)-1)] # Last name\n",
    "    student.append(name)\n",
    "\n",
    "    # Hours spent on hw (per week)\n",
    "    hoursOnHw = np.random.random() * 10 + 0.1 # Generates float from 0.1 to 10.1\n",
    "    hoursOnHw = np.log2(hoursOnHw) + 1 # Simulates a plateu of hours on hw \n",
    "    student.append(hoursOnHw)\n",
    "\n",
    "    # Grade (GPA format)\n",
    "    skill = np.random.random() * 1.5 + 0.5 # Generates a random skill multiplier from 0.5 to 2\n",
    "    score = round(hoursOnHw * skill)\n",
    "    if(score>5):\n",
    "        score = 5\n",
    "    elif(score<1):\n",
    "        score = 1\n",
    "    student.append(score)\n",
    "\n",
    "    return student\n",
    "\n",
    "# Create students\n",
    "students = []\n",
    "for i in range(100):\n",
    "    students.append(generateStudent(i))\n",
    "\n",
    "# Print in csv format\n",
    "print(\"id,name,hoursOnHw,score\")\n",
    "for student in students:\n",
    "    print(student[0], end=\",\")\n",
    "    print(student[1], end=\",\")\n",
    "    print(student[2], end=\",\")\n",
    "    print(student[3])\n",
    "    "
   ]
  },
  {
   "attachments": {},
   "cell_type": "markdown",
   "metadata": {},
   "source": [
    "# Pandas\n",
    "> Analyze data"
   ]
  },
  {
   "cell_type": "code",
   "execution_count": 57,
   "metadata": {},
   "outputs": [
    {
     "name": "stdout",
     "output_type": "stream",
     "text": [
      "      0                   1                     2      3\n",
      "0    id                name             hoursOnHw  score\n",
      "1     0   Leonard W. Hunter     4.249093837849809      3\n",
      "2     1  Fredrick R. Hunter    1.4185357714076718      2\n",
      "3     2    Willam T. Willam    -0.952639561629149      1\n",
      "4     3    Leonard J. Ethan   0.45393251649677235      1\n",
      "..   ..                 ...                   ...    ...\n",
      "96   95     Fred J. Leonard     3.415124645123977      4\n",
      "97   96       Joe H. Thomas    2.6327753622042156      1\n",
      "98   97    James F. Leonard    3.0453511539690554      2\n",
      "99   98    Thomas L. Thomas  0.031164846240109734      1\n",
      "100  99  Willam J. Fredrick    2.5751866038250726      2\n",
      "\n",
      "[101 rows x 4 columns]\n"
     ]
    }
   ],
   "source": [
    "students = pd.DataFrame(np.genfromtxt('files/students.csv', delimiter=',', dtype=str, encoding='utf-8'))\n",
    "\n",
    "print(students)"
   ]
  },
  {
   "attachments": {},
   "cell_type": "markdown",
   "metadata": {},
   "source": [
    "## Analyze data\n",
    "> Find max, min, and median"
   ]
  },
  {
   "cell_type": "code",
   "execution_count": 58,
   "metadata": {},
   "outputs": [
    {
     "name": "stdout",
     "output_type": "stream",
     "text": [
      "Max hoursOnHw: 4.322522513071912\n",
      "Min hoursOnHw: -1.2196529681089996\n",
      "Average hoursOnHw: 2.9180861885936635\n",
      "Median hoursOnHw: 3.2371786874994823\n",
      "Max score: 5\n",
      "Min score: 1\n",
      "Average score: 3.29\n",
      "Median score: 3.0\n"
     ]
    }
   ],
   "source": [
    "import pandas as pd\n",
    "\n",
    "df = pd.read_csv('files/students.csv')\n",
    "\n",
    "hoursOnHw_max = df['hoursOnHw'].max()\n",
    "hoursOnHw_min = df['hoursOnHw'].min()\n",
    "hoursOnHw_mean = df['hoursOnHw'].mean()\n",
    "hoursOnHw_median = df['hoursOnHw'].median()\n",
    "\n",
    "score_max = df['score'].max()\n",
    "score_min = df['score'].min()\n",
    "score_mean = df['score'].mean()\n",
    "score_median = df['score'].median()\n",
    "\n",
    "print(f'Max hoursOnHw: {hoursOnHw_max}')\n",
    "print(f'Min hoursOnHw: {hoursOnHw_min}')\n",
    "print(f'Average hoursOnHw: {hoursOnHw_mean}')\n",
    "print(f'Median hoursOnHw: {hoursOnHw_median}')\n",
    "print(f'Max score: {score_max}')\n",
    "print(f'Min score: {score_min}')\n",
    "print(f'Average score: {score_mean}')\n",
    "print(f'Median score: {score_median}')"
   ]
  },
  {
   "attachments": {},
   "cell_type": "markdown",
   "metadata": {},
   "source": [
    "## Sort data"
   ]
  },
  {
   "cell_type": "code",
   "execution_count": 65,
   "metadata": {},
   "outputs": [
    {
     "name": "stdout",
     "output_type": "stream",
     "text": [
      "Sorted by time on hw:\n",
      "    id                name  hoursOnHw  score\n",
      "70  70     Jaden W. Robert  -1.219653      1\n",
      "23  23    Colin T. Leonard  -1.068941      1\n",
      "2    2    Willam T. Willam  -0.952640      1\n",
      "98  98    Thomas L. Thomas   0.031165      1\n",
      "10  10      James H. James   0.039333      1\n",
      "..  ..                 ...        ...    ...\n",
      "12  12    Fredrick E. Fred   4.275583      5\n",
      "64  64  Connor E. Fredrick   4.276815      5\n",
      "63  63   Fredrick J. James   4.285514      5\n",
      "19  19    Hunter J. Hunter   4.301619      5\n",
      "60  60   Leonard H. Hunter   4.322523      5\n",
      "\n",
      "[100 rows x 4 columns]\n"
     ]
    }
   ],
   "source": [
    "df = df.sort_values(by=['hoursOnHw'])\n",
    "print(\"Sorted by time on hw:\")\n",
    "print(df)\n"
   ]
  },
  {
   "cell_type": "code",
   "execution_count": 67,
   "metadata": {},
   "outputs": [
    {
     "name": "stdout",
     "output_type": "stream",
     "text": [
      "Sorted by scores:\n",
      "    id                name  hoursOnHw  score\n",
      "70  70     Jaden W. Robert  -1.219653      1\n",
      "23  23    Colin T. Leonard  -1.068941      1\n",
      "2    2    Willam T. Willam  -0.952640      1\n",
      "98  98    Thomas L. Thomas   0.031165      1\n",
      "10  10      James H. James   0.039333      1\n",
      "..  ..                 ...        ...    ...\n",
      "12  12    Fredrick E. Fred   4.275583      5\n",
      "64  64  Connor E. Fredrick   4.276815      5\n",
      "63  63   Fredrick J. James   4.285514      5\n",
      "19  19    Hunter J. Hunter   4.301619      5\n",
      "60  60   Leonard H. Hunter   4.322523      5\n",
      "\n",
      "[100 rows x 4 columns]\n"
     ]
    }
   ],
   "source": [
    "df = df.sort_values(by=['hoursOnHw'])\n",
    "print(\"Sorted by scores:\")\n",
    "print(df)"
   ]
  },
  {
   "attachments": {},
   "cell_type": "markdown",
   "metadata": {},
   "source": [
    "## Merge with another dataframe"
   ]
  },
  {
   "cell_type": "code",
   "execution_count": 68,
   "metadata": {},
   "outputs": [
    {
     "name": "stdout",
     "output_type": "stream",
     "text": [
      "       id                name  hoursOnHw  score\n",
      "0      70     Jaden W. Robert  -1.219653      1\n",
      "1      23    Colin T. Leonard  -1.068941      1\n",
      "2       2    Willam T. Willam  -0.952640      1\n",
      "3      98    Thomas L. Thomas   0.031165      1\n",
      "4      10      James H. James   0.039333      1\n",
      "..    ...                 ...        ...    ...\n",
      "96     64  Connor E. Fredrick   4.276815      5\n",
      "97     63   Fredrick J. James   4.285514      5\n",
      "98     19    Hunter J. Hunter   4.301619      5\n",
      "99     60   Leonard H. Hunter   4.322523      5\n",
      "100  1000          Sean Yeung  10.000000      5\n",
      "\n",
      "[101 rows x 4 columns]\n"
     ]
    }
   ],
   "source": [
    "yeungdf = pd.DataFrame({'id': [1000], 'name': ['Sean Yeung'], 'hoursOnHw': [10], 'score': [5]})\n",
    "df = pd.concat([df, yeungdf], ignore_index=True)\n",
    "\n",
    "print(df)"
   ]
  }
 ],
 "metadata": {
  "kernelspec": {
   "display_name": "base",
   "language": "python",
   "name": "python3"
  },
  "language_info": {
   "codemirror_mode": {
    "name": "ipython",
    "version": 3
   },
   "file_extension": ".py",
   "mimetype": "text/x-python",
   "name": "python",
   "nbconvert_exporter": "python",
   "pygments_lexer": "ipython3",
   "version": "3.9.12"
  },
  "orig_nbformat": 4
 },
 "nbformat": 4,
 "nbformat_minor": 2
}
