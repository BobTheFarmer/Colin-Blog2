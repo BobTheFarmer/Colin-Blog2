{
 "cells": [
  {
   "attachments": {},
   "cell_type": "markdown",
   "metadata": {},
   "source": [
    "# MCQ2 Reflection\n",
    "\n",
    "- toc: true \n",
    "- badges: true\n",
    "- comments: true"
   ]
  },
  {
   "attachments": {},
   "cell_type": "markdown",
   "metadata": {},
   "source": [
    "# Score and first glance thoughts\n",
    "![](my_icons/mcq2.png)"
   ]
  },
  {
   "attachments": {},
   "cell_type": "markdown",
   "metadata": {},
   "source": [
    "I got a 47/50 on the MCQ2. I feel like that is a pretty good score and I think I was able to get it because of the peer lessons. Overall I think I need to pratice my speed because it took me a while to do the algorithm based questions and I might run out of time on the real AP test because it is even longer. \n",
    "\n",
    "# Missed questions and how I can be better\n",
    "\n",
    "## Q17: Which of the following code segments produce the same result as the statement above for all possible values of val1 and val2?\n",
    "\n",
    "I initially thought that the solution to the problem would only be achievable through either option A or option B. However, after giving it more thought and consideration, I realized that option D can also work as a solution. This is because the else statement in option D enables me to simulate the AND statement by taking into account all possible input variations of the two Booleans. This newfound understanding showed me that my initial perception of the problem was limited, and that there was a more complex solution that I hadn't initially considered.\n",
    "\n",
    "## Q22: Find average height of students\n",
    "\n",
    "On this question,  I initially thought that algorithm A would not be effective. This was because I misunderstood the meaning of \"a randomly selected student,\" as I believed it referred to any student in the pool, including those whose height had already been recorded. However, upon further examination, I now understand that when a student sits down, they are no longer considered in the pool and are therefore not a potential source of error in the algorithm. I believe this confusion was caused by the unclear wording in the question, and I do not think encountering similar issues on the actual test is very likley as the questions are typically more clearly written.\n",
    "\n",
    "## Q30: Use drawCircle to draw figure on a coordinate grid\n",
    "\n",
    "I originally only considered options A and B and did not take into account alternative answer C. However, upon further examination, I realized that it is possible to go through the algorithm backwards to obtain the same result. In the future, I think it would be wise for me to thoroughly check all the answers for questions like this and Q17, rather than just relying on my initial choice. To do so, I may need to make adjustments and allocate less time elsewhere in order to allow for a more comprehensive examination of all answers.\n",
    "\n",
    "# Conclusion\n",
    "\n",
    "My main concern at the moment is my speed. On the actual test, taking the time to be meticulous could result in me not being able to complete all the questions. Specifically, the part that takes me the longest is double-checking my answers on algorithm questions as I currently perform the steps in my head. To address this, I plan to consider reversing the algorithm as it may help me better recall the variables. Additionally, if I have extra time during the test, I will take a moment to double-check my second choices on multiple-answer questions."
   ]
  }
 ],
 "metadata": {
  "kernelspec": {
   "display_name": "Python 3",
   "language": "python",
   "name": "python3"
  },
  "language_info": {
   "name": "python",
   "version": "3.10.9 (main, Dec 15 2022, 10:44:50) [Clang 14.0.0 (clang-1400.0.29.202)]"
  },
  "orig_nbformat": 4,
  "vscode": {
   "interpreter": {
    "hash": "b0fa6594d8f4cbf19f97940f81e996739fb7646882a419484c72d19e05852a7e"
   }
  }
 },
 "nbformat": 4,
 "nbformat_minor": 2
}
