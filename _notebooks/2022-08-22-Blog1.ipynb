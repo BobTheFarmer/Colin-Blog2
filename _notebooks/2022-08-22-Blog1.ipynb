#Python in Jupyter Notebooks
print("Hello World")
