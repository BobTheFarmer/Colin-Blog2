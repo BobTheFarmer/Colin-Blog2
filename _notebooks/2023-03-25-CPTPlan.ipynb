{
 "cells": [
  {
   "attachments": {},
   "cell_type": "markdown",
   "metadata": {},
   "source": [
    "# My Plan for CPT "
   ]
  },
  {
   "attachments": {},
   "cell_type": "markdown",
   "metadata": {},
   "source": [
    "After researching how CPT is grading, I plan on manianing my project for fun but also making a simpler and easier to follow project to submit. I have found that CollegeBoard's standereds do not require a complex project like mine but do grade your code striclty, so having a large amount of it means CB is likley to dock points. Instead I am going to brainstorm a more simple project/"
   ]
  }
 ],
 "metadata": {
  "language_info": {
   "name": "python"
  },
  "orig_nbformat": 4
 },
 "nbformat": 4,
 "nbformat_minor": 2
}
