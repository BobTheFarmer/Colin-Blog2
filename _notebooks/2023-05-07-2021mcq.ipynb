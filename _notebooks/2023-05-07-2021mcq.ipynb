{
 "cells": [
  {
   "attachments": {},
   "cell_type": "markdown",
   "metadata": {},
   "source": [
    "# 2021 Practice MCQ"
   ]
  },
  {
   "attachments": {},
   "cell_type": "markdown",
   "metadata": {},
   "source": [
    "![](my_icons/2021.png)"
   ]
  },
  {
   "attachments": {},
   "cell_type": "markdown",
   "metadata": {},
   "source": [
    "# Mistakes\n",
    "\n",
    "## Question 13\n",
    "Collaboration often allows teams to break a complex problem into smaller parts, decreasing the size and complexity of tasks required of each team member.\n",
    "\n",
    "## Question 23\n",
    "\n",
    "Routing on the Internet is usually dynamic; it is not specified in advance, nor is it controlled from a central location.\n",
    "\n",
    "## Question 63\n",
    "For example, when input1 is true and input2 is false, then (NOT input1) will be false and (NOT input2) will be true. Therefore, (NOT input1) AND (NOT input2) will be false instead of the intended value true.\n",
    "\n",
    "## Question 68\n",
    "\n",
    "# Reflection\n",
    "I felt that I was confident and ready for AP exams. This score represents a five, assuming I did well on the CPT. I reviewed what I did wrong and got a good amount of sleep for the AP exam. "
   ]
  }
 ],
 "metadata": {
  "language_info": {
   "name": "python"
  },
  "orig_nbformat": 4
 },
 "nbformat": 4,
 "nbformat_minor": 2
}
