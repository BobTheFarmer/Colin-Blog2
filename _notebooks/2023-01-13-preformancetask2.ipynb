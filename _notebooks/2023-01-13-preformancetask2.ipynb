{
 "cells": [
  {
   "attachments": {},
   "cell_type": "markdown",
   "metadata": {},
   "source": [
    "# Performance task review 2\n",
    "\n",
    "- toc: true \n",
    "- badges: true\n",
    "- comments: true"
   ]
  },
  {
   "attachments": {},
   "cell_type": "markdown",
   "metadata": {},
   "source": [
    "# Submission 1\n",
    "Row 1 - (0 Points) - I gave 0\n",
    "They got some things right, like showing the program running and displaying icons of animals and questions, but they didn't really explain what the program was supposed to do or how it worked. They stated the function of the program but didn't mention the problem it was trying to solve or the creative interest being pursued. They also mixed up input and output, which is a big deal.\n",
    "\n",
    "Row 2 - (0 Points) - I gave 0\n",
    "They provided two code segments, but they didn't really explain what they were doing or how they were used. They also didn't explain what was in the list they used. The list animalList is identified but not used in either code segments. They also described the images from animalImages, stating that the images are in the list which is not accurate.\n",
    "\n",
    "Row 3 - (0 Points) - I gave 0\n",
    "They didn't include any code that actually used a list to manage complexity, and they didn't explain how the list would help with that. They stated that array allows you to store more than one variable making it shorter and more complex but didn't explain how it would be written differently without the list and the code does not involve complexity.\n",
    "\n",
    "They created a procedure, but they didn't really explain how it contributed to the overall program. They described the functionality of the procedure as \"determining if the user’s guess was right or wrong\" but didn't mention how it contributes to the overall functionality of the program.\n",
    "\n",
    "Row 5 - (0 Points) - I gave 0\n",
    "They used sequencing, iteration, and selection in their algorithm, but they didn't really explain how it worked. They included a minimal description but it didn't explain how the algorithm works in enough detail that someone else could recreate it.\n",
    "\n",
    "Row 6 - (1 Points) - I gave 1\n",
    "They described two different calls to the specific procedure, and explained how the conditions being tested would result in different code being executed. They also explained what the conditions were. They described the first call sent was 'dog' which was a correct guess and the second call sent was 'mouse' which was an incorrect guess, and explained how the conditions being tested work in the procedure.\n",
    "\n",
    "# Submission 2\n",
    "Row 1 - (1 Points) - I gave 1\n",
    "The video demonstrates the running of the program, showing input into the program through keyboard typing and output includes the prompts for the word input and the poems being displayed. The program's purpose is creative expression, “to explore the user’s creativity through the expression of poetry using their words and images as well as preferences of formatting in order to generate some unique poems.” They also described the functionality demonstrated in the video and input and output, how the program generates poems according to the user's inputs and specifications.\n",
    "\n",
    "Row 2 - (1 Points) - I gave 1\n",
    "They provided two distinct code segments, the first showing data being stored in the identified list and the second showing the data being accessed from the identified list under a new name since it is passed as a parameter. The name of the list is identified as nounList, although it is also referred to as wordList when it is passed into the selectWord procedure. They also identified what is stored in the list, the nouns that must be in certain specific locations within the poem.\n",
    "\n",
    "Row 3 - (1 Points) - I gave 1\n",
    "They included code that uses lists of words to manage complexity when generating poetry. They also explained how the code would be written differently without the list and how it would make the code more cluttered.\n",
    "\n",
    "Row 4 - (1 Points) - I gave 1\n",
    "They included a student-developed procedure, createPoems, with four parameters that are used in the procedure. They described the functionality of the procedure as it states that it is “putting together the final selection of poems.” The procedure contributes to the overall program by building poems according to how many the user specified and whether the user wanted articles in the poems.\n",
    "\n",
    "Row 5 - (1 Points) - I gave 1\n",
    "They used sequencing, selection (if statement), and iteration (while loop) in their algorithm. They also explained in detail how the algorithm in the procedure works so it can be recreated. The algorithm works by sequentially first defining a variable to count the number of poems generated and defines an empty string to hold the poem being generated, then it starts a while loop that continues until the number of poems specified by the user is reached. Within the while loop, the algorithm uses the selection statement to check if the user wants articles included in the poem and uses the iteration to select words from the list and append them to the string.\n",
    "\n",
    "Row 6 - (1 Points) - I gave 1\n",
    "They described two different calls to the specific procedure, and explained how the conditions being tested would result in different code being executed. They also explained what the conditions were. They described the first call sent was 'dog' which was a correct guess and the second call sent was 'mouse' which was an incorrect guess, and explained how the conditions being tested work in the procedure.\n",
    "\n",
    "# Submission 3\n",
    "Row 1 - (0 Points) - I gave 0\n",
    "The student didn't quite get this one. They demonstrated the running of the program, showing input into the program using the drop-down menus to select two characters for the battle and output consisting of a display of the values for the various rankings of each character and the winner of the battle using an image. They also described the functionality demonstrated in the video and input and output, however, they only described the function of the program but not its purpose.\n",
    "\n",
    "Row 2 - (1 Points) - I gave 1\n",
    "This student hit the mark with this one. They provided two code segments, the first segment shows data being stored in the identified list, and a second segment shows data being accessed from the list in a loop via a parameter that is set to the identified list. The list is identified in the response as firstCharacterList, and the data within the list represents the power rankings and URL for the image of the character that was selected from the first drop-down box.\n",
    "\n",
    "Row 3 - (1 Points) - I gave 1\n",
    "This student hit the mark with this one. They included a list that combines six rankings and an image URL for a single character into one collection to pass to the function that determines a winner, managing complexity in the program code. They also provided an accurate explanation about what would happen if the list were not used, it would make the code longer and more cumbersome.\n",
    "\n",
    "Row 4 - (1 Points) - I gave 1\n",
    "This student hit the mark with this one. They included a student-developed procedure, findWinner, with two parameters that are used in the procedure. They also included another code segment that illustrates a call to the findWinner procedure. They described the function of the procedure, and how it contributes to the overall program by determining the hypothetical winner in a battle between two Marvel Characters.\n",
    "\n",
    "Row 5 - (0 Points) - I gave 0\n",
    "This student didn't quite get this one. They explained how the algorithm within the procedure works, but it doesn't explain it in enough detail that someone else could recreate it. They explained it in a minimal description, but it didn't give a full understanding of how the algorithm works.\n",
    "\n",
    "Row 6 - (1 Points) - I gave 1\n",
    "This student hit the mark with this one. They explained how the array manages complexity and how the code would be written differently without the array. They provided an accurate explanation of how the array allows them to store multiple words at once and easily reference them without having to create separate variables for each word. They also explained how it makes the code more organized and efficient.\n",
    "# Submission 4\n",
    "Row 1: (1 Points) - I gave 1\n",
    "They demonstrated the program running and collecting input from the user, as well as displaying output on the screen. They also explained the program's purpose and how it works, and described the input and output.\n",
    "\n",
    "Row 2: (0 Points) - I gave 0\n",
    "The student's program did not pass all of the criteria in this row. They provided two code segments, but the data stored in the list was not being used, only the length of the list was accessed. They also identified the name of the list as guesses and explained that it represented the user's word inputs, but the use of the list did not manage complexity in the program.\n",
    "\n",
    "Row 3: (0 Points) - I gave 0\n",
    "The student's program did not pass any of the criteria in this row. They included a list in the program code, but it was not used to manage complexity. They also did not explain how the list manages complexity.\n",
    "\n",
    "Row 4: (1 Points) - I gave 1\n",
    "The student's program passed all of the criteria in this row. They included a student-developed procedure called isitcorrect, with one explicit parameter, checkanswer, and a call to this procedure in a second code segment using the argument, answer. They also described the functionality of the procedure, and how it contributes to the overall program.\n",
    "\n",
    "Row 5: (1 points) - I gave 1\n",
    "The student's program passed all of the criteria in this row. They included a student-developed algorithm within the procedure isitcorrect that included sequencing, selection (an if statement), and iteration (a repeat loop). They also explained how the algorithm works in detail, including how it uses iteration to check the position and accuracy of the letters in the user's input.\n",
    "\n",
    "Row 6: (1 Points) - I gave 1\n",
    "The student's program passed all of the criteria in this row. They provided a flowchart that accurately represents the program's logic, including the use of iteration, selection and sequencing. They also explained how the flowchart represents the program's logic."
   ]
  },
  {
   "attachments": {},
   "cell_type": "markdown",
   "metadata": {},
   "source": [
    "# Summary / What I learned\n",
    "\n",
    "When trying to meet these standards, there are a few key things to keep in mind. First, it's important to make sure that the program being demonstrated in the video is running correctly and that it is clear in the video how input is being entered and how output is being displayed. This includes showing the program running, showing input being entered using the appropriate method (such as a text entry field), and showing the output results on the screen. Next, it's important to clearly state the purpose of the program. This could be something like \"to test critical thinking skills\" as in the example above. This helps to give context to the functionality that is being demonstrated in the video. It's also important to clearly describe the functionality that is being demonstrated in the video. This includes things like how the user interacts with the program, what happens when different buttons are clicked, and what the output looks like. Another important aspect is describing the input and output of the program. This includes what the user is inputting and what the program is outputting in response. When it comes to writing code, it's important to use data structures like lists to manage complexity in the program. This can include things like combining multiple pieces of information into a single collection, or using a list to keep track of multiple items. It's also important to explain how the use of these data structures helps to simplify the code and make it more efficient. Additionally, creating student-developed procedures and algorithms is important. These should have clear parameters and should be called correctly in other parts of the code. The procedures should also have clear functionality and the algorithms should include proper sequencing, selection and iteration. It's also important to pay attention to the naming conventions of variables and procedures. They should be clearly and accurately named, although naming the procedure is not required for all the rows. Overall, it's important to pay attention to all these aspects when trying to meet these standards, in order to create a clear, efficient, and well-functioning program.\n",
    "\n",
    "\n"
   ]
  }
 ],
 "metadata": {
  "kernelspec": {
   "display_name": "Python 3",
   "language": "python",
   "name": "python3"
  },
  "language_info": {
   "codemirror_mode": {
    "name": "ipython",
    "version": 3
   },
   "file_extension": ".py",
   "mimetype": "text/x-python",
   "name": "python",
   "nbconvert_exporter": "python",
   "pygments_lexer": "ipython3",
   "version": "3.11.1 (tags/v3.11.1:a7a450f, Dec  6 2022, 19:58:39) [MSC v.1934 64 bit (AMD64)]"
  },
  "orig_nbformat": 4,
  "vscode": {
   "interpreter": {
    "hash": "2a88ae490e9e9af3f3269af3a537a081bb022ffb3d76f78b084068e30e46f3b4"
   }
  }
 },
 "nbformat": 4,
 "nbformat_minor": 2
}
