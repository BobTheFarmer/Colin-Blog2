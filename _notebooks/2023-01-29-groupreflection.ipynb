{
 "cells": [
  {
   "attachments": {},
   "cell_type": "markdown",
   "metadata": {},
   "source": [
    "# Group Project Reflection \n",
    "\n",
    "- toc: true \n",
    "- badges: true\n",
    "- comments: true"
   ]
  },
  {
   "attachments": {},
   "cell_type": "markdown",
   "metadata": {},
   "source": [
    "## Understanding of the CB criteria\n",
    "![](my_icons/collegeboard.png)\n",
    "\n",
    "The performance task is scored to encourage consentient and high quality code. Each category requires an extremely detailed description of your code. Although it does not need to be complex, it needs to be very consistent and support each of the requirements thoroughly.\n",
    "\n",
    "## My portion of the project\n",
    "\n",
    "I will create a list of famous destinations. Each building will contain its own likes which will sort them by most to least liked. It will incorporate html to build the base, css to create the style, and a postman api to store the likes.\n",
    "![](my_icons/plan.png)\n",
    "## What will be in the video?\n",
    "\n",
    "I will demonstrate how the likes are stored and updated against multiple users. I will also show the page which hosts all the content. I want to keep the video short and simple because that is what other people found success with, from my research"
   ]
  }
 ],
 "metadata": {
  "kernelspec": {
   "display_name": "Python 3",
   "language": "python",
   "name": "python3"
  },
  "language_info": {
   "name": "python",
   "version": "3.10.9 (main, Dec 15 2022, 10:44:50) [Clang 14.0.0 (clang-1400.0.29.202)]"
  },
  "orig_nbformat": 4,
  "vscode": {
   "interpreter": {
    "hash": "b0fa6594d8f4cbf19f97940f81e996739fb7646882a419484c72d19e05852a7e"
   }
  }
 },
 "nbformat": 4,
 "nbformat_minor": 2
}
