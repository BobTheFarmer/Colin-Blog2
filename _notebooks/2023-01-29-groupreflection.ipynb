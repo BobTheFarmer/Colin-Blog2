{
 "cells": [
  {
   "attachments": {},
   "cell_type": "markdown",
   "metadata": {},
   "source": [
    "# Group Project Reflection \n",
    "\n",
    "- toc: true \n",
    "- badges: true\n",
    "- comments: true"
   ]
  },
  {
   "attachments": {},
   "cell_type": "markdown",
   "metadata": {},
   "source": [
    "## Understanding of the CB criteria\n",
    "![](my_icons/collegeboard.png)\n",
    "\n",
    "The performance task is scored to encourage consentient and high quality code. Each category requires an extremely detailed description of your code. Although it does not need to be complex, it needs to be very consistent and support each of the requirements thoroughly. The focus is also on using coding techniques to simplify and make your code run faster and be more readable. It is ultimately not about how long your code is, it is about how well it works.\n",
    "\n",
    "## My portion of the project\n",
    "\n",
    "I will create a list of famous destinations. Each building will contain its own likes which will sort them by most to least liked. It will incorporate html to build the base, css to create the style, and a postman api to store the likes.\n",
    "![](my_icons/plan.png)\n",
    "## What will be in the video?\n",
    "\n",
    "I will demonstrate how the likes are stored and updated against multiple users. I will also show the page which hosts all the content. I want to keep the video short and simple because that is what other people found success with, from my research.\n",
    "\n",
    "# Canvas Questions\n",
    "## Think of three beneficial effects of your projects based on 5.1 Unit\n",
    "\n",
    "- Tourists could choose destinations based on how much other recommend them\n",
    "- It can become easier for people to get a quick overview of places around the world and it could improve their knowledge\n",
    "- People can contribute and add their own opinions, so it will always be improving\n",
    "\n",
    "## Think of a potential harmful effect of your project.\n",
    "\n",
    "If a location is lowly rated it will appear low which could prevent it from every gaining a lot of likes if it improves, which could draw tourism away from cool areas. \n",
    "\n",
    "## Answer with an opinion and learnings so far this year:  What are pros/cons on internet blockers at router and lack of admin password on lab machines at school?\n",
    "## What concerns do you have personally about the digital divide? For yourself or for others."
   ]
  }
 ],
 "metadata": {
  "kernelspec": {
   "display_name": "Python 3",
   "language": "python",
   "name": "python3"
  },
  "language_info": {
   "name": "python",
   "version": "3.10.9 (main, Dec 15 2022, 10:44:50) [Clang 14.0.0 (clang-1400.0.29.202)]"
  },
  "orig_nbformat": 4,
  "vscode": {
   "interpreter": {
    "hash": "b0fa6594d8f4cbf19f97940f81e996739fb7646882a419484c72d19e05852a7e"
   }
  }
 },
 "nbformat": 4,
 "nbformat_minor": 2
}
