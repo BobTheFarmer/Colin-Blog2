{
 "cells": [
  {
   "attachments": {},
   "cell_type": "markdown",
   "metadata": {},
   "source": [
    "# MCQ2 Reflection\n",
    "\n",
    "- toc: true \n",
    "- badges: true\n",
    "- comments: true"
   ]
  },
  {
   "attachments": {},
   "cell_type": "markdown",
   "metadata": {},
   "source": [
    "## Understanding of the CB criteria\n",
    "![](my_icons/collegeboard.png)\n",
    "The way the performance task is scored is meant to encourage students to consistently demonstrate their understanding of their own code and the various coding techniques they have implemented. This can be done through effective problem-solving and debugging, as well as being able to clearly and accurately explain the purpose and function of the code they have written. By encouraging students to have a thorough understanding of their own code, it helps to ensure the quality and reliability of the programs they create, and it can also help them to identify and fix any issues that may arise. It is meant to encourage students to consistently demonstrate their understanding of their own code and the various coding techniques they have implemented. This can be done through effective problem-solving and debugging, as well as being able to clearly and accurately explain the purpose and function of the code they have written. By encouraging students to have a thorough understanding of their own code, it helps to ensure the quality and reliability of the programs they create, and it can also help them to identify and fix any issues that may arise. Ultimately, the goal of this scoring method is to help students become proficient and confident programmers who are able to produce high-quality code that is both functional and efficient.Ultimately, the goal of this scoring method is to help students become proficient and confident programmers who are able to produce high-quality code that is both functional and efficient. The way the performance task is scored is ultimately meant to encourage students to consistently demonstrate their understanding of their own code and the various coding techniques they have implemented. This can be done through effective problem-solving and debugging, as well as being able to clearly and accurately explain the purpose and function of the code they have written. By encouraging students to have a thorough understanding of their own code, it helps to ensure the quality and reliability of the programs they create, and it can also help them to identify and fix any issues that may arise. Ultimately, the goal of this scoring method is to help students become proficient and confident programmers who are able to produce high-quality code that is both functional and efficient.\n",
    "\n",
    "## My portion of the project\n",
    "\n",
    "I will create a list of famous destinations. Each building will contain its own likes which will sort them by most to least liked. It will incorporate html to build the base, css to create the style, and a postman api to store the likes.\n",
    "![](my_icons/plan.png)\n",
    "## What will be in the video?\n",
    "\n",
    "I will demonstrate how the likes are stored and updated against multiple users. I will also show the page which hosts all the content. I want to keep the video short and simple because that is what other people found success with, from my research"
   ]
  }
 ],
 "metadata": {
  "kernelspec": {
   "display_name": "Python 3",
   "language": "python",
   "name": "python3"
  },
  "language_info": {
   "name": "python",
   "version": "3.10.9 (main, Dec 15 2022, 10:44:50) [Clang 14.0.0 (clang-1400.0.29.202)]"
  },
  "orig_nbformat": 4,
  "vscode": {
   "interpreter": {
    "hash": "b0fa6594d8f4cbf19f97940f81e996739fb7646882a419484c72d19e05852a7e"
   }
  }
 },
 "nbformat": 4,
 "nbformat_minor": 2
}
