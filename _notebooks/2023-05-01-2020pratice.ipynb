{
 "cells": [
  {
   "attachments": {},
   "cell_type": "markdown",
   "metadata": {},
   "source": [
    "# 2018 Practice MCQ Score and Review"
   ]
  },
  {
   "attachments": {},
   "cell_type": "markdown",
   "metadata": {},
   "source": [
    "![](my_icons/2020practice.png)"
   ]
  },
  {
   "attachments": {},
   "cell_type": "markdown",
   "metadata": {},
   "source": [
    "# Corrections\n",
    "\n",
    "## Question 7\n",
    "Program I correctly moves the robot to the gray square by repeatedly moving the robot forward, rotating left, moving forward twice, and rotating right.\n",
    "\n",
    "## Question 25\n",
    "The Internet is not controlled from a central device.\n",
    "\n",
    "## Question 37 \n",
    "This code segment will draw four line segments: one with endpoints (2, 6) and (8, 6), one with endpoints (2, 6) and (8, 4), one with endpoints (2, 6) and (8, 2), and one with endpoints (2, 6) and (8, 0).\n",
    "\n",
    "## Question 42\n",
    "his Boolean expression does not work as intended. For example, if score is 44 and target is 50, then (score ≤ target + 10) evaluates to true and (target + 10 ≤ score) evaluates to false. Therefore this Boolean expression will evaluate to false when it should evaluate to true.\n",
    "\n",
    "## Question 65 \n",
    "This code segment stores the substring \"jack\" in animal. It then concatenates \"jack\" and \"a\", storing the result \"jacka\" in animal. Lastly, it concatenates the substring \"lope\" and \"jacka\", storing the result \"lopejacka\" in animal.\n",
    "\n",
    "# What I can fix for AP exams\n",
    "\n",
    "I have created a list of the most important topics to pratice:\n",
    "- Binary conversions\n",
    "- Internet\n",
    "\n",
    "# Quiz-quiz\n",
    "\n",
    "<html>\n",
    "  <head>\n",
    "    <style>\n",
    "      /* Styles for buttons */\n",
    "      .button {\n",
    "        width: 200px;\n",
    "        height: 50px;\n",
    "        font-size: 14px;\n",
    "        border: none;\n",
    "        margin-bottom: 10px;\n",
    "      }\n",
    "      .correct {\n",
    "        background-color: green;\n",
    "        color: white;\n",
    "      }\n",
    "      .incorrect {\n",
    "        background-color: red;\n",
    "        color: white;\n",
    "      }\n",
    "    </style>\n",
    "  </head>\n",
    "  <body>\n",
    "  <div id=\"quiz\">\n",
    "  - What are some common errors made?\n",
    "    <div class=\"row\">\n",
    "      <button class=\"button\" onclick=\"this.classList.add('incorrect')\">Spending too much time on each question</button>\n",
    "      <button class=\"button\" onclick=\"this.classList.add('correct')\">Binary conversions</button>\n",
    "      <button class=\"button\" onclick=\"this.classList.add('incorrect')\">Not considering different perspectives</button>\n",
    "      <button class=\"button\" onclick=\"this.classList.add('correct')\">Questions about the internet and how it works</button>\n",
    "    </div>\n",
    "  - How could these errors be fixed?\n",
    "    <div class=\"row\">\n",
    "      <button class=\"button\" onclick=\"this.classList.add('incorrect')\">Go faster that way you have more time to check answers</button>\n",
    "      <button class=\"button\" onclick=\"this.classList.add('correct')\">Practice these topics before exam</button>\n",
    "    </div>\n",
    "  </div>\n",
    "  </body>\n",
    "</html>"
   ]
  }
 ],
 "metadata": {
  "language_info": {
   "name": "python"
  },
  "orig_nbformat": 4
 },
 "nbformat": 4,
 "nbformat_minor": 2
}
