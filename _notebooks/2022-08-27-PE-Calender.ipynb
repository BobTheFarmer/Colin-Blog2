{
 "cells": [
  {
   "cell_type": "markdown",
   "metadata": {},
   "source": [
    "# PE Calendar\n",
    "> A calendar to show what we are doing in PE each day of the week, using inputs with python\n",
    "- categories: [python,week2,ipynb,notes,pe]\n",
    "- comments: true"
   ]
  },
  {
   "cell_type": "code",
   "execution_count": 2,
   "metadata": {},
   "outputs": [
    {
     "name": "stdout",
     "output_type": "stream",
     "text": [
      "What day is it? Please don't use caps\n",
      "In PE today, you have the weight room\n"
     ]
    }
   ],
   "source": [
    "#Ask what day it is\n",
    "print(\"What day is it? Please don't use caps\")\n",
    "dayOfTheWeek = input()\n",
    "\n",
    "#Answer accordingly\n",
    "if(dayOfTheWeek == \"monday\" or dayOfTheWeek == \"wednesday\"):\n",
    "    print(\"In PE today, you have kickball\")\n",
    "else: \n",
    "    if(dayOfTheWeek == \"tuesday\"):\n",
    "        print(\"In PE today, you have a run and classroom time\")\n",
    "    else: \n",
    "        if(dayOfTheWeek == \"thursday\"):\n",
    "            print(\"In PE today, you have a run and kickball\")\n",
    "        else: \n",
    "            if(dayOfTheWeek == \"friday\"):\n",
    "                print(\"In PE today, you have the weight room\")\n",
    "            else:\n",
    "                if(dayOfTheWeek == \"saturday\" or dayOfTheWeek == \"sunday\"):\n",
    "                    print(\"It's the weekend silly\")\n",
    "                else: \n",
    "                    print(\"That's not a day of the week. If you think it is, make sure there are no caps and check your spelling\")\n",
    "\n"
   ]
  }
 ],
 "metadata": {
  "kernelspec": {
   "display_name": "Python 3.10.6 64-bit",
   "language": "python",
   "name": "python3"
  },
  "language_info": {
   "codemirror_mode": {
    "name": "ipython",
    "version": 3
   },
   "file_extension": ".py",
   "mimetype": "text/x-python",
   "name": "python",
   "nbconvert_exporter": "python",
   "pygments_lexer": "ipython3",
   "version": "3.9.12"
  },
  "orig_nbformat": 4,
  "vscode": {
   "interpreter": {
    "hash": "b0fa6594d8f4cbf19f97940f81e996739fb7646882a419484c72d19e05852a7e"
   }
  }
 },
 "nbformat": 4,
 "nbformat_minor": 2
}
