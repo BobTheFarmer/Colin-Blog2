{
 "cells": [
  {
   "cell_type": "markdown",
   "metadata": {},
   "source": [
    "# Outline for Creative Performance Task Project\n",
    "- categories: [week4]\n",
    "- comments: true"
   ]
  },
  {
   "cell_type": "markdown",
   "metadata": {},
   "source": [
    "# Scrum Board\n",
    "\n",
    "| To-Do      | In Progress | Finished |\n",
    "| ----------- | ----------- | ----------- |\n",
    "| Figure out how to use an image URL as an input and to return an image| Make a working draft of the more promising ideas | Brainstorm a list of ideas |\n",
    "| Add more ideas to the list |  |  |\n",
    "| What happens when there is a 'donut' |  |  |\n",
    "\n",
    "\n",
    "# Potential Ideas\n",
    "- Use an algorithm to remove a mono-color background from an image, making it a PNG"
   ]
  },
  {
   "cell_type": "markdown",
   "metadata": {},
   "source": [
    "# Start of design\n",
    "\n",
    "- Input a URL of an image\n",
    "- Program takes the image and compiles it into a 3D array of pixels, with RGB values\n",
    "- Find the background by seeing what single pixel/very similar pixels are near the edge\n",
    "- TBD: Edge cases like donuts\n",
    "- Return an image"
   ]
  }
 ],
 "metadata": {
  "kernelspec": {
   "display_name": "Python 3.10.6 64-bit",
   "language": "python",
   "name": "python3"
  },
  "language_info": {
   "codemirror_mode": {
    "name": "ipython",
    "version": 3
   },
   "file_extension": ".py",
   "mimetype": "text/x-python",
   "name": "python",
   "nbconvert_exporter": "python",
   "pygments_lexer": "ipython3",
   "version": "3.10.6"
  },
  "orig_nbformat": 4,
  "vscode": {
   "interpreter": {
    "hash": "b0fa6594d8f4cbf19f97940f81e996739fb7646882a419484c72d19e05852a7e"
   }
  }
 },
 "nbformat": 4,
 "nbformat_minor": 2
}
