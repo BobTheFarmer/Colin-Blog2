{
 "cells": [
  {
   "cell_type": "markdown",
   "metadata": {},
   "source": [
    "# Week6 Summary\n",
    "> A summary of the key ideas\n",
    "- categories: [week6,ipynb]\n",
    "- comments: true"
   ]
  },
  {
   "cell_type": "markdown",
   "metadata": {},
   "source": [
    "| Key Idea | How I used it |\n",
    "| ----------- | ----------- |\n",
    "| Program Purpose and Function | Set up our sites for they can be on aws in the future |\n",
    "| Data Abstraction | Lists and classes in javascript |\n",
    "| Managing Complexity | We had trouble communicating for our shared flask |\n",
    "| Procedural Abstraction | Classes in javascript |\n",
    "| Algorithm Implementation | Classes and methods in javascript|\n",
    "| Testing | Trial and error |\n",
    "\n",
    "## Group Project\n",
    "\n",
    "This week we worked on our group project. We had a lot of trouble with communication but made it in the end.\n"
   ]
  }
 ],
 "metadata": {
  "kernelspec": {
   "display_name": "Python 3.10.6 64-bit",
   "language": "python",
   "name": "python3"
  },
  "language_info": {
   "name": "python",
   "version": "3.10.10"
  },
  "orig_nbformat": 4,
  "vscode": {
   "interpreter": {
    "hash": "b0fa6594d8f4cbf19f97940f81e996739fb7646882a419484c72d19e05852a7e"
   }
  }
 },
 "nbformat": 4,
 "nbformat_minor": 2
}
