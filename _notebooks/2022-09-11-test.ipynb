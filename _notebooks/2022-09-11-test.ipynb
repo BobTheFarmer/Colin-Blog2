{
 "cells": [
  {
   "cell_type": "markdown",
   "metadata": {},
   "source": [
    "# Minecraft Quiz Using Applab2!\n",
    "\n",
    "## Plan: \n",
    "My plan for this project is to: \n",
    "1: Make a basic draft in applab to get an idea for how it works\n",
    "2: Then use this blog to blueprint a more advanced and streamlined version of original\n",
    "3: Combine the blueprint and parts of the original code to make the final project\n",
    "\n",
    "## Drafting: \n",
    "\n",
    "For my draft, I used a basic repeating code structure over and over again to create a basic quiz\n",
    "\n",
    "| Pros      | Cons |\n",
    "| ----------- | ----------- |\n",
    "| Easy to code      | Confusing code; so it would be hard to add more features to       |\n",
    "| N/A   | Not unique        |\n",
    "\n",
    "\n",
    "## Blueprinting: \n",
    "\n",
    "To plan my final quiz, I wanted to see what was good and bad about my draft: \n",
    "\n",
    "\n",
    "- To keep the simple code but make it less confusing, for the final product I will add a function that does the repeating code for me \n",
    "- To make the quiz more unique, I will add a game to the end: You will have to catch diamonds before they fall, and the points you get on the quiz will determine how many you can let fall during the game before losing\n",
    "\n",
    "## The Final Productz "
   ]
  }
 ],
 "metadata": {
  "language_info": {
   "name": "python"
  },
  "orig_nbformat": 4
 },
 "nbformat": 4,
 "nbformat_minor": 2
}
