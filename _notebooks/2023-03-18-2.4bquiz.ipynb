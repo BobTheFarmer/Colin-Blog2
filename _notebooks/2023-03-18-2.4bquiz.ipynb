{
 "cells": [
  {
   "attachments": {},
   "cell_type": "markdown",
   "metadata": {},
   "source": [
    "# 2.4b Notes\n",
    "- categories: [ipynb]\n",
    "- comments: true"
   ]
  },
  {
   "attachments": {},
   "cell_type": "markdown",
   "metadata": {},
   "source": [
    "- What is a database schema?\n",
    "- What is the purpose of identity Column in SQL database?\n",
    "- What is the purpose of a primary key in SQL database?\n",
    "- What are the Data Types in SQL table?\n",
    "- Compore create() in both SQL lessons.  What is better or worse in the two implementations?\n",
    "-  Explain purpose of SQL INSERT.   Is this the same as User __init__?\n",
    "- What does the hacked part do?\n",
    "- Explain try/except, when would except occur?\n",
    "- What code seems to be repeated in each of these examples to point, why is it repeated?\n",
    "- Is DELETE a dangerous operation?  Why?\n",
    "- In the print statements, what is the \"f\" and what does {uid} do?\n",
    "- Why does the menu repeat?\n",
    "- Could you refactor this menu?  Make it work with a List?\n",
    "    <div class=\"row\">\n",
    "      <button class=\"button\" onclick=\"this.classList.add('incorrect')\">Incorrect answer goes here</button>\n",
    "      <button class=\"button\" onclick=\"this.classList.add('correct')\">Correct answer ges here</button>\n",
    "      <button class=\"button\" onclick=\"this.classList.add('incorrect')\">Incorrect answer goes here</button>\n",
    "      <button class=\"button\" onclick=\"this.classList.add('correct')\">Correct answer ges here</button>\n",
    "    </div>  "
   ]
  }
 ],
 "metadata": {
  "language_info": {
   "name": "python"
  },
  "orig_nbformat": 4
 },
 "nbformat": 4,
 "nbformat_minor": 2
}
