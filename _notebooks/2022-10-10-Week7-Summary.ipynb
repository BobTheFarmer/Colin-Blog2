{
 "cells": [
  {
   "cell_type": "markdown",
   "metadata": {},
   "source": [
    "# Week7 Summary\n",
    "> A summary of the key ideas\n",
    "- categories: [week7,ipynb,python]\n",
    "- comments: true"
   ]
  },
  {
   "cell_type": "markdown",
   "metadata": {},
   "source": [
    "| Key Idea | How I used it |\n",
    "| ----------- | ----------- |\n",
    "| Program Purpose and Function | To learn about getting data using an API |\n",
    "| Data Abstraction | JSON data |\n",
    "| Managing Complexity | There was a lot of embedded dictionaries |\n",
    "| Procedural Abstraction | Decomposing JSON dict |\n",
    "| Algorithm Implementation | Decomposing JSON dict|\n",
    "| Testing | Trial and error |"
   ]
  }
 ],
 "metadata": {
  "kernelspec": {
   "display_name": "Python 3.10.6 64-bit",
   "language": "python",
   "name": "python3"
  },
  "language_info": {
   "name": "python",
   "version": "3.10.6"
  },
  "orig_nbformat": 4,
  "vscode": {
   "interpreter": {
    "hash": "b0fa6594d8f4cbf19f97940f81e996739fb7646882a419484c72d19e05852a7e"
   }
  }
 },
 "nbformat": 4,
 "nbformat_minor": 2
}
