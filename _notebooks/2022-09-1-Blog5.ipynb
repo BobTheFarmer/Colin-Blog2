{
 "cells": [
  {
   "cell_type": "markdown",
   "metadata": {},
   "source": [
    "# Adding a custom theme\n",
    "> Using the _config.yml to test adding a new theme\n",
    "- categories: [week3,ipynb]\n",
    "- comments: true\n",
    "\n",
    "As a test, I added the midnight theme. The largest problem I noticed is that it removed the top bar with my _pages. Overall, this theme actually did not cause a lot of damage when compared to those which some of my peers chose, but it is still not usable due to the one major problem\n",
    "<html>\n",
    "<img src=\"{{site.baseurl}}/images/themeChange.png\" alt=\"Colin's Blog Header\">\n",
    "</html>"
   ]
  }
 ],
 "metadata": {
  "kernelspec": {
   "display_name": "Python 3.10.6 64-bit",
   "language": "python",
   "name": "python3"
  },
  "language_info": {
   "name": "python",
   "version": "3.10.6"
  },
  "orig_nbformat": 4,
  "vscode": {
   "interpreter": {
    "hash": "b0fa6594d8f4cbf19f97940f81e996739fb7646882a419484c72d19e05852a7e"
   }
  }
 },
 "nbformat": 4,
 "nbformat_minor": 2
}
