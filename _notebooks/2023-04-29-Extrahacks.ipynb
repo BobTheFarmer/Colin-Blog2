{
 "cells": [
  {
   "attachments": {},
   "cell_type": "markdown",
   "metadata": {},
   "source": [
    "# Extra hacks\n",
    "> A guessing game but with words instead"
   ]
  },
  {
   "cell_type": "code",
   "execution_count": 1,
   "metadata": {},
   "outputs": [
    {
     "name": "stdout",
     "output_type": "stream",
     "text": [
      "You have used these letters:  \n",
      "Current word:  _ _ _ _ _\n",
      "You have used these letters:  f\n",
      "Current word:  _ _ _ _ _\n",
      "You have used these letters:  g f\n",
      "Current word:  _ _ _ _ _\n",
      "You have used these letters:  g s f\n",
      "Current word:  _ _ _ _ _\n",
      "You have used these letters:  g a s f\n",
      "Current word:  a _ _ _ _\n",
      "You have used these letters:  a l g s f\n",
      "Current word:  a _ _ l _\n",
      "You have used these letters:  a l g s f m\n",
      "Current word:  a _ _ l _\n",
      "You have used these letters:  a l p g s f m\n",
      "Current word:  a p p l _\n",
      "Congratulations! You guessed the word apple!\n",
      "Your current score is: 4\n",
      "High scores: [4]\n",
      "You have used these letters:  \n",
      "Current word:  _ _ _ _ _ _ _ _ _ _\n",
      "You have used these letters:  s\n",
      "Current word:  s _ _ _ _ _ _ _ _ _\n",
      "You have used these letters:  t s\n",
      "Current word:  s t _ _ _ _ _ _ _ _\n",
      "You have used these letters:  r t s\n",
      "Current word:  s t r _ _ _ _ r r _\n",
      "You have used these letters:  r a t s\n",
      "Current word:  s t r a _ _ _ r r _\n",
      "You have used these letters:  a r s t w\n",
      "Current word:  s t r a w _ _ r r _\n",
      "You have used these letters:  a r s j t w\n",
      "Current word:  s t r a w _ _ r r _\n",
      "You have used these letters:  a l r s j t w\n",
      "Current word:  s t r a w _ _ r r _\n",
      "You have used these letters:  b a l r s j t w\n",
      "Current word:  s t r a w b _ r r _\n",
      "You have used these letters:  b a l e r s j t w\n",
      "Current word:  s t r a w b e r r _\n",
      "You have already used that letter. Guess another letter.\n",
      "You have used these letters:  b a l e r s j t w\n",
      "Current word:  s t r a w b e r r _\n",
      "Congratulations! You guessed the word strawberry!\n",
      "Your current score is: 8\n",
      "High scores: [4, 8]\n"
     ]
    }
   ],
   "source": [
    "import random\n",
    "\n",
    "words = ['apple', 'banana', 'orange', 'strawberry', 'grapefruit']\n",
    "alphabet = set('abcdefghijklmnopqrstuvwxyz')\n",
    "high_scores = []\n",
    "\n",
    "while True:\n",
    "    word = random.choice(words)\n",
    "    word_letters = set(word)\n",
    "    used_letters = set()\n",
    "    score = 0\n",
    "\n",
    "    while len(word_letters) > 0:\n",
    "        print('You have used these letters: ', ' '.join(used_letters))\n",
    "        word_list = [letter if letter in used_letters else '_' for letter in word]\n",
    "        print('Current word: ', ' '.join(word_list))\n",
    "\n",
    "        user_letter = input('Guess a letter: ').lower()\n",
    "        if user_letter in alphabet - used_letters:\n",
    "            used_letters.add(user_letter)\n",
    "            if user_letter in word_letters:\n",
    "                word_letters.remove(user_letter)\n",
    "                score += 1\n",
    "        elif user_letter in used_letters:\n",
    "            print('You have already used that letter. Guess another letter.')\n",
    "        else:\n",
    "            print('Invalid character. Please try again.')\n",
    "\n",
    "    print(f'Congratulations! You guessed the word {word}!')\n",
    "    high_scores.append(score)\n",
    "    print(f'Your current score is: {score}')\n",
    "    print(f'High scores: {high_scores}')\n",
    "\n",
    "    play_again = input('Do you want to play again? (Y/N) ').lower()\n",
    "    if play_again == 'n':\n",
    "        break\n"
   ]
  }
 ],
 "metadata": {
  "kernelspec": {
   "display_name": "base",
   "language": "python",
   "name": "python3"
  },
  "language_info": {
   "codemirror_mode": {
    "name": "ipython",
    "version": 3
   },
   "file_extension": ".py",
   "mimetype": "text/x-python",
   "name": "python",
   "nbconvert_exporter": "python",
   "pygments_lexer": "ipython3",
   "version": "3.9.12"
  },
  "orig_nbformat": 4
 },
 "nbformat": 4,
 "nbformat_minor": 2
}
