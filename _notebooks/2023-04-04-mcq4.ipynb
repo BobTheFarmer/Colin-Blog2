{
 "cells": [
  {
   "attachments": {},
   "cell_type": "markdown",
   "metadata": {},
   "source": [
    "# MCQ 4 Corrections"
   ]
  },
  {
   "attachments": {},
   "cell_type": "markdown",
   "metadata": {},
   "source": [
    "![](my_icons/mcq4.png)"
   ]
  },
  {
   "attachments": {},
   "cell_type": "markdown",
   "metadata": {},
   "source": [
    "## Missed questions"
   ]
  },
  {
   "attachments": {},
   "cell_type": "markdown",
   "metadata": {},
   "source": [
    "## Question 6\n",
    "\n",
    "Metadata also helps route data rather than only supply additional information\n",
    "\n",
    "## Question 27\n",
    "\n",
    "By copying pixels from one part of the image to another part of the image, the old RGB values of the pixels have been lost.\n",
    "\n",
    "## Question 37\n",
    "\n",
    "t is correct that as n increases, the number of steps is approximately equal to n2. However, that means the algorithm runs in a reasonable amount of time.\n",
    "\n",
    "## MCQ Reflection MCQ\n",
    "\n",
    "<html>\n",
    "  <head>\n",
    "    <style>\n",
    "      /* Styles for buttons */\n",
    "      .button {\n",
    "        width: 200px;\n",
    "        height: 50px;\n",
    "        font-size: 14px;\n",
    "        border: none;\n",
    "        margin-bottom: 10px;\n",
    "      }\n",
    "      .correct {\n",
    "        background-color: green;\n",
    "        color: white;\n",
    "      }\n",
    "      .incorrect {\n",
    "        background-color: red;\n",
    "        color: white;\n",
    "      }\n",
    "    </style>\n",
    "  </head>\n",
    "  <body>\n",
    "  <div id=\"quiz\">\n",
    "  - What are some common errors made?\n",
    "    <div class=\"row\">\n",
    "      <button class=\"button\" onclick=\"this.classList.add('incorrect')\">Spending too much time on each question</button>\n",
    "      <button class=\"button\" onclick=\"this.classList.add('correct')\">Not checking the code by going through each step to check answers*!</button>\n",
    "      <button class=\"button\" onclick=\"this.classList.add('incorrect')\">Not considering different perspectives</button>\n",
    "      <button class=\"button\" onclick=\"this.classList.add('correct')\">Not considering other options after finding one that may be correct</button>\n",
    "    </div>\n",
    "  - How could these errors be fixed?\n",
    "    <div class=\"row\">\n",
    "      <button class=\"button\" onclick=\"this.classList.add('incorrect')\">Go faster that way you have more time to check answers</button>\n",
    "      <button class=\"button\" onclick=\"this.classList.add('correct')\">Spend a even amount of time both choosing and reviewing answers</button>\n",
    "    </div>\n",
    "  </div>\n",
    "  </body>\n",
    "</html>"
   ]
  }
 ],
 "metadata": {
  "language_info": {
   "name": "python"
  },
  "orig_nbformat": 4
 },
 "nbformat": 4,
 "nbformat_minor": 2
}
