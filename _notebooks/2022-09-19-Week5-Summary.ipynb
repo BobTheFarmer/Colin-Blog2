{
 "cells": [
  {
   "cell_type": "markdown",
   "metadata": {},
   "source": [
    "# Week5 Summary\n",
    "> A summary of the key ideas\n",
    "- categories: [week5,ipynb]\n",
    "- comments: true"
   ]
  },
  {
   "cell_type": "markdown",
   "metadata": {},
   "source": [
    "| Key Idea | How I used it |\n",
    "| ----------- | ----------- |\n",
    "| Program Purpose and Function | To be able to locally host our fastpages and group project; improving the speed we can work at |\n",
    "| Data Abstraction | N/A |i\n",
    "| Managing Complexity | I went back to the week 1 instructions in order to better understand the instillation process |\n",
    "| Procedural Abstraction | N/A |\n",
    "| Algorithm Implementation | Outside algorithms where used in the command log to download things|\n",
    "| Testing | Trial and error |\n",
    "\n",
    "## Mental Health \n",
    "\n",
    "This week we also learned about the importance of keeping time for things like social connections, gratitude, helping others; and making time for these things and other stress relievers\n",
    "\n"
   ]
  }
 ],
 "metadata": {
  "kernelspec": {
   "display_name": "JavaScript (Node.js)",
   "language": "javascript",
   "name": "javascript"
  },
  "language_info": {
   "file_extension": ".js",
   "mimetype": "application/javascript",
   "name": "javascript",
   "version": "10.13.0"
  },
  "orig_nbformat": 4,
  "vscode": {
   "interpreter": {
    "hash": "949777d72b0d2535278d3dc13498b2535136f6dfe0678499012e853ee9abcab1"
   }
  }
 },
 "nbformat": 4,
 "nbformat_minor": 2
}
