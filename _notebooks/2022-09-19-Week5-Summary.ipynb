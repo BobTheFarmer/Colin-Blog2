{
 "cells": [
  {
   "cell_type": "markdown",
   "metadata": {},
   "source": [
    "# Week5 Summary\n",
    "> A summary of the key ideas\n",
    "- categories: [week5,ipynb]\n",
    "- comments: true"
   ]
  },
  {
   "cell_type": "markdown",
   "metadata": {},
   "source": [
    "| Key Idea | How I used it |\n",
    "| ----------- | ----------- |\n",
    "| Program Purpose and Function | To be able to locally host our fastpages and group project; improving the speed we can work at |\n",
    "| Data Abstraction | N/A |i\n",
    "| Managing Complexity | I went back to the week 1 instructions in order to better understand the instillation process |\n",
    "| Procedural Abstraction | N/A |\n",
    "| Algorithm Implementation | Outside algorithms where used in the command log to download things|\n",
    "| Testing | Trial and error |\n",
    "\n",
    "## Mental Health \n",
    "\n",
    "This week we also learned about the importance of keeping time for things like social connections, gratitude, helping others\n",
    "\n"
   ]
  }
 ],
 "metadata": {
  "kernelspec": {
   "display_name": "Python 3.10.6 64-bit",
   "language": "python",
   "name": "python3"
  },
  "language_info": {
   "name": "python",
   "version": "3.10.6"
  },
  "orig_nbformat": 4,
  "vscode": {
   "interpreter": {
    "hash": "b0fa6594d8f4cbf19f97940f81e996739fb7646882a419484c72d19e05852a7e"
   }
  }
 },
 "nbformat": 4,
 "nbformat_minor": 2
}
