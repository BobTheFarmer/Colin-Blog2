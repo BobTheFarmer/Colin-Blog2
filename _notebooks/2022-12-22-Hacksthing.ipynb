{
 "cells": [
  {
   "attachments": {},
   "cell_type": "markdown",
   "metadata": {},
   "source": [
    "# Hacks; My name is Colin Weis\n",
    "\n",
    "- badges: true\n",
    "- comments: true\n",
    "- categories: [markdown]"
   ]
  },
  {
   "attachments": {},
   "cell_type": "markdown",
   "metadata": {},
   "source": [
    "# Reflection/Summary\n",
    "A library is a collection of pre-written code that can be used by a programmer to help them more easily accomplish a task. This is particularly useful for tasks that are common or repetitive, as the programmer can simply use the code from the library rather than having to write it from scratch each time. Using a library can save time and effort for the programmer, as they do not have to reinvent the wheel each time they need to perform a common task. However, it is important to carefully consider which library to use, as different libraries may have different strengths and weaknesses, and using the wrong library for a task can lead to problems.\n",
    "\n",
    "One example of a library is the random library, which contains functions for generating random values. These random values can be used in a variety of ways, such as in simulations or games to add an element of chance, or in machine learning algorithms to help with training. Using a library can save time and effort for the programmer, as they do not have to reinvent the wheel each time they need to perform a common task. However, it is important to carefully consider which library to use, as different libraries may have different strengths and weaknesses, and using the wrong library for a task can lead to problems.\n",
    "# MCs\n",
    "- 1: B, random is inclusive by definition\n",
    "- 2: A, this is the order they would be in \n",
    "- 3: A, all the other ones where taught but random:item does not exsist\n",
    "# Short Answer Qs\n",
    "- 1: The main advantage of using libraries is that they provide pre-written code that you can use in your own programs. This can save a lot of time and effort, because you don't have to write the code yourself. Additionally, because the code in a library has been used and tested by many other people, it is generally more reliable and efficient than code that you might write yourself. Using libraries can also make it easier to develop programs that are more complex and sophisticated, because the code in a library can provide a foundation that you can build upon.\n",
    "- 2: The code is a simple program that takes a list of names from the user and randomly selects one of the names to be the person who will pay for a meal.\n",
    "\n",
    "First, the code imports the random module, which provides functions for generating random numbers.\n",
    "\n",
    "Next, the code prompts the user for a list of names, which are entered as a string with the names separated by commas. The input string is then split using the split() method, which creates a list of the individual names.\n",
    "\n",
    "The code then finds the number of names in the list using the len() function, and uses this value to generate a random integer using the random.randint() function. This random integer is used as an index to select one of the names from the list.\n",
    "\n",
    "Finally, the selected name is printed to the screen.\n",
    "# Code\n",
    "- 1:"
   ]
  },
  {
   "cell_type": "code",
   "execution_count": 1,
   "metadata": {},
   "outputs": [
    {
     "name": "stdout",
     "output_type": "stream",
     "text": [
      "The five random names are:\n",
      "Charlie\n",
      "Nancy\n",
      "Wanda\n",
      "Liam\n",
      "Heidi\n"
     ]
    }
   ],
   "source": [
    "import random\n",
    "\n",
    "# List of names\n",
    "names = [\"Alice\", \"Bob\", \"Charlie\", \"David\", \"Eve\", \"Frank\", \"Grace\", \"Heidi\", \"Isabel\", \"Jack\", \"Karen\", \"Liam\", \"Mike\", \"Nancy\", \"Olivia\", \"Pat\", \"Queenie\", \"Richard\", \"Samantha\", \"Trevor\", \"Ursula\", \"Victoria\", \"Wanda\", \"Xander\", \"Yolanda\", \"Zach\"]\n",
    "\n",
    "# Pick five random names from the list\n",
    "random_names = random.sample(names, 5)\n",
    "\n",
    "# Print the selected names\n",
    "print(\"The five random names are:\")\n",
    "for name in random_names:\n",
    "    print(name)\n"
   ]
  },
  {
   "attachments": {},
   "cell_type": "markdown",
   "metadata": {},
   "source": [
    "- 2:"
   ]
  },
  {
   "cell_type": "code",
   "execution_count": 3,
   "metadata": {},
   "outputs": [
    {
     "name": "stdout",
     "output_type": "stream",
     "text": [
      "Player 1 wins: 46\n",
      "Player 2 wins: 48\n",
      "Ties: 6\n"
     ]
    }
   ],
   "source": [
    "import random\n",
    "\n",
    "num_sides = 6\n",
    "\n",
    "def roll_die():\n",
    "  return random.randint(1, num_sides)\n",
    "\n",
    "def roll_dice():\n",
    "  roll1 = roll_die()\n",
    "  roll2 = roll_die()\n",
    "  return roll1 + roll2\n",
    "\n",
    "def play_game(player1, player2):\n",
    "  sum1 = roll_dice()\n",
    "  sum2 = roll_dice()\n",
    "\n",
    "  if sum1 > sum2:\n",
    "    return player1\n",
    "  elif sum2 > sum1:\n",
    "    return player2\n",
    "  else:\n",
    "    return \"Tie\"\n",
    "\n",
    "player1_wins = 0\n",
    "player2_wins = 0\n",
    "ties = 0\n",
    "\n",
    "for i in range(100):\n",
    "  result = play_game(\"Player 1\", \"Player 2\")\n",
    "  if result == \"Player 1\":\n",
    "    player1_wins += 1\n",
    "  elif result == \"Player 2\":\n",
    "    player2_wins += 1\n",
    "  else:\n",
    "    ties += 1\n",
    "\n",
    "print(f\"Player 1 wins: {player1_wins}\")\n",
    "print(f\"Player 2 wins: {player2_wins}\")\n",
    "print(f\"Ties: {ties}\")"
   ]
  },
  {
   "attachments": {},
   "cell_type": "markdown",
   "metadata": {},
   "source": [
    "# Ec"
   ]
  },
  {
   "cell_type": "code",
   "execution_count": 4,
   "metadata": {},
   "outputs": [
    {
     "name": "stdout",
     "output_type": "stream",
     "text": [
      "X   X   X\n",
      "      X  \n",
      "  X X X  \n",
      "X     X  \n",
      "R G     X\n"
     ]
    }
   ],
   "source": [
    "import random\n",
    "\n",
    "# initial direction of the robot\n",
    "directions = [\"up\", \"down\", \"left\", \"right\"]\n",
    "initial_direction = random.choice(directions)\n",
    "\n",
    "# initial position of the robot\n",
    "initial_row = random.randint(0, 4)\n",
    "initial_col = random.randint(0, 4)\n",
    "\n",
    "# goal position\n",
    "goal_row = random.randint(0, 4)\n",
    "goal_col = random.randint(0, 4)\n",
    "\n",
    "# positions of wall/obstacle squares\n",
    "# we generate at least 12 such positions, but we need to make sure they are different\n",
    "# from the initial position and the goal position\n",
    "wall_positions = []\n",
    "while len(wall_positions) < 12:\n",
    "    row = random.randint(0, 4)\n",
    "    col = random.randint(0, 4)\n",
    "    if (row, col) != (initial_row, initial_col) and (row, col) != (goal_row, goal_col):\n",
    "        wall_positions.append((row, col))\n",
    "\n",
    "course = [[\" \" for _ in range(5)] for _ in range(5)]\n",
    "\n",
    "# set the initial position of the robot\n",
    "course[initial_row][initial_col] = \"R\"\n",
    "\n",
    "# set the goal position\n",
    "course[goal_row][goal_col] = \"G\"\n",
    "\n",
    "# set the positions of the wall/obstacle squares\n",
    "for row, col in wall_positions:\n",
    "    course[row][col] = \"X\"\n",
    "\n",
    "# print out the course\n",
    "for row in course:\n",
    "    print(\" \".join(row))"
   ]
  }
 ],
 "metadata": {
  "kernelspec": {
   "display_name": "Python 3",
   "language": "python",
   "name": "python3"
  },
  "language_info": {
   "codemirror_mode": {
    "name": "ipython",
    "version": 3
   },
   "file_extension": ".py",
   "mimetype": "text/x-python",
   "name": "python",
   "nbconvert_exporter": "python",
   "pygments_lexer": "ipython3",
   "version": "3.10.6 (main, Aug 11 2022, 13:36:31) [Clang 13.1.6 (clang-1316.0.21.2.5)]"
  },
  "orig_nbformat": 4,
  "vscode": {
   "interpreter": {
    "hash": "b0fa6594d8f4cbf19f97940f81e996739fb7646882a419484c72d19e05852a7e"
   }
  }
 },
 "nbformat": 4,
 "nbformat_minor": 2
}
