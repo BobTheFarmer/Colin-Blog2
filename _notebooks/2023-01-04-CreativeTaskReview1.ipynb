{
 "cells": [
  {
   "attachments": {},
   "cell_type": "markdown",
   "metadata": {},
   "source": [
    "# Performance task review\n",
    "\n",
    "- toc: true \n",
    "- badges: true\n",
    "- comments: true"
   ]
  },
  {
   "attachments": {},
   "cell_type": "markdown",
   "metadata": {},
   "source": [
    "# Submission 1\n",
    "|Reporting Category|Student Score|College Board Score|Comments|\n",
    "|---|---|---|---|\n",
    "|Program Purpose and Function|1|0|Program does what it is supposed to do|\n",
    "|Data Abstraction|1|1|Data abstraction is used to avoid using too many if statements|\n",
    "|Managing Complexity|0|0|Did not explain how they could have written it otherwise|\n",
    "|Procedural Abstraction|0|1|Did not explain how it contributes to program|\n",
    "|Algorithm Implementation|1|1|Algorithms are used|\n",
    "|Testing|1|1|Testing is used|\n",
    "# Submission 2\n",
    "|Reporting Category|Student Score|College Board Score|Comments|\n",
    "|---|---|---|---|\n",
    "|Program Purpose and Function|1|1|Program purpose is fulfilled accurately|\n",
    "|Data Abstraction|1|1|List contains multiple items and is important to purpose|\n",
    "|Managing Complexity|1|1|The method limits the complexity|\n",
    "|Procedural Abstraction|1|1|Procedural abstractions makes the program simpler|\n",
    "|Algorithm Implementation|1|1|The algorithm fulfils it's purpose|\n",
    "|Testing|1|1|Tests are there|"
   ]
  }
 ],
 "metadata": {
  "kernelspec": {
   "display_name": "Python 3",
   "language": "python",
   "name": "python3"
  },
  "language_info": {
   "name": "python",
   "version": "3.10.9 (main, Dec 15 2022, 10:44:50) [Clang 14.0.0 (clang-1400.0.29.202)]"
  },
  "orig_nbformat": 4,
  "vscode": {
   "interpreter": {
    "hash": "b0fa6594d8f4cbf19f97940f81e996739fb7646882a419484c72d19e05852a7e"
   }
  }
 },
 "nbformat": 4,
 "nbformat_minor": 2
}
