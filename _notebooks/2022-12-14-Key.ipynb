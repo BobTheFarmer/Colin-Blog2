{
 "cells": [
  {
   "attachments": {},
   "cell_type": "markdown",
   "metadata": {},
   "source": [
    "# Grades and key\n",
    "- comments: true"
   ]
  },
  {
   "cell_type": "code",
   "execution_count": 1,
   "metadata": {},
   "outputs": [
    {
     "name": "stdout",
     "output_type": "stream",
     "text": [
      "Person 1: [33, 31, 29, 13, 12, 22, 23, 34, 18, 5, 8, 16, 38]\n",
      "Person 2: [6, 21, 37, 7, 1, 10, 4, 3, 2, 24, 14, 11, 26]\n",
      "Person 3: [19, 20, 27, 39, 28, 30, 32, 15, 35, 9, 25, 36, 17]\n"
     ]
    }
   ],
   "source": [
    "import random\n",
    "\n",
    "# Generate a list of the numbers 1 through 39\n",
    "numbers = list(range(1, 40))\n",
    "\n",
    "# Shuffle the list of numbers\n",
    "random.shuffle(numbers)\n",
    "\n",
    "# Divide the shuffled list into 3 equal parts\n",
    "person1_numbers = numbers[:13]\n",
    "person2_numbers = numbers[13:26]\n",
    "person3_numbers = numbers[26:]\n",
    "\n",
    "# Print the list of numbers for each person\n",
    "print(\"Person 1:\", person1_numbers)\n",
    "print(\"Person 2:\", person2_numbers)\n",
    "print(\"Person 3:\", person3_numbers)\n"
   ]
  }
 ],
 "metadata": {
  "kernelspec": {
   "display_name": "Python 3",
   "language": "python",
   "name": "python3"
  },
  "language_info": {
   "codemirror_mode": {
    "name": "ipython",
    "version": 3
   },
   "file_extension": ".py",
   "mimetype": "text/x-python",
   "name": "python",
   "nbconvert_exporter": "python",
   "pygments_lexer": "ipython3",
   "version": "3.10.9 (main, Dec 15 2022, 10:44:50) [Clang 14.0.0 (clang-1400.0.29.202)]"
  },
  "orig_nbformat": 4,
  "vscode": {
   "interpreter": {
    "hash": "b0fa6594d8f4cbf19f97940f81e996739fb7646882a419484c72d19e05852a7e"
   }
  }
 },
 "nbformat": 4,
 "nbformat_minor": 2
}
