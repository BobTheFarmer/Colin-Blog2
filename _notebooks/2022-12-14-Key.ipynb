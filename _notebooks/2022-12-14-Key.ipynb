{
 "cells": [
  {
   "attachments": {},
   "cell_type": "markdown",
   "metadata": {},
   "source": [
    "# Key\n",
    "- comments: true"
   ]
  },
  {
   "attachments": {},
   "cell_type": "markdown",
   "metadata": {},
   "source": [
    "|Question|Answer|\n",
    "|---|---|\n",
    "|1|N/A|\n",
    "|2|N/A|\n",
    "|3|D|\n",
    "|4|F|\n",
    "|5|G|\n",
    "|6|A|\n",
    "|7|C|\n",
    "|8|N/A|\n",
    "|9|A|\n",
    "|Extra|.05 for anything; .1 for good|\n",
    "|Notes/Extra not in the box|.05 for anything; .1 for good; don't go above 1.0/1.0|"
   ]
  }
 ],
 "metadata": {
  "kernelspec": {
   "display_name": "Python 3",
   "language": "python",
   "name": "python3"
  },
  "language_info": {
   "name": "python",
   "version": "3.10.6 (main, Aug 11 2022, 13:36:31) [Clang 13.1.6 (clang-1316.0.21.2.5)]"
  },
  "orig_nbformat": 4,
  "vscode": {
   "interpreter": {
    "hash": "b0fa6594d8f4cbf19f97940f81e996739fb7646882a419484c72d19e05852a7e"
   }
  }
 },
 "nbformat": 4,
 "nbformat_minor": 2
}
