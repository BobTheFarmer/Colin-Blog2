{
 "cells": [
  {
   "attachments": {},
   "cell_type": "markdown",
   "metadata": {},
   "source": [
    "# Big Idea 2 Quiz\n",
    "- categories: [ipynb]\n",
    "- comments: true"
   ]
  },
  {
   "attachments": {},
   "cell_type": "markdown",
   "metadata": {},
   "source": [
    "![](my_icons/Bigidea2.png)"
   ]
  },
  {
   "attachments": {},
   "cell_type": "markdown",
   "metadata": {},
   "source": [
    "# Corrections\n",
    "## Question 17\n",
    "This information can be determined using the data collected, but not the way described in this option. One way to determine the method of payment that was used in the greatest number of transactions during the 7-day period is to sort the data by the method of payment as described. Instead of adding the number of items purchased for each type of payment, a count of each payment type needs to be computed. If the counts are stored in a new field, then the counts can be sorted to find the method of payment used in the greatest number of transactions.\n",
    "## Question 9\n",
    "Different users may abbreviate city names differently. This may require the student to clean the data to make it uniform before it can be processed.\n",
    "\n",
    "# MCQ Corrections MCQ\n",
    "> A quiz. Take what went wrong and answer how you can fix it in the future\n",
    "\n",
    "<html>\n",
    "  <head>\n",
    "    <style>\n",
    "      /* Styles for buttons */\n",
    "      .button {\n",
    "        width: 200px;\n",
    "        height: 50px;\n",
    "        font-size: 14px;\n",
    "        border: none;\n",
    "        margin-bottom: 10px;\n",
    "      }\n",
    "      .correct {\n",
    "        background-color: green;\n",
    "        color: white;\n",
    "      }\n",
    "      .incorrect {\n",
    "        background-color: red;\n",
    "        color: white;\n",
    "      }\n",
    "    </style>\n",
    "  </head>\n",
    "  <body>\n",
    "  <div id=\"quiz\">\n",
    "  - What are some common errors made?\n",
    "    <div class=\"row\">\n",
    "      <button class=\"button\" onclick=\"this.classList.add('incorrect')\">Spending too much time on each question</button>\n",
    "      <button class=\"button\" onclick=\"this.classList.add('correct')\">Not checking the code by going through each step to check answers*!</button>\n",
    "      <button class=\"button\" onclick=\"this.classList.add('incorrect')\">Not considering different perspectives</button>\n",
    "      <button class=\"button\" onclick=\"this.classList.add('correct')\">Not considering other options after finding one that may be correct</button>\n",
    "    </div>\n",
    "  - How could these errors be fixed?\n",
    "    <div class=\"row\">\n",
    "      <button class=\"button\" onclick=\"this.classList.add('incorrect')\">Go faster that way you have more time to check answers</button>\n",
    "      <button class=\"button\" onclick=\"this.classList.add('correct')\">Spend a even amount of time both choosing and reviewing answers</button>\n",
    "    </div>\n",
    "  </div>\n",
    "  </body>\n",
    "</html>"
   ]
  }
 ],
 "metadata": {
  "language_info": {
   "name": "python"
  },
  "orig_nbformat": 4
 },
 "nbformat": 4,
 "nbformat_minor": 2
}
