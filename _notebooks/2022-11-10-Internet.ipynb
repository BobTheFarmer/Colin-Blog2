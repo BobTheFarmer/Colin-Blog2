{
 "cells": [
  {
   "cell_type": "markdown",
   "metadata": {},
   "source": [
    "# My understanding of the internet\n",
    "> A summary of key ideas for the internet\n",
    "- categories: [week8,ipynb]\n",
    "- comments: true"
   ]
  },
  {
   "cell_type": "markdown",
   "metadata": {},
   "source": [
    "### HTTP/HTTPs protocol\n",
    "\n",
    "Http is a protocol to fetch documents on the internet for they can be displayed. Https is an extension of this protocol which allows for more security.\n",
    "\n",
    "![](my_icons/http.png)\n",
    "\n",
    "### DNS\n",
    "\n",
    "DNS stands for domain name system. It is the domain/link that a webpage is hosted on.\n",
    "\n",
    "### IP Address\n",
    "\n",
    "An IP address is your computers identification.  6 examples of devices with IPs: \n",
    "- Samsung smart fridge\n",
    "- Phone\n",
    "- Computer\n",
    "- Bluetooth speaker\n",
    "- AWS server\n",
    "- Bluetooth mouse\n",
    "\n",
    "### Observe Internet Traffic\n",
    "\n",
    "By observing internet traffic I have learned that your devices have multiple connections at a time, which is something interesting I did not know about before\n",
    "\n",
    "### OSI\n",
    "\n",
    "OSI is a 7 step model that demonstrates the details of a internet connection.\n",
    "\n",
    "![](my_icons/OSI.jpeg)"
   ]
  }
 ],
 "metadata": {
  "kernelspec": {
   "display_name": "Python 3.10.6 64-bit",
   "language": "python",
   "name": "python3"
  },
  "language_info": {
   "name": "python",
   "version": "3.10.6"
  },
  "orig_nbformat": 4,
  "vscode": {
   "interpreter": {
    "hash": "b0fa6594d8f4cbf19f97940f81e996739fb7646882a419484c72d19e05852a7e"
   }
  }
 },
 "nbformat": 4,
 "nbformat_minor": 2
}
