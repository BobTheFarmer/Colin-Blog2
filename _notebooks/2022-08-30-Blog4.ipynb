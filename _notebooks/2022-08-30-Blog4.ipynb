{
 "cells": [
  {
   "cell_type": "markdown",
   "metadata": {},
   "source": [
    "# Loops, Lists and Dictionaries\n",
    "> Hacks for Loops, Lists and Dictionaries to store Minecraft crafting recipes \n",
    "- categories: [python,week3,ipynb]\n",
    "- comments: true"
   ]
  },
  {
   "cell_type": "code",
   "execution_count": 6,
   "metadata": {},
   "outputs": [
    {
     "name": "stdout",
     "output_type": "stream",
     "text": [
      "What recipe do you want to see? Type stop to stop the program. All lowercase please.\n",
      "Recipe for a sword: \n",
      "     wood     \n",
      "     wood     \n",
      "     stick     \n",
      "What recipe do you want to see? Type stop to stop the program. All lowercase please.\n",
      "Recipe for a pickaxe: \n",
      "wood wood wood\n",
      "     stick     \n",
      "     stick     \n",
      "What recipe do you want to see? Type stop to stop the program. All lowercase please.\n",
      "Recipe for a crafting table: \n",
      "              \n",
      "     Wood Wood\n",
      "     Wood Wood\n",
      "What recipe do you want to see? Type stop to stop the program. All lowercase please.\n",
      "Stopping program...\n"
     ]
    }
   ],
   "source": [
    "#This method makes a 3 by 3 array of strings to represent the crafting grid\n",
    "\n",
    "def makeCraftingGrid(name, A1, A2, A3, B1, B2, B3, C1, C2, C3):\n",
    "    grid = [name, A1, A2, A3, B1, B2, B3, C1, C2, C3]\n",
    "    return grid\n",
    "\n",
    "#Define Some Recipes\n",
    "pickaxe = makeCraftingGrid(\"pickaxe\", \"wood\", \"wood\", \"wood\", \"    \", \"stick\", \"    \", \"    \", \"stick\", \"    \")\n",
    "sword = makeCraftingGrid(\"sword\", \"    \", \"wood\", \"    \", \"    \", \"wood\", \"    \", \"    \", \"stick\", \"    \")\n",
    "craftingTable = makeCraftingGrid(\"crafting table\", \"    \", \"    \", \"    \", \"    \", \"Wood\", \"Wood\", \"    \", \"Wood\", \"Wood\")\n",
    "\n",
    "#This method returns a string for I can print the arrays in a nicer fashion more reminiscent of the game\n",
    "def printCraftingGrid(grid):\n",
    "    gridString = \"Recipe for a \" + grid[0] + \": \\n\" + grid[1] + \" \" + grid[2] + \" \" + grid[3] + \"\\n\" + grid[4] + \" \" + grid[5] + \" \" + grid[6] + \"\\n\" + grid[7] + \" \" + grid[8] + \" \" + grid[9]    \n",
    "    return gridString\n",
    "\n",
    "#Define a dict of the recipe gridStrings\n",
    "recipeDict = {\n",
    "    \"pickaxe\": printCraftingGrid(pickaxe),\n",
    "    \"sword\": printCraftingGrid(sword),\n",
    "    \"crafting table\": printCraftingGrid(craftingTable)\n",
    "  }\n",
    "\n",
    "#Loop until told to stop\n",
    "run = True\n",
    "\n",
    "while(run):\n",
    "    print(\"What recipe do you want to see? Type stop to stop the program. All lowercase please.\")\n",
    "    recipeInput = input()\n",
    "\n",
    "    if(recipeInput != \"stop\"):\n",
    "        print(recipeDict.get(recipeInput))\n",
    "    else:\n",
    "        print(\"Stopping program...\")\n",
    "        run = False\n",
    "   \n",
    "\n",
    "   \n",
    "   \n",
    "    \n",
    "\n"
   ]
  },
  {
   "cell_type": "code",
   "execution_count": null,
   "metadata": {},
   "outputs": [],
   "source": []
  }
 ],
 "metadata": {
  "kernelspec": {
   "display_name": "Python 3.10.6 64-bit",
   "language": "python",
   "name": "python3"
  },
  "language_info": {
   "codemirror_mode": {
    "name": "ipython",
    "version": 3
   },
   "file_extension": ".py",
   "mimetype": "text/x-python",
   "name": "python",
   "nbconvert_exporter": "python",
   "pygments_lexer": "ipython3",
   "version": "3.10.6"
  },
  "orig_nbformat": 4,
  "vscode": {
   "interpreter": {
    "hash": "b0fa6594d8f4cbf19f97940f81e996739fb7646882a419484c72d19e05852a7e"
   }
  }
 },
 "nbformat": 4,
 "nbformat_minor": 2
}
