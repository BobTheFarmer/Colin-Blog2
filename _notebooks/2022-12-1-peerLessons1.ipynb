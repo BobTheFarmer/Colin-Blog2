{
 "cells": [
  {
   "cell_type": "markdown",
   "metadata": {},
   "source": [
    "# Week by week peer teaching summary\n",
    "> A brief blog about week1 of peer grading\n",
    "- categories: [ipynb]\n",
    "- comments: true\n",
    "- toc: true"
   ]
  },
  {
   "cell_type": "markdown",
   "metadata": {},
   "source": [
    "# Week 1\n",
    "\n",
    "## Summary\n",
    "This week, we mostly reviewed previous concepts like data abstraction. It was helpful review these concepts however, and I think going over these ideas again helped me remember what we learned last tri. The concepts that where the most helpful to review for me where data abstraction and sequences. It's easy to forget specific vocabulary and college board lessons, but a large scale lesson of each was easier to remember. Overall this week was mostly review but it was helpful because I forgot some stuff from tri 1.\n",
    "\n",
    "## Scores\n",
    "|Group|Score|\n",
    "| --- | --- |\n",
    "|WiStem| 1/1 | \n",
    "|Tri2Group|0.9/1|\n",
    "|Total|1.9/2|\n",
    "\n",
    "|Group|Score|\n",
    "| --- | --- |\n",
    "|Group 3| 0.9 /1 | \n",
    "|Group 4 |1/1|\n",
    "|Total|1.9/2|\n",
    "\n",
    "# Peer lesson vocab\n",
    "\n",
    "- Variables: A holder for values\n",
    "- Data Types: Different types of data that a variable can hold\n",
    "- Assignment Operators: How you assign a variables' value\n",
    "- Lists2D: A list that holds other lists\n",
    "- Lists: A variable that holds other variables\n",
    "- Dictionaries: A list that's indexes are strings\n",
    "- Class: A holder for code\n",
    "- Binary Numbers: The lowest level of code in a computer. It is base-2, using 0s and 1s\n",
    "- Unsigned Integer: An integer type variable that is not holding any value\n",
    "- Signed Integer: An integer type variable that is holding a value\n",
    "- Floating Point: A type of variable that allows a mix of very small and large numbers\n",
    "- Boolean: A variable that holds a true or false value\n",
    "- ASCII: A type of character encoding \n",
    "- Unicode: A way for numbers to represent a variety of characters\n",
    "- RGB: Pixels can be colored by using red, blue, and green light\n",
    "- Algorithms: A way to iterate through the same steps to complete a task \n",
    "- Binary Numbers: The lowest level of code in a computer. It is base-2, using 0s and 1s\n",
    "- Unsigned Integer: An integer type variable that is not holding any value\n",
    "- Signed Integer: An integer type variable that is holding a value\n",
    "- Assignment Operators: How you assign a variables' value"
   ]
  }
 ],
 "metadata": {
  "kernelspec": {
   "display_name": "Python 3.10.6 64-bit",
   "language": "python",
   "name": "python3"
  },
  "language_info": {
   "name": "python",
   "version": "3.10.6 (main, Aug 11 2022, 13:36:31) [Clang 13.1.6 (clang-1316.0.21.2.5)]"
  },
  "orig_nbformat": 4,
  "vscode": {
   "interpreter": {
    "hash": "b0fa6594d8f4cbf19f97940f81e996739fb7646882a419484c72d19e05852a7e"
   }
  }
 },
 "nbformat": 4,
 "nbformat_minor": 2
}
