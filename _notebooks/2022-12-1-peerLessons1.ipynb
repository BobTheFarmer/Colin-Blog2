{
 "cells": [
  {
   "cell_type": "markdown",
   "metadata": {},
   "source": [
    "# Week1 peer teaching summary\n",
    "> A brief blog about week1 of peer grading\n",
    "- categories: [ipynb]\n",
    "- comments: true"
   ]
  },
  {
   "cell_type": "markdown",
   "metadata": {},
   "source": [
    "This week, we mostly reviewed previous concepts like data abstraction. It was helpful review these concepts however, and I think going over these ideas again helped me remember what we learned last tri. The concepts that where the most helpful to review for me where data abstraction and sequences. It's easy to forget specific vocabulary and college board lessons, but a large scale lesson of each was easier to remember. Overall this week was mostly review but it was helpful because I forgot some stuff from tri 1."
   ]
  }
 ],
 "metadata": {
  "kernelspec": {
   "display_name": "Python 3.10.6 64-bit",
   "language": "python",
   "name": "python3"
  },
  "language_info": {
   "name": "python",
   "version": "3.10.6"
  },
  "orig_nbformat": 4,
  "vscode": {
   "interpreter": {
    "hash": "b0fa6594d8f4cbf19f97940f81e996739fb7646882a419484c72d19e05852a7e"
   }
  }
 },
 "nbformat": 4,
 "nbformat_minor": 2
}
