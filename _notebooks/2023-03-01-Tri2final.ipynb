{
 "cells": [
  {
   "attachments": {},
   "cell_type": "markdown",
   "metadata": {},
   "source": [
    "#  Tri 2 CB final\n",
    "- toc: true"
   ]
  },
  {
   "attachments": {},
   "cell_type": "markdown",
   "metadata": {},
   "source": [
    "# Score\n",
    "![](my_icons/tri2finalscore.png)\n"
   ]
  },
  {
   "attachments": {},
   "cell_type": "markdown",
   "metadata": {},
   "source": [
    "# What went wrong?\n",
    "## Question 5\n",
    "I selected C because I though that the robot would be faster than a human at navigating the call to the correct department but I realize now that was not correct\n",
    "## Question 8\n",
    "Digital certificates cannot be used to verify that the connection to a Web site is fault tolerant because they are unrelated\n",
    "## Question 13\n",
    "Statement III indicates that it would be better for the author to use a Creative Commons license because the author wants to allow permission to use and modify the e-book.\n",
    "## Question 21\n",
    "The program does display the correct sum of 10 for the test case [0, 1, 4, 5].\n",
    "## Question 28\n",
    "This code segment will remove only the first 2 characters of oldString.\n",
    "## Question 29\n",
    "The fifth statement assigns the value false to c.\n",
    "## Question 37 \n",
    "The value \"TWO\" is displayed only when x is greater than 10 and y is greater than or equal to 10. For example, \"TWO\" will be displayed if x is 15 and y is 10.\n",
    "## Question 49\n",
    "A simulation is often used when a real-world scenario is too impractical to test. A benefit of using a simulation is that it allows for rapid testing.\n",
    "\n",
    "# Review \n",
    "> A quiz. Take what went wrong and answer how you can fix it in the future\n",
    "<html>\n",
    "  <head>\n",
    "    <style>\n",
    "      /* Styles for buttons */\n",
    "      .button {\n",
    "        width: 200px;\n",
    "        height: 50px;\n",
    "        font-size: 14px;\n",
    "        border: none;\n",
    "        margin-bottom: 10px;\n",
    "      }\n",
    "      .correct {\n",
    "        background-color: green;\n",
    "        color: white;\n",
    "      }\n",
    "      .incorrect {\n",
    "        background-color: red;\n",
    "        color: white;\n",
    "      }\n",
    "    </style>\n",
    "  </head>\n",
    "  <body>\n",
    "  <div id=\"quiz\">\n",
    "  - What are some common errors made?\n",
    "    <div class=\"row\">\n",
    "      <button class=\"button\" onclick=\"this.classList.add('incorrect')\">Spending too much time on each question</button>\n",
    "      <button class=\"button\" onclick=\"this.classList.add('correct')\">Not checking the code by going through each step to check answers*!</button>\n",
    "      <button class=\"button\" onclick=\"this.classList.add('incorrect')\">Not considering different perspectives</button>\n",
    "      <button class=\"button\" onclick=\"this.classList.add('correct')\">Not considering other options after finding one that may be correct</button>\n",
    "    </div>\n",
    "  - How could these errors be fixed?\n",
    "    <div class=\"row\">\n",
    "      <button class=\"button\" onclick=\"this.classList.add('incorrect')\">Go faster that way you have more time to check answers</button>\n",
    "      <button class=\"button\" onclick=\"this.classList.add('correct')\">Spend a even amount of time both choosing and reviewing answers</button>\n",
    "    </div>\n",
    "  </div>\n",
    "  </body>\n",
    "</html>"
   ]
  }
 ],
 "metadata": {
  "kernelspec": {
   "display_name": "Python 3",
   "language": "python",
   "name": "python3"
  },
  "language_info": {
   "codemirror_mode": {
    "name": "ipython",
    "version": 3
   },
   "file_extension": ".py",
   "mimetype": "text/x-python",
   "name": "python",
   "nbconvert_exporter": "python",
   "pygments_lexer": "ipython3",
   "version": "3.11.2"
  },
  "orig_nbformat": 4,
  "vscode": {
   "interpreter": {
    "hash": "5c7b89af1651d0b8571dde13640ecdccf7d5a6204171d6ab33e7c296e100e08a"
   }
  }
 },
 "nbformat": 4,
 "nbformat_minor": 2
}
