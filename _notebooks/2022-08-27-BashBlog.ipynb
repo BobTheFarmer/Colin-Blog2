{
 "cells": [
  {
   "cell_type": "markdown",
   "metadata": {},
   "source": [
    "# Using Bash!\n",
    "> Using bash to help organize your computer by making some helpful school folders and to check if you have Anaconda installed\n",
    "\n",
    "# Using Bash to check if Anaconda is installed: "
   ]
  },
  {
   "cell_type": "code",
   "execution_count": 1,
   "metadata": {
    "vscode": {
     "languageId": "shellscript"
    }
   },
   "outputs": [
    {
     "name": "stdout",
     "output_type": "stream",
     "text": [
      "You have anaconda! :)\n"
     ]
    }
   ],
   "source": [
    "\n",
    "#Define Anaconda's location\n",
    "anaconda=$HOME/opt/anaconda3/Anaconda-Navigator.app\n",
    "\n",
    "#Check if it's installed\n",
    "cd\n",
    "if [ ! -d $anaconda ]\n",
    "then \n",
    "    echo \"Sadly, you do not have anaconda installed, or it is in the wrong location :(\"\n",
    "fi\n",
    "    echo \"You have anaconda! :)\""
   ]
  },
  {
   "cell_type": "markdown",
   "metadata": {},
   "source": [
    "# Using bash to help organize your computer with some helpful school folders"
   ]
  },
  {
   "cell_type": "code",
   "execution_count": 3,
   "metadata": {
    "vscode": {
     "languageId": "shellscript"
    }
   },
   "outputs": [
    {
     "name": "stdout",
     "output_type": "stream",
     "text": [
      "Directory /Users/colin/school does not exist, making directory /Users/colin/school\n",
      "Directory /Users/colin/school exists\n",
      "Directory /Users/colin/school/computer_science does not exist, making directory /Users/colin/school/computer_science\n",
      "Directory /Users/colin/school/computer_science exists\n",
      "Directory /Users/colin/school/computer_science does not exist, making directory /Users/colin/school/math\n",
      "Directory /Users/colin/school/math exists\n",
      "Directory /Users/colin/school/chemistry does not exist, making directory /Users/colin/school/chemistry\n",
      "Directory /Users/colin/school/chemistry exists\n",
      "Directory /Users/colin/school/social_studies does not exist, making directory /Users/colin/school/social_studies\n",
      "Directory /Users/colin/school/social_studies exists\n",
      "Directory /Users/colin/school/spanish does not exist, making directory /Users/colin/school/spanish\n",
      "Directory /Users/colin/school/spanish exists\n"
     ]
    }
   ],
   "source": [
    "#Define and make a main school folder\n",
    "school=$HOME/school\n",
    "\n",
    "cd\n",
    "if [ ! -d $school ]\n",
    "then \n",
    "    echo \"Directory $school does not exist, making directory $school\"\n",
    "    mkdir -p $school\n",
    "fi\n",
    "    echo \"Directory $school exists\"\n",
    "\n",
    "#Define and make subfolders\n",
    "\n",
    "#Define them all\n",
    "cs=$HOME/school/computer_science\n",
    "math=$HOME/school/math\n",
    "chem=$HOME/school/chemistry\n",
    "ss=$HOME/school/social_studies\n",
    "spanish=$HOME/school/spanish\n",
    "\n",
    "\n",
    "#Make cs\n",
    "if [ ! -d $cs ]\n",
    "then \n",
    "    echo \"Directory $cs does not exist, making directory $cs\"\n",
    "    mkdir -p $cs\n",
    "fi\n",
    "    echo \"Directory $cs exists\"\n",
    "\n",
    "#Make math\n",
    "if [ ! -d $math ]\n",
    "then \n",
    "    echo \"Directory $cs does not exist, making directory $math\"\n",
    "    mkdir -p $math\n",
    "fi\n",
    "    echo \"Directory $math exists\"\n",
    "\n",
    "#Make chem\n",
    "if [ ! -d $chem ]\n",
    "then \n",
    "    echo \"Directory $chem does not exist, making directory $chem\"\n",
    "    mkdir -p $chem\n",
    "fi\n",
    "    echo \"Directory $chem exists\"\n",
    "#Make ss\n",
    "if [ ! -d $ss ]\n",
    "then \n",
    "    echo \"Directory $ss does not exist, making directory $ss\"\n",
    "    mkdir -p $ss\n",
    "fi\n",
    "    echo \"Directory $ss exists\"\n",
    "#Make spanish\n",
    "if [ ! -d $spanish ]\n",
    "then \n",
    "    echo \"Directory $spanish does not exist, making directory $spanish\"\n",
    "    mkdir -p $spanish\n",
    "fi\n",
    "    echo \"Directory $spanish exists\""
   ]
  },
  {
   "cell_type": "markdown",
   "metadata": {},
   "source": [
    "Here's an image of the folder the above code created:\n",
    "\n",
    "<img src=\"{{folderMadeByBash.png\" alt=\"Folder Made by Bash\">"
   ]
  }
 ],
 "metadata": {
  "kernelspec": {
   "display_name": "Bash",
   "language": "bash",
   "name": "bash"
  },
  "language_info": {
   "codemirror_mode": "shell",
   "file_extension": ".sh",
   "mimetype": "text/x-sh",
   "name": "bash"
  },
  "orig_nbformat": 4,
  "vscode": {
   "interpreter": {
    "hash": "b0fa6594d8f4cbf19f97940f81e996739fb7646882a419484c72d19e05852a7e"
   }
  }
 },
 "nbformat": 4,
 "nbformat_minor": 2
}
