{
 "cells": [
  {
   "cell_type": "code",
   "execution_count": null,
   "metadata": {},
   "outputs": [],
   "source": []
  },
  {
   "cell_type": "code",
   "execution_count": 4,
   "metadata": {},
   "outputs": [
    {
     "name": "stdout",
     "output_type": "stream",
     "text": [
      "Successfully liked joke 1 (like count: 4200)\n",
      "Successfully liked joke 1 (like count: 4201)\n",
      "Successfully liked joke 1 (like count: 4202)\n",
      "Successfully liked joke 1 (like count: 4203)\n",
      "Successfully liked joke 1 (like count: 4204)\n",
      "Successfully liked joke 1 (like count: 4205)\n",
      "Successfully liked joke 1 (like count: 4206)\n",
      "Successfully liked joke 1 (like count: 4207)\n",
      "Successfully liked joke 1 (like count: 4213)\n",
      "Successfully liked joke 1 (like count: 4214)\n",
      "Successfully liked joke 1 (like count: 4215)\n",
      "Successfully liked joke 1 (like count: 4216)\n",
      "Successfully liked joke 1 (like count: 4222)\n",
      "Successfully liked joke 1 (like count: 4223)\n",
      "Successfully liked joke 1 (like count: 4224)\n",
      "Successfully liked joke 1 (like count: 4225)\n",
      "Successfully liked joke 1 (like count: 4231)\n",
      "Successfully liked joke 1 (like count: 4232)\n",
      "Successfully liked joke 1 (like count: 4233)\n",
      "Successfully liked joke 1 (like count: 4234)\n",
      "Successfully liked joke 1 (like count: 4240)\n",
      "Successfully liked joke 1 (like count: 4241)\n",
      "Successfully liked joke 1 (like count: 4242)\n",
      "Successfully liked joke 1 (like count: 4244)\n",
      "Successfully liked joke 1 (like count: 4249)\n",
      "Successfully liked joke 1 (like count: 4250)\n",
      "Successfully liked joke 1 (like count: 4251)\n",
      "Successfully liked joke 1 (like count: 4253)\n",
      "Successfully liked joke 1 (like count: 4258)\n",
      "Successfully liked joke 1 (like count: 4259)\n",
      "Successfully liked joke 1 (like count: 4260)\n",
      "Successfully liked joke 1 (like count: 4264)Successfully liked joke 1 (like count: 4265)\n",
      "\n",
      "Successfully liked joke 1 (like count: 4268)\n",
      "Successfully liked joke 1 (like count: 4269)\n",
      "Successfully liked joke 1 (like count: 4276)Successfully liked joke 1 (like count: 4274)\n",
      "\n"
     ]
    }
   ],
   "source": [
    "import requests\n",
    "from concurrent.futures import ThreadPoolExecutor\n",
    "import os\n",
    "\n",
    "url = \"https://flask.nighthawkcodingsociety.com/api/jokes/like/{joke_id}\"\n",
    "joke_id = \"1\"\n",
    "\n",
    "def like_joke(joke_id):\n",
    "    requests.put(url.format(joke_id=joke_id))\n",
    "\n",
    "max_workers = max(1, int(os.cpu_count()*2 / 3))\n",
    "\n",
    "with ThreadPoolExecutor(max_workers=max_workers) as executor:\n",
    "    for x in range(1000):\n",
    "        executor.submit(like_joke, joke_id)\n"
   ]
  }
 ],
 "metadata": {
  "kernelspec": {
   "display_name": "base",
   "language": "python",
   "name": "python3"
  },
  "language_info": {
   "codemirror_mode": {
    "name": "ipython",
    "version": 3
   },
   "file_extension": ".py",
   "mimetype": "text/x-python",
   "name": "python",
   "nbconvert_exporter": "python",
   "pygments_lexer": "ipython3",
   "version": "3.9.12"
  },
  "orig_nbformat": 4
 },
 "nbformat": 4,
 "nbformat_minor": 2
}
