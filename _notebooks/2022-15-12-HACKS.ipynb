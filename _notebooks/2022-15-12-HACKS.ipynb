{
 "cells": [
  {
   "attachments": {},
   "cell_type": "markdown",
   "metadata": {},
   "source": [
    "# Homework/Hacks for Sections 17-18\n",
    "> Homework/Hacks for Sections 17-18\n",
    "\n",
    "- toc: true \n",
    "- badges: true\n",
    "- comments: true"
   ]
  },
  {
   "cell_type": "markdown",
   "metadata": {},
   "source": [
    "### HACK 1"
   ]
  },
  {
   "attachments": {},
   "cell_type": "markdown",
   "metadata": {},
   "source": [
    "Please write a short 1-2 sentence explanation describing the difference between decidable and undecidable problems. Make sure to provide at least one example of each.\n",
    "\n",
    "A decidable problem is a problem that is possible to determine whether a given solution is correct, while an undecidable problem is a problem that is not possible to determine whether a given solution is correct. An example of a decidable problem is solving an equation, while an example of an undecidable problem is determining whether a given computer program will run forever or halt."
   ]
  },
  {
   "cell_type": "markdown",
   "metadata": {},
   "source": [
    "### HACK 2"
   ]
  },
  {
   "attachments": {},
   "cell_type": "markdown",
   "metadata": {},
   "source": [
    "Which of the following is a 3 step algorithm?\n",
    "\n",
    "A. 2 x 6 x 8\n",
    "\n",
    "B. 4^5\n",
    "\n",
    "C. (3 x 8)^2\n",
    "\n",
    "D. None of the above\n",
    "\n",
    "E. All of the above\n",
    "\n",
    "#### E, A is 2 steps, 2 * 6 then 12 * 8. B is 4 steps because you have to multiply 4 times. C is 2 steps as well, 3 * 8 then 24*24."
   ]
  },
  {
   "cell_type": "markdown",
   "metadata": {},
   "source": [
    "### HACK 3: Rewrite this JavaScript Code in a More Efficient Way (Hint: Use Binary Search)"
   ]
  },
  {
   "attachments": {},
   "cell_type": "markdown",
   "metadata": {},
   "source": [
    "```\n",
    "function peak_finder(array) {\n",
    "  // Find the middle element\n",
    "  let middle = Math.floor(array.length / 2);\n",
    "  \n",
    "  // If the middle element is greater than or equal to its neighbors, it is a peak\n",
    "  if (array[middle] >= array[middle - 1] && array[middle] >= array[middle + 1]) {\n",
    "    return `The ${middle} indexed number, ${array[middle]} is a peak`;\n",
    "  }\n",
    "  // If the middle element is less than its left neighbor, the peak is to the left\n",
    "  else if (array[middle] < array[middle - 1]) {\n",
    "    return peak_finder(array.slice(0, middle));\n",
    "  }\n",
    "  // Otherwise, the peak is to the right\n",
    "  else {\n",
    "    return peak_finder(array.slice(middle + 1));\n",
    "  }\n",
    "}\n",
    "\n",
    "\n",
    "```"
   ]
  },
  {
   "cell_type": "markdown",
   "metadata": {},
   "source": [
    "### HACK 4: Rewrite this Python Code in a More Efficient Way"
   ]
  },
  {
   "cell_type": "code",
   "execution_count": 27,
   "metadata": {},
   "outputs": [
    {
     "name": "stdout",
     "output_type": "stream",
     "text": [
      "[0, 1, 2, 3, 4, 5, 6, 7, 8, 9]\n"
     ]
    }
   ],
   "source": [
    "def merge_sort(data):\n",
    "    # create a new empty list\n",
    "    sorted_lst = []\n",
    "\n",
    "    # loop over the unsorted list until it is empty\n",
    "    while len(data) > 0:\n",
    "        min_val = min(data)\n",
    "        data.remove(min_val)\n",
    "        sorted_lst.append(min_val)\n",
    "    \n",
    "    print(sorted_lst)\n",
    "    \n",
    "if __name__ == '__main__':\n",
    "    data2 = [9, 1, 7, 6, 2, 8, 5, 3, 4, 0]\n",
    "    merge_sort(data2)"
   ]
  },
  {
   "cell_type": "markdown",
   "metadata": {},
   "source": [
    "### HACK 5: Rewrite this Python Code in a More Efficient Way"
   ]
  },
  {
   "cell_type": "code",
   "execution_count": 29,
   "metadata": {},
   "outputs": [
    {
     "name": "stdout",
     "output_type": "stream",
     "text": [
      "array('i', [1, 2, 3])\n",
      "array('i', [2, 1, 3])\n",
      "array('i', [3, 1, 2])\n",
      "array('i', [1, 3, 2])\n",
      "array('i', [2, 3, 1])\n",
      "array('i', [3, 2, 1])\n"
     ]
    }
   ],
   "source": [
    "from array import array\n",
    "\n",
    "def faster_heap_permutation(data, n):\n",
    "    if n == 1:\n",
    "        print(data)\n",
    "        return\n",
    "\n",
    "    for i in range(n):\n",
    "        heap_permutation(data, n - 1)\n",
    "        if n % 2 == 0:\n",
    "            data.swap(i, n-1)\n",
    "        else:\n",
    "            data.swap(0, n-1)\n",
    "\n",
    "if __name__ == '__main__':\n",
    "    data = array('i', [1, 2, 3])\n",
    "    heap_permutation(data, len(data))\n"
   ]
  },
  {
   "attachments": {},
   "cell_type": "markdown",
   "metadata": {},
   "source": [
    "# Extra notes\n",
    "\n",
    "Algorithm efficiency refers to how well a computer program performs in terms of its usage of resources such as time and memory. An efficient algorithm can complete its tasks quickly and with minimal use of resources, while an inefficient algorithm may take a long time to complete or use up a large amount of memory.\n",
    "\n",
    "Undecidable problems are problems for which there is no known algorithm that can always produce a correct solution. These problems are typically impossible to solve using a computer program, as there is no way to guarantee that the program will always find the correct solution. Examples of undecidable problems include the halting problem and the problem of determining whether a given statement in a formal system is true or false.\n",
    "\n",
    "In summary, algorithm efficiency is a measure of how well a computer program performs, while undecidable problems are those that cannot be solved using a computer program."
   ]
  }
 ],
 "metadata": {
  "kernelspec": {
   "display_name": "Python 3",
   "language": "python",
   "name": "python3"
  },
  "language_info": {
   "codemirror_mode": {
    "name": "ipython",
    "version": 3
   },
   "file_extension": ".py",
   "mimetype": "text/x-python",
   "name": "python",
   "nbconvert_exporter": "python",
   "pygments_lexer": "ipython3",
   "version": "3.10.6"
  },
  "orig_nbformat": 4,
  "vscode": {
   "interpreter": {
    "hash": "b0fa6594d8f4cbf19f97940f81e996739fb7646882a419484c72d19e05852a7e"
   }
  }
 },
 "nbformat": 4,
 "nbformat_minor": 2
}
