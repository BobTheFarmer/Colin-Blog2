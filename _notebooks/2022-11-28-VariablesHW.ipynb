{
 "cells": [
  {
   "cell_type": "markdown",
   "metadata": {},
   "source": [
    "# More HW 1, my name is Colin Weis\n",
    "- categories: [ipynb]\n",
    "- comments: true"
   ]
  },
  {
   "cell_type": "markdown",
   "metadata": {},
   "source": [
    "## Part 1 - Video 1\n",
    "|Question| My Answer |\n",
    "| ----------- | ----------- |\n",
    "| 1 |3|\n",
    "| 2 | 2 |\n",
    "| 3 | 4 |\n",
    "| 4 | 2 |\n",
    "| 5 | 2 |\n",
    "| 6 | 3 |\n",
    "| 7 | thingy is wrong but 1 |\n",
    "\n",
    "\n",
    "## Part 2 - Extra binary hacks\n",
    "|Question| My Answer |\n",
    "| ----------- | ----------- |\n",
    "| 1 | ~~8~~ 7|\n",
    "| 2 | 11 |\n",
    "| 3 | 107 |\n",
    "| 4 | 1100 |\n",
    "| 5 | 101100 |\n",
    "| 6 | 11111110 |\n",
    "## Part 3 - Code segments\n",
    "|Question| My Answer |\n",
    "| ----------- | ----------- |\n",
    "| 1 |4|\n",
    "| 2 | 1 |\n",
    "| 3 | ~~2~~ 3 |\n",
    "| 4 | 4 |\n",
    "| 5 | 4 |\n",
    "| 6 | 2 |\n",
    "| 7 | 3 |\n",
    "| 8 | 2 |\n",
    "| 9 | 6 |\n",
    "\n",
    "# There is more on the other doc\n",
    "\n"
   ]
  }
 ],
 "metadata": {
  "kernelspec": {
   "display_name": "Python 3.10.6 64-bit",
   "language": "python",
   "name": "python3"
  },
  "language_info": {
   "name": "python",
   "version": "3.10.6"
  },
  "orig_nbformat": 4,
  "vscode": {
   "interpreter": {
    "hash": "b0fa6594d8f4cbf19f97940f81e996739fb7646882a419484c72d19e05852a7e"
   }
  }
 },
 "nbformat": 4,
 "nbformat_minor": 2
}
