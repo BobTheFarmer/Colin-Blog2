{
 "cells": [
  {
   "cell_type": "markdown",
   "metadata": {},
   "source": [
    "# Using javascript and HTML format for tables\n",
    "> Post that uses HTML fragments and JavaScript data to build a table which holds your important APCSP data\n",
    "\n",
    "- categories: [week6,ipynb,javascript]\n",
    "- comments: true\n",
    "- permalink: /javascriptTables"
   ]
  },
  {
   "cell_type": "markdown",
   "metadata": {},
   "source": [
    "{% include nav_frontend.html %}"
   ]
  },
  {
   "cell_type": "code",
   "execution_count": 34,
   "metadata": {},
   "outputs": [
    {
     "data": {
      "text/html": [
       "<div style='display:inline-block;border: 2px solid grey;box-shadow: 0.8em 0.4em 0.4em grey;'><table><tr><th><mark>Name</mark></th><th><mark>GitHub</mark></th><th><mark>Fastpages</mark></th></tr><tr><td>Colin<td>Colin's Github: https://github.com/BobTheFarmer/Colin-Blog2</td><td>Colin's Fastpages: https://bobthefarmer.github.io/Colin-Blog2/</td><tr></td><tr><td>Orlando<td>Orlando's Github: https://github.com/Orlando-c</td><td>Orlando's Fastpages: https://orlando-c.github.io/que-pro/</td><tr></td><tr><td>Ethan<td>Ethan's Github: https://github.com/dolphinalt/APCSP-Fastpages</td><td>Ethan's Fastpages: https://github.com/dolphinalt/APCSP-Fastpages</td><tr></td><tr><td>Colin<td>Colin's Github: https://github.com/BobTheFarmer/Colin-Blog2</td><td>Colin's Fastpages: https://bobthefarmer.github.io/Colin-Blog2/</td><tr></td><tr><td>Orlando<td>Orlando's Github: https://github.com/Orlando-c</td><td>Orlando's Fastpages: https://orlando-c.github.io/que-pro/</td><tr></td><tr><td>Ethan<td>Ethan's Github: https://github.com/dolphinalt/APCSP-Fastpages</td><td>Ethan's Fastpages: https://github.com/dolphinalt/APCSP-Fastpages</td><tr></td></table></div>"
      ]
     },
     "execution_count": 34,
     "metadata": {},
     "output_type": "execute_result"
    }
   ],
   "source": [
    "//Define data\n",
    "function Data(name, github, fastpages) {\n",
    "    this.name = name;\n",
    "    this.git = github;\n",
    "    this.fastpages = fastpages;\n",
    "}\n",
    "\n",
    "Data.prototype.setRole = function(role) {\n",
    "    this.role = role;\n",
    "}\n",
    "Data.prototype.toJSON = function() {\n",
    "    const obj = {name: this.name, github: this.github, fastpages: this.fastpages};\n",
    "    const json = JSON.stringify(obj);\n",
    "    return json;\n",
    "}\n",
    "\n",
    "//Make new data and put in a list\n",
    "var colin = new Data(\"Colin\", \"https://github.com/BobTheFarmer/Colin-Blog2\", \"https://bobthefarmer.github.io/Colin-Blog2/\");\n",
    "var orlando = new Data(\"Orlando\", \"https://github.com/Orlando-c\", \"https://orlando-c.github.io/que-pro/\");\n",
    "var ethan = new Data(\"Ethan\", \"https://github.com/dolphinalt/APCSP-Fastpages\", \"https://github.com/dolphinalt/APCSP-Fastpages\")\n",
    "var jaden = new Data(\"Jaden\", \"https://raisinbran25.github.io/csp2/\", \"https://github.com/raisinbran25/csp2\")\n",
    "allData = [colin, orlando, ethan];\n",
    "\n",
    "//Make a object to hold the data\n",
    "function DataHolder(allData) {\n",
    "    this.allData = allData;\n",
    "    this.allData.forEach(data => { this.allData.push(data); });\n",
    "    this.json = [];\n",
    "    this.allData.forEach(data => this.json.push(data.toJSON()));\n",
    "}\n",
    "\n",
    "//Use object to hold data\n",
    "dataHolder = new DataHolder(allData);\n",
    "\n",
    "\n",
    "\n",
    "//HTML conversion method\n",
    "DataHolder.prototype._toHtml = function() {\n",
    "    var style = (\n",
    "      \"display:inline-block;\" +\n",
    "      \"border: 2px solid grey;\" +\n",
    "      \"box-shadow: 0.8em 0.4em 0.4em grey;\"\n",
    "    );\n",
    "  \n",
    "    var table = \"\";\n",
    "    table += \"<tr>\";\n",
    "    table += \"<th><mark>\" + \"Name\" + \"</mark></th>\";\n",
    "    table += \"<th><mark>\" + \"GitHub\" + \"</mark></th>\";\n",
    "    table += \"<th><mark>\" + \"Fastpages\" + \"</mark></th>\";\n",
    "    table += \"</tr>\";\n",
    "\n",
    "    //Go through all data and each data's properties in a table format\n",
    "    for (var row of allData) {\n",
    "        table += \"<tr>\";\n",
    "        table += \"<td>\" + row.name;\n",
    "        table += \"<td>\" + row.name + \"'s Github: \" + row.git + \"</td>\";\n",
    "        table += \"<td>\" + row.name + \"'s Fastpages: \" + row.fastpages + \"</td>\";\n",
    "        table += \"<tr>\" + \"</td>\"; \n",
    "    }\n",
    "  \n",
    "     //Return table\n",
    "    return (\n",
    "      \"<div style='\" + style + \"'>\" +\n",
    "        \"<table>\" +\n",
    "            table +\n",
    "        \"</table>\" +\n",
    "      \"</div>\"\n",
    "    );\n",
    "  };\n",
    "  \n",
    "  // IJavaScript HTML processor receive parameter of defined HTML fragment\n",
    "  $$.html(dataHolder._toHtml());\n",
    "  console.log(colin.getGithub());"
   ]
  }
 ],
 "metadata": {
  "kernelspec": {
   "display_name": "JavaScript (Node.js)",
   "language": "javascript",
   "name": "javascript"
  },
  "language_info": {
   "file_extension": ".js",
   "mimetype": "application/javascript",
   "name": "javascript",
   "version": "10.13.0"
  },
  "orig_nbformat": 4
 },
 "nbformat": 4,
 "nbformat_minor": 2
}
