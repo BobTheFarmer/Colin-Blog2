{
 "cells": [
  {
   "attachments": {},
   "cell_type": "markdown",
   "metadata": {},
   "source": [
    "# N@TM\n",
    "> Night at the museum final blog\n",
    "- categories: [ipynb]\n",
    "- comments: true\n",
    "- toc: true"
   ]
  },
  {
   "attachments": {},
   "cell_type": "markdown",
   "metadata": {},
   "source": [
    "# What is N@TM?\n",
    "\n",
    "\n",
    "N@TM stands for N@TM, and is an event hosted by Del Norte, where you can view art from all sorts of classes. In this blog I will go over some of the art and projects I saw from different classes during my visit, organized by class. I will also go over my new inspiration."
   ]
  },
  {
   "attachments": {},
   "cell_type": "markdown",
   "metadata": {},
   "source": [
    "# N@TM\n",
    "\n",
    "## 3D Animation\n",
    "\n",
    "3D Animation is a very cool class and I liked looking at the art. It was interesting because of the variety 3D animation allows. There were all sorts of art, like:\n",
    "- Realism\n",
    "- Abstract \n",
    "- A mix between both\n",
    "It was also cool because it is another class that deals with computers\n",
    "\n",
    "## Visual Arts\n",
    "\n",
    "\n",
    "Visual arts was the class I spent the longest in excluding computers science. The art was very impressive and I enjoyed this section a lot. This art inspired me to be more thoghtful in my work for this class.\n",
    "\n",
    "## Computer Science\n",
    "\n",
    "The various computer science projects that other groups made were very cool and impressive. One of my favorite projects was Code hoots. It had random computer science questions that the user got to answer. The project was very polished, you could even make an account and the buttons had custom animations. This project in particular inspires me to be more careful with my projects in the future.\n",
    "\n",
    "## Images\n",
    "\n",
    "![](my_icons/NATM4.png)\n",
    "![](my_icons/NATM5.png)\n",
    "![](my_icons/NATM6.png)\n"
   ]
  },
  {
   "attachments": {},
   "cell_type": "markdown",
   "metadata": {},
   "source": []
  }
 ],
 "metadata": {
  "kernelspec": {
   "display_name": "Python 3.10.6 64-bit",
   "language": "python",
   "name": "python3"
  },
  "language_info": {
   "name": "python",
   "version": "3.10.10"
  },
  "orig_nbformat": 4,
  "vscode": {
   "interpreter": {
    "hash": "b0fa6594d8f4cbf19f97940f81e996739fb7646882a419484c72d19e05852a7e"
   }
  }
 },
 "nbformat": 4,
 "nbformat_minor": 2
}
